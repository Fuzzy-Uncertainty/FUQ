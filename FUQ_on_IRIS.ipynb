{
 "cells": [
  {
   "cell_type": "code",
   "execution_count": 2,
   "metadata": {},
   "outputs": [],
   "source": [
    "import numpy as np\n",
    "from sklearn.datasets import load_iris\n",
    "iris = load_iris()\n",
    "\n",
    "# Split the dataset into features (X) and target variable (y)\n",
    "X = iris.data[:, 1:]  # Using only the last 3 features (excluding sepal length)\n",
    "y = iris.data[:, 0]   # Sepal length\n",
    "\n",
    "\n"
   ]
  },
  {
   "cell_type": "code",
   "execution_count": 3,
   "metadata": {},
   "outputs": [
    {
     "data": {
      "text/plain": [
       "(150,)"
      ]
     },
     "execution_count": 3,
     "metadata": {},
     "output_type": "execute_result"
    }
   ],
   "source": [
    "y.shape"
   ]
  },
  {
   "cell_type": "code",
   "execution_count": 7,
   "metadata": {},
   "outputs": [],
   "source": [
    "\n",
    "from sklearn.model_selection import train_test_split\n",
    "from sklearn.preprocessing import MinMaxScaler\n",
    "import numpy as np\n",
    "\n",
    "X_train=X\n",
    "y_train=y\n"
   ]
  },
  {
   "cell_type": "code",
   "execution_count": 9,
   "metadata": {},
   "outputs": [],
   "source": [
    "scaler_X = MinMaxScaler()\n",
    "\n",
    "X_train_scaled = scaler_X.fit_transform(X_train)"
   ]
  },
  {
   "cell_type": "code",
   "execution_count": 10,
   "metadata": {},
   "outputs": [],
   "source": [
    "from sklearn.linear_model import LinearRegression\n",
    "model=LinearRegression()"
   ]
  },
  {
   "cell_type": "code",
   "execution_count": 15,
   "metadata": {},
   "outputs": [
    {
     "name": "stdout",
     "output_type": "stream",
     "text": [
      "Mean Squared Error: 0.10176343380434628\n"
     ]
    }
   ],
   "source": [
    "from sklearn.model_selection import LeaveOneOut\n",
    "from sklearn.metrics import r2_score, mean_squared_error\n",
    "loo=LeaveOneOut()\n",
    "predictions = []\n",
    "actual_values = []\n",
    "\n",
    "# Perform leave-one-out cross-validation\n",
    "for train_index, test_index in loo.split(X_train_scaled):\n",
    "    # Get training and test data for this fold\n",
    "    X_train_fold, X_test_fold = X_train_scaled[train_index], X_train_scaled[test_index]\n",
    "    y_train_fold, y_test_fold = y_train[train_index], y_train[test_index]\n",
    "    \n",
    "    # Fit the model on the training data\n",
    "    model.fit(X_train_fold, y_train_fold)\n",
    "    \n",
    "    # Make predictions on the test data\n",
    "    y_pred_fold = model.predict(X_test_fold)\n",
    "    \n",
    "    # Append predictions and actual values\n",
    "    predictions.append(y_pred_fold)\n",
    "    actual_values.append(y_test_fold)\n",
    "\n",
    "# Calculate mean squared error (MSE)\n",
    "mse = mean_squared_error(actual_values, predictions)\n",
    "print(\"Mean Squared Error:\", mse)"
   ]
  },
  {
   "cell_type": "code",
   "execution_count": 16,
   "metadata": {},
   "outputs": [
    {
     "data": {
      "text/plain": [
       "[array([5.01364579]),\n",
       " array([4.68511163]),\n",
       " array([4.75028053]),\n",
       " array([4.83050978]),\n",
       " array([5.08237285]),\n",
       " array([5.37642285]),\n",
       " array([4.90065599]),\n",
       " array([5.02165538]),\n",
       " array([4.63088808]),\n",
       " array([4.88121818]),\n",
       " array([5.21152637]),\n",
       " array([5.09793254]),\n",
       " array([4.7443088]),\n",
       " array([4.53939234]),\n",
       " array([5.17376842]),\n",
       " array([5.550225]),\n",
       " array([5.08116141]),\n",
       " array([4.95677625]),\n",
       " array([5.35775636]),\n",
       " array([5.229646]),\n",
       " array([5.15811987]),\n",
       " array([5.10534044]),\n",
       " array([4.80256622]),\n",
       " array([4.92764689]),\n",
       " array([5.31763479]),\n",
       " array([4.82819502]),\n",
       " array([4.98050133]),\n",
       " array([5.08394775]),\n",
       " array([4.94545791]),\n",
       " array([4.96691685]),\n",
       " array([4.89881828]),\n",
       " array([4.89951102]),\n",
       " array([5.55187131]),\n",
       " array([5.46931165]),\n",
       " array([4.82451535]),\n",
       " array([4.67095477]),\n",
       " array([4.93251427]),\n",
       " array([5.1424439]),\n",
       " array([4.62459057]),\n",
       " array([5.01972487]),\n",
       " array([4.8862476]),\n",
       " array([4.07710878]),\n",
       " array([4.75654907]),\n",
       " array([4.93254024]),\n",
       " array([5.46416539]),\n",
       " array([4.6301436]),\n",
       " array([5.36084208]),\n",
       " array([4.82446221]),\n",
       " array([5.21423477]),\n",
       " array([4.88306176]),\n",
       " array([6.48283792]),\n",
       " array([6.29397379]),\n",
       " array([6.50709667]),\n",
       " array([5.46494245]),\n",
       " array([6.10180421]),\n",
       " array([6.1528804]),\n",
       " array([6.44834798]),\n",
       " array([5.21076133]),\n",
       " array([6.27615172]),\n",
       " array([5.60665025]),\n",
       " array([5.08824764]),\n",
       " array([5.9526329]),\n",
       " array([5.54776533]),\n",
       " array([6.30014459]),\n",
       " array([5.57249947]),\n",
       " array([6.21025837]),\n",
       " array([6.16936997]),\n",
       " array([5.9687977]),\n",
       " array([5.62411307]),\n",
       " array([5.63736742]),\n",
       " array([6.3476009]),\n",
       " array([5.78857556]),\n",
       " array([6.1194052]),\n",
       " array([6.35174306]),\n",
       " array([6.0659594]),\n",
       " array([6.14584259]),\n",
       " array([6.29411961]),\n",
       " array([6.40510685]),\n",
       " array([6.10061219]),\n",
       " array([5.46967108]),\n",
       " array([5.50059233]),\n",
       " array([5.48489407]),\n",
       " array([5.71002456]),\n",
       " array([6.34483375]),\n",
       " array([6.17096011]),\n",
       " array([6.37555307]),\n",
       " array([6.36804744]),\n",
       " array([5.73283673]),\n",
       " array([5.99536659]),\n",
       " array([5.5981025]),\n",
       " array([6.01216544]),\n",
       " array([6.29377795]),\n",
       " array([5.71562397]),\n",
       " array([5.14168283]),\n",
       " array([5.87136214]),\n",
       " array([6.12440668]),\n",
       " array([6.00090107]),\n",
       " array([6.06795848]),\n",
       " array([4.99430672]),\n",
       " array([5.86384572]),\n",
       " array([6.89369421]),\n",
       " array([6.17894898]),\n",
       " array([6.81876944]),\n",
       " array([6.72077428]),\n",
       " array([6.70119086]),\n",
       " array([7.30791986]),\n",
       " array([5.75134277]),\n",
       " array([7.2038023]),\n",
       " array([6.59131726]),\n",
       " array([7.12959071]),\n",
       " array([6.44100921]),\n",
       " array([6.31308487]),\n",
       " array([6.53527372]),\n",
       " array([5.92369984]),\n",
       " array([5.97349414]),\n",
       " array([6.41799562]),\n",
       " array([6.71063612]),\n",
       " array([7.87172325]),\n",
       " array([7.14188443]),\n",
       " array([5.99872907]),\n",
       " array([6.69443911]),\n",
       " array([6.05337378]),\n",
       " array([7.29401563]),\n",
       " array([6.08295729]),\n",
       " array([6.88153144]),\n",
       " array([7.19140261]),\n",
       " array([6.07863814]),\n",
       " array([6.28379235]),\n",
       " array([6.48230013]),\n",
       " array([7.02180971]),\n",
       " array([6.9323948]),\n",
       " array([7.73973198]),\n",
       " array([6.42583078]),\n",
       " array([6.46363611]),\n",
       " array([6.78455238]),\n",
       " array([6.83530859]),\n",
       " array([6.72588765]),\n",
       " array([6.77933508]),\n",
       " array([6.21354611]),\n",
       " array([6.52650538]),\n",
       " array([6.50034408]),\n",
       " array([6.16838391]),\n",
       " array([6.17894898]),\n",
       " array([6.8438459]),\n",
       " array([6.65188289]),\n",
       " array([6.18992449]),\n",
       " array([5.96256366]),\n",
       " array([6.38093688]),\n",
       " array([6.63846715]),\n",
       " array([6.42926088])]"
      ]
     },
     "execution_count": 16,
     "metadata": {},
     "output_type": "execute_result"
    }
   ],
   "source": [
    "predictions"
   ]
  },
  {
   "cell_type": "code",
   "execution_count": 18,
   "metadata": {},
   "outputs": [],
   "source": [
    "import time as t\n",
    "from sklearn.model_selection import LeaveOneOut\n",
    "from sklearn.metrics import r2_score, mean_squared_error\n",
    "import GA_UQ\n",
    "import PSO_UQ \n",
    "import pandas as pd\n",
    "def train_one_leave_out_report(name,model):\n",
    "    loo=LeaveOneOut()\n",
    "    predictions = []\n",
    "    actual_values = []\n",
    "    \n",
    "    for train_index, test_index in loo.split(X_train_scaled):\n",
    "        # Get training and test data for this fold\n",
    "        X_train_fold, X_test_fold = X_train_scaled[train_index], X_train_scaled[test_index]\n",
    "        y_train_fold, y_test_fold = y_train[train_index], y_train[test_index]\n",
    "        \n",
    "        # Fit the model on the training data\n",
    "        model.fit(X_train_fold, y_train_fold)\n",
    "        \n",
    "        # Make predictions on the test data\n",
    "        y_pred_fold = model.predict(X_test_fold)\n",
    "        \n",
    "        # Append predictions and actual values\n",
    "        predictions.append(y_pred_fold[0])\n",
    "        actual_values.append(y_test_fold[0])\n",
    "    # Calculate R2 and RMSE for test set\n",
    "    test_r2 = r2_score(actual_values, predictions)\n",
    "    test_rmse = mean_squared_error(actual_values, predictions, squared=False)\n",
    "    \n",
    "    start_time=t.time()\n",
    "    solution,solution_fitness, ga_instance=GA_UQ.GA_UQ(predictions,actual_values)\n",
    "    ga_duration=t.time()-start_time\n",
    "    \n",
    "    start_time=t.time()\n",
    "    pos,cost,optimizer=PSO_UQ.PSO_UQ(predictions,actual_values)\n",
    "    pso_duration=t.time()-start_time\n",
    "    \n",
    "        \n",
    "    # Store results in a dictionary\n",
    "    result = {\n",
    "            \"Model\": name,\n",
    "            #\"Train R2\": train_r2,\n",
    "            #\"Train RMSE\": train_rmse,\n",
    "            \"R2\": test_r2,\n",
    "            \"RMSE\": test_rmse,\n",
    "            \"a_PSO\":pos[0],\n",
    "            \"b_PSO\":pos[1],\n",
    "            \"Fitness_PSO\":cost*-1,\n",
    "            \"time_PSO\":pso_duration,\n",
    "            \"a_GA\":solution[0],\n",
    "            \"b_GA\":solution[1],\n",
    "            \"Fitness_GA\":solution_fitness,\n",
    "            \"time_GA\":ga_duration\n",
    "    }\n",
    "    results.append(result)\n",
    "    print(result)\n",
    "    "
   ]
  },
  {
   "cell_type": "code",
   "execution_count": 18,
   "metadata": {},
   "outputs": [],
   "source": [
    "results = []"
   ]
  },
  {
   "cell_type": "code",
   "execution_count": 19,
   "metadata": {},
   "outputs": [
    {
     "name": "stderr",
     "output_type": "stream",
     "text": [
      "c:\\Users\\naima\\AppData\\Local\\Programs\\Python\\Python311\\Lib\\site-packages\\pygad\\pygad.py:748: UserWarning: The percentage of genes to mutate (mutation_percent_genes=10) resutled in selecting (0) genes. The number of genes to mutate is set to 1 (mutation_num_genes=1).\n",
      "If you do not want to mutate any gene, please set mutation_type=None.\n",
      "  warnings.warn(f\"The percentage of genes to mutate (mutation_percent_genes={mutation_percent_genes}) resutled in selecting ({mutation_num_genes}) genes. The number of genes to mutate is set to 1 (mutation_num_genes=1).\\nIf you do not want to mutate any gene, please set mutation_type=None.\")\n",
      "2024-03-13 10:45:51,186 - pyswarms.single.global_best - INFO - Optimize for 1000 iters with {'c1': 0.5, 'c2': 0.3, 'w': 0.9}\n",
      "pyswarms.single.global_best: 100%|██████████|1000/1000, best_cost=-.372\n",
      "2024-03-13 10:45:52,434 - pyswarms.single.global_best - INFO - Optimization finished | best cost: -0.3724996789083619, best pos: [0.37910324 0.81518107]\n"
     ]
    },
    {
     "name": "stdout",
     "output_type": "stream",
     "text": [
      "{'Model': 'Linear Regression', 'R2': 0.8520477902310161, 'RMSE': 0.3195723371369994, 'a_PSO': 0.37910323563215, 'b_PSO': 0.8151810717343011, 'Fitness_PSO': 0.3724996789083619, 'time_PSO': 1.2498133182525635, 'a_GA': 0.3920626148994266, 'b_GA': 0.817290083519866, 'Fitness_GA': 0.3727027013955109, 'time_GA': 0.09936070442199707}\n"
     ]
    }
   ],
   "source": [
    "from sklearn.linear_model import LinearRegression\n",
    "trainAndreport(\"Linear Regression\",LinearRegression())"
   ]
  },
  {
   "cell_type": "code",
   "execution_count": 20,
   "metadata": {},
   "outputs": [
    {
     "name": "stderr",
     "output_type": "stream",
     "text": [
      "c:\\Users\\naima\\AppData\\Local\\Programs\\Python\\Python311\\Lib\\site-packages\\pygad\\pygad.py:748: UserWarning: The percentage of genes to mutate (mutation_percent_genes=10) resutled in selecting (0) genes. The number of genes to mutate is set to 1 (mutation_num_genes=1).\n",
      "If you do not want to mutate any gene, please set mutation_type=None.\n",
      "  warnings.warn(f\"The percentage of genes to mutate (mutation_percent_genes={mutation_percent_genes}) resutled in selecting ({mutation_num_genes}) genes. The number of genes to mutate is set to 1 (mutation_num_genes=1).\\nIf you do not want to mutate any gene, please set mutation_type=None.\")\n",
      "2024-03-13 10:45:54,571 - pyswarms.single.global_best - INFO - Optimize for 1000 iters with {'c1': 0.5, 'c2': 0.3, 'w': 0.9}\n",
      "pyswarms.single.global_best: 100%|██████████|1000/1000, best_cost=-.358\n",
      "2024-03-13 10:45:55,792 - pyswarms.single.global_best - INFO - Optimization finished | best cost: -0.35801272375847804, best pos: [0.50501207 0.87633806]\n"
     ]
    },
    {
     "name": "stdout",
     "output_type": "stream",
     "text": [
      "{'Model': 'SVR', 'R2': 0.8337358353177521, 'RMSE': 0.33877221069818136, 'a_PSO': 0.5050120735002277, 'b_PSO': 0.8763380594830856, 'Fitness_PSO': 0.35801272375847804, 'time_PSO': 1.2235493659973145, 'a_GA': 0.47364138364893504, 'b_GA': 0.9075573055082464, 'Fitness_GA': 0.35819101589284263, 'time_GA': 0.10099554061889648}\n"
     ]
    }
   ],
   "source": [
    "from sklearn.svm import SVR\n",
    "trainAndreport(\"SVR\",SVR())\n"
   ]
  },
  {
   "cell_type": "code",
   "execution_count": 21,
   "metadata": {},
   "outputs": [
    {
     "name": "stderr",
     "output_type": "stream",
     "text": [
      "c:\\Users\\naima\\AppData\\Local\\Programs\\Python\\Python311\\Lib\\site-packages\\pygad\\pygad.py:748: UserWarning: The percentage of genes to mutate (mutation_percent_genes=10) resutled in selecting (0) genes. The number of genes to mutate is set to 1 (mutation_num_genes=1).\n",
      "If you do not want to mutate any gene, please set mutation_type=None.\n",
      "  warnings.warn(f\"The percentage of genes to mutate (mutation_percent_genes={mutation_percent_genes}) resutled in selecting ({mutation_num_genes}) genes. The number of genes to mutate is set to 1 (mutation_num_genes=1).\\nIf you do not want to mutate any gene, please set mutation_type=None.\")\n",
      "2024-03-13 10:45:57,341 - pyswarms.single.global_best - INFO - Optimize for 1000 iters with {'c1': 0.5, 'c2': 0.3, 'w': 0.9}\n",
      "pyswarms.single.global_best: 100%|██████████|1000/1000, best_cost=-.367\n",
      "2024-03-13 10:45:58,514 - pyswarms.single.global_best - INFO - Optimization finished | best cost: -0.3669552186752642, best pos: [0.37696893 0.88127233]\n"
     ]
    },
    {
     "name": "stdout",
     "output_type": "stream",
     "text": [
      "{'Model': 'Random Forest', 'R2': 0.8606566793048744, 'RMSE': 0.31013553407903566, 'a_PSO': 0.37696893307014534, 'b_PSO': 0.8812723252760064, 'Fitness_PSO': 0.3669552186752642, 'time_PSO': 1.1782841682434082, 'a_GA': 0.39590657322253087, 'b_GA': 0.8857847917661288, 'Fitness_GA': 0.3668851521266927, 'time_GA': 0.1046593189239502}\n"
     ]
    }
   ],
   "source": [
    "from sklearn.ensemble import RandomForestRegressor\n",
    "trainAndreport(\"Random Forest\", RandomForestRegressor())"
   ]
  },
  {
   "cell_type": "code",
   "execution_count": 22,
   "metadata": {},
   "outputs": [
    {
     "name": "stderr",
     "output_type": "stream",
     "text": [
      "c:\\Users\\naima\\AppData\\Local\\Programs\\Python\\Python311\\Lib\\site-packages\\pygad\\pygad.py:748: UserWarning: The percentage of genes to mutate (mutation_percent_genes=10) resutled in selecting (0) genes. The number of genes to mutate is set to 1 (mutation_num_genes=1).\n",
      "If you do not want to mutate any gene, please set mutation_type=None.\n",
      "  warnings.warn(f\"The percentage of genes to mutate (mutation_percent_genes={mutation_percent_genes}) resutled in selecting ({mutation_num_genes}) genes. The number of genes to mutate is set to 1 (mutation_num_genes=1).\\nIf you do not want to mutate any gene, please set mutation_type=None.\")\n",
      "2024-03-13 10:46:01,202 - pyswarms.single.global_best - INFO - Optimize for 1000 iters with {'c1': 0.5, 'c2': 0.3, 'w': 0.9}\n",
      "pyswarms.single.global_best: 100%|██████████|1000/1000, best_cost=-.346\n",
      "2024-03-13 10:46:02,416 - pyswarms.single.global_best - INFO - Optimization finished | best cost: -0.3456461987589039, best pos: [0.43162978 1.24516431]\n"
     ]
    },
    {
     "name": "stdout",
     "output_type": "stream",
     "text": [
      "{'Model': 'GradientBoostingRegressor', 'R2': 0.8346610412065091, 'RMSE': 0.3378283172804203, 'a_PSO': 0.4316297832142517, 'b_PSO': 1.2451643122724014, 'Fitness_PSO': 0.3456461987589039, 'time_PSO': 1.2353575229644775, 'a_GA': 0.40873922702945986, 'b_GA': 0.8123669319304438, 'Fitness_GA': 0.35966198789289566, 'time_GA': 0.11999917030334473}\n"
     ]
    }
   ],
   "source": [
    "from sklearn.ensemble import GradientBoostingRegressor\n",
    "trainAndreport(\"GradientBoostingRegressor\", GradientBoostingRegressor())"
   ]
  },
  {
   "cell_type": "code",
   "execution_count": 23,
   "metadata": {},
   "outputs": [
    {
     "name": "stdout",
     "output_type": "stream",
     "text": [
      "                       Model     R2   RMSE  a_PSO  b_PSO  Fitness_PSO  \\\n",
      "0          Linear Regression  0.852  0.320  0.379  0.815        0.372   \n",
      "1                        SVR  0.834  0.339  0.505  0.876        0.358   \n",
      "2              Random Forest  0.861  0.310  0.377  0.881        0.367   \n",
      "3  GradientBoostingRegressor  0.835  0.338  0.432  1.245        0.346   \n",
      "\n",
      "   time_PSO   a_GA   b_GA  Fitness_GA  time_GA  \n",
      "0     1.250  0.392  0.817       0.373    0.099  \n",
      "1     1.224  0.474  0.908       0.358    0.101  \n",
      "2     1.178  0.396  0.886       0.367    0.105  \n",
      "3     1.235  0.409  0.812       0.360    0.120  \n"
     ]
    }
   ],
   "source": [
    "# Create a DataFrame to display results\n",
    "results_df = pd.DataFrame(results)\n",
    "results_df=results_df.round(3)\n",
    "print(results_df)"
   ]
  },
  {
   "cell_type": "code",
   "execution_count": 26,
   "metadata": {},
   "outputs": [
    {
     "name": "stdout",
     "output_type": "stream",
     "text": [
      "\\begin{tabular}{lrrrrrrrrrr}\n",
      "\\toprule\n",
      "Model & R2 & RMSE & a_PSO & b_PSO & Fitness_PSO & time_PSO & a_GA & b_GA & Fitness_GA & time_GA \\\\\n",
      "\\midrule\n",
      "Linear Regression & 0.852 & 0.320 & 0.379 & 0.815 & 0.372 & 1.250 & 0.392 & 0.817 & 0.373 & 0.099 \\\\\n",
      "SVR & 0.834 & 0.339 & 0.505 & 0.876 & 0.358 & 1.224 & 0.474 & 0.908 & 0.358 & 0.101 \\\\\n",
      "Random Forest & 0.861 & 0.310 & 0.377 & 0.881 & 0.367 & 1.178 & 0.396 & 0.886 & 0.367 & 0.105 \\\\\n",
      "GradientBoostingRegressor & 0.835 & 0.338 & 0.432 & 1.245 & 0.346 & 1.235 & 0.409 & 0.812 & 0.360 & 0.120 \\\\\n",
      "\\bottomrule\n",
      "\\end{tabular}\n",
      "\n"
     ]
    }
   ],
   "source": [
    "print(results_df.to_latex(index=False,float_format=\"{:.3f}\".format))"
   ]
  }
 ],
 "metadata": {
  "kernelspec": {
   "display_name": "Python 3",
   "language": "python",
   "name": "python3"
  },
  "language_info": {
   "codemirror_mode": {
    "name": "ipython",
    "version": 3
   },
   "file_extension": ".py",
   "mimetype": "text/x-python",
   "name": "python",
   "nbconvert_exporter": "python",
   "pygments_lexer": "ipython3",
   "version": "3.11.3"
  }
 },
 "nbformat": 4,
 "nbformat_minor": 2
}
