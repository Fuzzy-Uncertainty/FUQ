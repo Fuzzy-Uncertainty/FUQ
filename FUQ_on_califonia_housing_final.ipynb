{
 "cells": [
  {
   "cell_type": "code",
   "execution_count": 1,
   "metadata": {},
   "outputs": [],
   "source": [
    "from sklearn.datasets import fetch_california_housing\n",
    "from sklearn.preprocessing import MinMaxScaler\n",
    "housing = fetch_california_housing(as_frame=True)\n"
   ]
  },
  {
   "cell_type": "code",
   "execution_count": 2,
   "metadata": {},
   "outputs": [],
   "source": [
    "from sklearn.datasets import fetch_california_housing\n",
    "from sklearn.model_selection import train_test_split\n",
    "from sklearn.preprocessing import MinMaxScaler\n",
    "import numpy as np\n",
    "\n",
    "# Fetch the California housing dataset\n",
    "data = fetch_california_housing()\n",
    "\n",
    "X_train, X_test, y_train, y_test = train_test_split(data.data, data.target, test_size=0.2, random_state=42)\n",
    "scaler_X = MinMaxScaler()\n",
    "X_train_scaled = scaler_X.fit_transform(X_train)\n",
    "X_test_scaled = scaler_X.transform(X_test)\n"
   ]
  },
  {
   "cell_type": "code",
   "execution_count": 3,
   "metadata": {},
   "outputs": [],
   "source": [
    "from PSO_UQ1 import PSO_UQ\n",
    "from GA_UQ1 import GA_UQ\n",
    "PSO_fitnesses=[]\n",
    "GA_instances=[]\n",
    "resutls=[]"
   ]
  },
  {
   "cell_type": "code",
   "execution_count": 4,
   "metadata": {},
   "outputs": [],
   "source": [
    "def run_once(name, model, X_train_scaled, y_train, X_test_scaled, y_test):\n",
    "    import time as t\n",
    "    from sklearn.metrics import r2_score, mean_squared_error\n",
    "    import numpy as np\n",
    "\n",
    "    model.fit(X_train_scaled, y_train)\n",
    "    y_test_pred = model.predict(X_test_scaled)\n",
    "\n",
    "    test_r2 = r2_score(y_test, y_test_pred)\n",
    "    test_rmse = mean_squared_error(y_test, y_test_pred) ** 0.5\n",
    "\n",
    "    start_time = t.time()\n",
    "    solution, solution_fitness, ga_instance = GA_UQ(list(y_test_pred), list(y_test))\n",
    "    ga_duration = t.time() - start_time\n",
    "    a_ga, b_ga = solution\n",
    "    lower_ga = y_test_pred - b_ga\n",
    "    upper_ga = y_test_pred + a_ga\n",
    "    picp_ga = np.mean((y_test >= lower_ga) & (y_test <= upper_ga))\n",
    "    mpiw_ga = np.mean(upper_ga - lower_ga)\n",
    "\n",
    "    start_time = t.time()\n",
    "    pos, cost, optimizer, fitness = PSO_UQ(list(y_test_pred), list(y_test))\n",
    "    pso_duration = t.time() - start_time\n",
    "    a_pso, b_pso = pos\n",
    "    lower_pso = y_test_pred - b_pso\n",
    "    upper_pso = y_test_pred + a_pso\n",
    "    picp_pso = np.mean((y_test >= lower_pso) & (y_test <= upper_pso))\n",
    "    mpiw_pso = np.mean(upper_pso - lower_pso)\n",
    "\n",
    "    # Optionally track instances\n",
    "    PSO_fitnesses.append(fitness)\n",
    "    GA_instances.append(ga_instance)\n",
    "\n",
    "    return {\n",
    "        \"Model\": name,\n",
    "        \"R2\": test_r2,\n",
    "        \"RMSE\": test_rmse,\n",
    "        \"a_PSO\": a_pso,\n",
    "        \"b_PSO\": b_pso,\n",
    "        \"Fitness_PSO\": -cost,\n",
    "        \"PICP_PSO\": picp_pso,\n",
    "        \"MPIW_PSO\": mpiw_pso,\n",
    "        \"time_PSO\": pso_duration,\n",
    "        \"a_GA\": a_ga,\n",
    "        \"b_GA\": b_ga,\n",
    "        \"Fitness_GA\": solution_fitness,\n",
    "        \"PICP_GA\": picp_ga,\n",
    "        \"MPIW_GA\": mpiw_ga,\n",
    "        \"time_GA\": ga_duration\n",
    "    }\n"
   ]
  },
  {
   "cell_type": "code",
   "execution_count": 5,
   "metadata": {},
   "outputs": [],
   "source": [
    "def trainAndreport(name,model,N_RUNS=30):\n",
    "    global results\n",
    "    for i in range(N_RUNS):\n",
    "        print(f\"Run {i+1}/{N_RUNS}\")\n",
    "        result = run_once(name, model, X_train_scaled, y_train, X_test_scaled, y_test)\n",
    "        results.append(result)\n",
    "\n",
    "\n"
   ]
  },
  {
   "cell_type": "code",
   "execution_count": 6,
   "metadata": {},
   "outputs": [],
   "source": [
    "results = []"
   ]
  },
  {
   "cell_type": "code",
   "execution_count": 7,
   "metadata": {},
   "outputs": [
    {
     "name": "stdout",
     "output_type": "stream",
     "text": [
      "Run 1/30\n"
     ]
    },
    {
     "name": "stderr",
     "output_type": "stream",
     "text": [
      "c:\\Users\\naima\\AppData\\Local\\Programs\\Python\\Python313\\Lib\\site-packages\\pygad\\pygad.py:744: UserWarning: The percentage of genes to mutate (mutation_percent_genes=10) resulted in selecting (0) genes. The number of genes to mutate is set to 1 (mutation_num_genes=1).\n",
      "If you do not want to mutate any gene, please set mutation_type=None.\n",
      "  warnings.warn(f\"The percentage of genes to mutate (mutation_percent_genes={mutation_percent_genes}) resulted in selecting ({mutation_num_genes}) genes. The number of genes to mutate is set to 1 (mutation_num_genes=1).\\nIf you do not want to mutate any gene, please set mutation_type=None.\")\n",
      "c:\\Users\\naima\\AppData\\Local\\Programs\\Python\\Python313\\Lib\\site-packages\\pygad\\pygad.py:1145: UserWarning: Use the 'save_solutions' parameter with caution as it may cause memory overflow when either the number of generations, number of genes, or number of solutions in population is large.\n",
      "  warnings.warn(\"Use the 'save_solutions' parameter with caution as it may cause memory overflow when either the number of generations, number of genes, or number of solutions in population is large.\")\n",
      "2025-06-08 12:38:48,008 - pyswarms.single.global_best - INFO - Optimize for 200 iters with {'c1': 0.5, 'c2': 0.3, 'w': 0.9}\n",
      "pyswarms.single.global_best: 100%|██████████|200/200, best_cost=-0.0335\n",
      "2025-06-08 12:38:53,126 - pyswarms.single.global_best - INFO - Optimization finished | best cost: -0.03347908588132662, best pos: [1.45144168 1.58494721]\n",
      "c:\\Users\\naima\\AppData\\Local\\Programs\\Python\\Python313\\Lib\\site-packages\\pygad\\pygad.py:744: UserWarning: The percentage of genes to mutate (mutation_percent_genes=10) resulted in selecting (0) genes. The number of genes to mutate is set to 1 (mutation_num_genes=1).\n",
      "If you do not want to mutate any gene, please set mutation_type=None.\n",
      "  warnings.warn(f\"The percentage of genes to mutate (mutation_percent_genes={mutation_percent_genes}) resulted in selecting ({mutation_num_genes}) genes. The number of genes to mutate is set to 1 (mutation_num_genes=1).\\nIf you do not want to mutate any gene, please set mutation_type=None.\")\n",
      "c:\\Users\\naima\\AppData\\Local\\Programs\\Python\\Python313\\Lib\\site-packages\\pygad\\pygad.py:1145: UserWarning: Use the 'save_solutions' parameter with caution as it may cause memory overflow when either the number of generations, number of genes, or number of solutions in population is large.\n",
      "  warnings.warn(\"Use the 'save_solutions' parameter with caution as it may cause memory overflow when either the number of generations, number of genes, or number of solutions in population is large.\")\n"
     ]
    },
    {
     "name": "stdout",
     "output_type": "stream",
     "text": [
      "Run 2/30\n"
     ]
    },
    {
     "name": "stderr",
     "output_type": "stream",
     "text": [
      "2025-06-08 12:38:58,751 - pyswarms.single.global_best - INFO - Optimize for 200 iters with {'c1': 0.5, 'c2': 0.3, 'w': 0.9}\n",
      "pyswarms.single.global_best: 100%|██████████|200/200, best_cost=-0.0335\n",
      "2025-06-08 12:39:06,017 - pyswarms.single.global_best - INFO - Optimization finished | best cost: -0.03347881473551517, best pos: [1.51491587 1.57766993]\n",
      "c:\\Users\\naima\\AppData\\Local\\Programs\\Python\\Python313\\Lib\\site-packages\\pygad\\pygad.py:744: UserWarning: The percentage of genes to mutate (mutation_percent_genes=10) resulted in selecting (0) genes. The number of genes to mutate is set to 1 (mutation_num_genes=1).\n",
      "If you do not want to mutate any gene, please set mutation_type=None.\n",
      "  warnings.warn(f\"The percentage of genes to mutate (mutation_percent_genes={mutation_percent_genes}) resulted in selecting ({mutation_num_genes}) genes. The number of genes to mutate is set to 1 (mutation_num_genes=1).\\nIf you do not want to mutate any gene, please set mutation_type=None.\")\n",
      "c:\\Users\\naima\\AppData\\Local\\Programs\\Python\\Python313\\Lib\\site-packages\\pygad\\pygad.py:1145: UserWarning: Use the 'save_solutions' parameter with caution as it may cause memory overflow when either the number of generations, number of genes, or number of solutions in population is large.\n",
      "  warnings.warn(\"Use the 'save_solutions' parameter with caution as it may cause memory overflow when either the number of generations, number of genes, or number of solutions in population is large.\")\n"
     ]
    },
    {
     "name": "stdout",
     "output_type": "stream",
     "text": [
      "Run 3/30\n"
     ]
    },
    {
     "name": "stderr",
     "output_type": "stream",
     "text": [
      "2025-06-08 12:39:13,067 - pyswarms.single.global_best - INFO - Optimize for 200 iters with {'c1': 0.5, 'c2': 0.3, 'w': 0.9}\n",
      "pyswarms.single.global_best: 100%|██████████|200/200, best_cost=-0.0335\n",
      "2025-06-08 12:39:19,707 - pyswarms.single.global_best - INFO - Optimization finished | best cost: -0.03348819359191913, best pos: [1.47797224 1.5657675 ]\n",
      "c:\\Users\\naima\\AppData\\Local\\Programs\\Python\\Python313\\Lib\\site-packages\\pygad\\pygad.py:744: UserWarning: The percentage of genes to mutate (mutation_percent_genes=10) resulted in selecting (0) genes. The number of genes to mutate is set to 1 (mutation_num_genes=1).\n",
      "If you do not want to mutate any gene, please set mutation_type=None.\n",
      "  warnings.warn(f\"The percentage of genes to mutate (mutation_percent_genes={mutation_percent_genes}) resulted in selecting ({mutation_num_genes}) genes. The number of genes to mutate is set to 1 (mutation_num_genes=1).\\nIf you do not want to mutate any gene, please set mutation_type=None.\")\n",
      "c:\\Users\\naima\\AppData\\Local\\Programs\\Python\\Python313\\Lib\\site-packages\\pygad\\pygad.py:1145: UserWarning: Use the 'save_solutions' parameter with caution as it may cause memory overflow when either the number of generations, number of genes, or number of solutions in population is large.\n",
      "  warnings.warn(\"Use the 'save_solutions' parameter with caution as it may cause memory overflow when either the number of generations, number of genes, or number of solutions in population is large.\")\n"
     ]
    },
    {
     "name": "stdout",
     "output_type": "stream",
     "text": [
      "Run 4/30\n"
     ]
    },
    {
     "name": "stderr",
     "output_type": "stream",
     "text": [
      "2025-06-08 12:39:26,040 - pyswarms.single.global_best - INFO - Optimize for 200 iters with {'c1': 0.5, 'c2': 0.3, 'w': 0.9}\n",
      "pyswarms.single.global_best: 100%|██████████|200/200, best_cost=-0.0335\n",
      "2025-06-08 12:39:32,470 - pyswarms.single.global_best - INFO - Optimization finished | best cost: -0.033468920370421436, best pos: [1.53516714 1.56525252]\n",
      "c:\\Users\\naima\\AppData\\Local\\Programs\\Python\\Python313\\Lib\\site-packages\\pygad\\pygad.py:744: UserWarning: The percentage of genes to mutate (mutation_percent_genes=10) resulted in selecting (0) genes. The number of genes to mutate is set to 1 (mutation_num_genes=1).\n",
      "If you do not want to mutate any gene, please set mutation_type=None.\n",
      "  warnings.warn(f\"The percentage of genes to mutate (mutation_percent_genes={mutation_percent_genes}) resulted in selecting ({mutation_num_genes}) genes. The number of genes to mutate is set to 1 (mutation_num_genes=1).\\nIf you do not want to mutate any gene, please set mutation_type=None.\")\n",
      "c:\\Users\\naima\\AppData\\Local\\Programs\\Python\\Python313\\Lib\\site-packages\\pygad\\pygad.py:1145: UserWarning: Use the 'save_solutions' parameter with caution as it may cause memory overflow when either the number of generations, number of genes, or number of solutions in population is large.\n",
      "  warnings.warn(\"Use the 'save_solutions' parameter with caution as it may cause memory overflow when either the number of generations, number of genes, or number of solutions in population is large.\")\n"
     ]
    },
    {
     "name": "stdout",
     "output_type": "stream",
     "text": [
      "Run 5/30\n"
     ]
    },
    {
     "name": "stderr",
     "output_type": "stream",
     "text": [
      "2025-06-08 12:39:38,601 - pyswarms.single.global_best - INFO - Optimize for 200 iters with {'c1': 0.5, 'c2': 0.3, 'w': 0.9}\n",
      "pyswarms.single.global_best: 100%|██████████|200/200, best_cost=-0.0335\n",
      "2025-06-08 12:39:45,036 - pyswarms.single.global_best - INFO - Optimization finished | best cost: -0.033486070794209455, best pos: [1.47957668 1.57876003]\n",
      "c:\\Users\\naima\\AppData\\Local\\Programs\\Python\\Python313\\Lib\\site-packages\\pygad\\pygad.py:744: UserWarning: The percentage of genes to mutate (mutation_percent_genes=10) resulted in selecting (0) genes. The number of genes to mutate is set to 1 (mutation_num_genes=1).\n",
      "If you do not want to mutate any gene, please set mutation_type=None.\n",
      "  warnings.warn(f\"The percentage of genes to mutate (mutation_percent_genes={mutation_percent_genes}) resulted in selecting ({mutation_num_genes}) genes. The number of genes to mutate is set to 1 (mutation_num_genes=1).\\nIf you do not want to mutate any gene, please set mutation_type=None.\")\n",
      "c:\\Users\\naima\\AppData\\Local\\Programs\\Python\\Python313\\Lib\\site-packages\\pygad\\pygad.py:1145: UserWarning: Use the 'save_solutions' parameter with caution as it may cause memory overflow when either the number of generations, number of genes, or number of solutions in population is large.\n",
      "  warnings.warn(\"Use the 'save_solutions' parameter with caution as it may cause memory overflow when either the number of generations, number of genes, or number of solutions in population is large.\")\n"
     ]
    },
    {
     "name": "stdout",
     "output_type": "stream",
     "text": [
      "Run 6/30\n"
     ]
    },
    {
     "name": "stderr",
     "output_type": "stream",
     "text": [
      "2025-06-08 12:39:51,381 - pyswarms.single.global_best - INFO - Optimize for 200 iters with {'c1': 0.5, 'c2': 0.3, 'w': 0.9}\n",
      "pyswarms.single.global_best: 100%|██████████|200/200, best_cost=-0.0334\n",
      "2025-06-08 12:39:57,799 - pyswarms.single.global_best - INFO - Optimization finished | best cost: -0.03344029000792527, best pos: [1.56907586 1.57727043]\n",
      "c:\\Users\\naima\\AppData\\Local\\Programs\\Python\\Python313\\Lib\\site-packages\\pygad\\pygad.py:744: UserWarning: The percentage of genes to mutate (mutation_percent_genes=10) resulted in selecting (0) genes. The number of genes to mutate is set to 1 (mutation_num_genes=1).\n",
      "If you do not want to mutate any gene, please set mutation_type=None.\n",
      "  warnings.warn(f\"The percentage of genes to mutate (mutation_percent_genes={mutation_percent_genes}) resulted in selecting ({mutation_num_genes}) genes. The number of genes to mutate is set to 1 (mutation_num_genes=1).\\nIf you do not want to mutate any gene, please set mutation_type=None.\")\n",
      "c:\\Users\\naima\\AppData\\Local\\Programs\\Python\\Python313\\Lib\\site-packages\\pygad\\pygad.py:1145: UserWarning: Use the 'save_solutions' parameter with caution as it may cause memory overflow when either the number of generations, number of genes, or number of solutions in population is large.\n",
      "  warnings.warn(\"Use the 'save_solutions' parameter with caution as it may cause memory overflow when either the number of generations, number of genes, or number of solutions in population is large.\")\n"
     ]
    },
    {
     "name": "stdout",
     "output_type": "stream",
     "text": [
      "Run 7/30\n"
     ]
    },
    {
     "name": "stderr",
     "output_type": "stream",
     "text": [
      "2025-06-08 12:40:03,965 - pyswarms.single.global_best - INFO - Optimize for 200 iters with {'c1': 0.5, 'c2': 0.3, 'w': 0.9}\n",
      "pyswarms.single.global_best: 100%|██████████|200/200, best_cost=-0.0334\n",
      "2025-06-08 12:40:10,116 - pyswarms.single.global_best - INFO - Optimization finished | best cost: -0.03337591642997591, best pos: [1.42382704 1.70481435]\n",
      "c:\\Users\\naima\\AppData\\Local\\Programs\\Python\\Python313\\Lib\\site-packages\\pygad\\pygad.py:744: UserWarning: The percentage of genes to mutate (mutation_percent_genes=10) resulted in selecting (0) genes. The number of genes to mutate is set to 1 (mutation_num_genes=1).\n",
      "If you do not want to mutate any gene, please set mutation_type=None.\n",
      "  warnings.warn(f\"The percentage of genes to mutate (mutation_percent_genes={mutation_percent_genes}) resulted in selecting ({mutation_num_genes}) genes. The number of genes to mutate is set to 1 (mutation_num_genes=1).\\nIf you do not want to mutate any gene, please set mutation_type=None.\")\n",
      "c:\\Users\\naima\\AppData\\Local\\Programs\\Python\\Python313\\Lib\\site-packages\\pygad\\pygad.py:1145: UserWarning: Use the 'save_solutions' parameter with caution as it may cause memory overflow when either the number of generations, number of genes, or number of solutions in population is large.\n",
      "  warnings.warn(\"Use the 'save_solutions' parameter with caution as it may cause memory overflow when either the number of generations, number of genes, or number of solutions in population is large.\")\n"
     ]
    },
    {
     "name": "stdout",
     "output_type": "stream",
     "text": [
      "Run 8/30\n"
     ]
    },
    {
     "name": "stderr",
     "output_type": "stream",
     "text": [
      "2025-06-08 12:40:16,470 - pyswarms.single.global_best - INFO - Optimize for 200 iters with {'c1': 0.5, 'c2': 0.3, 'w': 0.9}\n",
      "pyswarms.single.global_best: 100%|██████████|200/200, best_cost=-0.0335\n",
      "2025-06-08 12:40:23,472 - pyswarms.single.global_best - INFO - Optimization finished | best cost: -0.033484836106695406, best pos: [1.45128002 1.54498344]\n",
      "c:\\Users\\naima\\AppData\\Local\\Programs\\Python\\Python313\\Lib\\site-packages\\pygad\\pygad.py:744: UserWarning: The percentage of genes to mutate (mutation_percent_genes=10) resulted in selecting (0) genes. The number of genes to mutate is set to 1 (mutation_num_genes=1).\n",
      "If you do not want to mutate any gene, please set mutation_type=None.\n",
      "  warnings.warn(f\"The percentage of genes to mutate (mutation_percent_genes={mutation_percent_genes}) resulted in selecting ({mutation_num_genes}) genes. The number of genes to mutate is set to 1 (mutation_num_genes=1).\\nIf you do not want to mutate any gene, please set mutation_type=None.\")\n",
      "c:\\Users\\naima\\AppData\\Local\\Programs\\Python\\Python313\\Lib\\site-packages\\pygad\\pygad.py:1145: UserWarning: Use the 'save_solutions' parameter with caution as it may cause memory overflow when either the number of generations, number of genes, or number of solutions in population is large.\n",
      "  warnings.warn(\"Use the 'save_solutions' parameter with caution as it may cause memory overflow when either the number of generations, number of genes, or number of solutions in population is large.\")\n"
     ]
    },
    {
     "name": "stdout",
     "output_type": "stream",
     "text": [
      "Run 9/30\n"
     ]
    },
    {
     "name": "stderr",
     "output_type": "stream",
     "text": [
      "2025-06-08 12:40:29,582 - pyswarms.single.global_best - INFO - Optimize for 200 iters with {'c1': 0.5, 'c2': 0.3, 'w': 0.9}\n",
      "pyswarms.single.global_best: 100%|██████████|200/200, best_cost=-0.0335\n",
      "2025-06-08 12:40:37,147 - pyswarms.single.global_best - INFO - Optimization finished | best cost: -0.03348890005661162, best pos: [1.47552243 1.54841585]\n",
      "c:\\Users\\naima\\AppData\\Local\\Programs\\Python\\Python313\\Lib\\site-packages\\pygad\\pygad.py:744: UserWarning: The percentage of genes to mutate (mutation_percent_genes=10) resulted in selecting (0) genes. The number of genes to mutate is set to 1 (mutation_num_genes=1).\n",
      "If you do not want to mutate any gene, please set mutation_type=None.\n",
      "  warnings.warn(f\"The percentage of genes to mutate (mutation_percent_genes={mutation_percent_genes}) resulted in selecting ({mutation_num_genes}) genes. The number of genes to mutate is set to 1 (mutation_num_genes=1).\\nIf you do not want to mutate any gene, please set mutation_type=None.\")\n",
      "c:\\Users\\naima\\AppData\\Local\\Programs\\Python\\Python313\\Lib\\site-packages\\pygad\\pygad.py:1145: UserWarning: Use the 'save_solutions' parameter with caution as it may cause memory overflow when either the number of generations, number of genes, or number of solutions in population is large.\n",
      "  warnings.warn(\"Use the 'save_solutions' parameter with caution as it may cause memory overflow when either the number of generations, number of genes, or number of solutions in population is large.\")\n"
     ]
    },
    {
     "name": "stdout",
     "output_type": "stream",
     "text": [
      "Run 10/30\n"
     ]
    },
    {
     "name": "stderr",
     "output_type": "stream",
     "text": [
      "2025-06-08 12:40:43,239 - pyswarms.single.global_best - INFO - Optimize for 200 iters with {'c1': 0.5, 'c2': 0.3, 'w': 0.9}\n",
      "pyswarms.single.global_best: 100%|██████████|200/200, best_cost=-0.0334\n",
      "2025-06-08 12:40:49,931 - pyswarms.single.global_best - INFO - Optimization finished | best cost: -0.03343663867681872, best pos: [1.5322333  1.66823154]\n",
      "c:\\Users\\naima\\AppData\\Local\\Programs\\Python\\Python313\\Lib\\site-packages\\pygad\\pygad.py:744: UserWarning: The percentage of genes to mutate (mutation_percent_genes=10) resulted in selecting (0) genes. The number of genes to mutate is set to 1 (mutation_num_genes=1).\n",
      "If you do not want to mutate any gene, please set mutation_type=None.\n",
      "  warnings.warn(f\"The percentage of genes to mutate (mutation_percent_genes={mutation_percent_genes}) resulted in selecting ({mutation_num_genes}) genes. The number of genes to mutate is set to 1 (mutation_num_genes=1).\\nIf you do not want to mutate any gene, please set mutation_type=None.\")\n",
      "c:\\Users\\naima\\AppData\\Local\\Programs\\Python\\Python313\\Lib\\site-packages\\pygad\\pygad.py:1145: UserWarning: Use the 'save_solutions' parameter with caution as it may cause memory overflow when either the number of generations, number of genes, or number of solutions in population is large.\n",
      "  warnings.warn(\"Use the 'save_solutions' parameter with caution as it may cause memory overflow when either the number of generations, number of genes, or number of solutions in population is large.\")\n"
     ]
    },
    {
     "name": "stdout",
     "output_type": "stream",
     "text": [
      "Run 11/30\n"
     ]
    },
    {
     "name": "stderr",
     "output_type": "stream",
     "text": [
      "2025-06-08 12:40:56,410 - pyswarms.single.global_best - INFO - Optimize for 200 iters with {'c1': 0.5, 'c2': 0.3, 'w': 0.9}\n",
      "pyswarms.single.global_best: 100%|██████████|200/200, best_cost=-0.0335\n",
      "2025-06-08 12:41:03,909 - pyswarms.single.global_best - INFO - Optimization finished | best cost: -0.03348900387458754, best pos: [1.47616577 1.55291337]\n",
      "c:\\Users\\naima\\AppData\\Local\\Programs\\Python\\Python313\\Lib\\site-packages\\pygad\\pygad.py:744: UserWarning: The percentage of genes to mutate (mutation_percent_genes=10) resulted in selecting (0) genes. The number of genes to mutate is set to 1 (mutation_num_genes=1).\n",
      "If you do not want to mutate any gene, please set mutation_type=None.\n",
      "  warnings.warn(f\"The percentage of genes to mutate (mutation_percent_genes={mutation_percent_genes}) resulted in selecting ({mutation_num_genes}) genes. The number of genes to mutate is set to 1 (mutation_num_genes=1).\\nIf you do not want to mutate any gene, please set mutation_type=None.\")\n",
      "c:\\Users\\naima\\AppData\\Local\\Programs\\Python\\Python313\\Lib\\site-packages\\pygad\\pygad.py:1145: UserWarning: Use the 'save_solutions' parameter with caution as it may cause memory overflow when either the number of generations, number of genes, or number of solutions in population is large.\n",
      "  warnings.warn(\"Use the 'save_solutions' parameter with caution as it may cause memory overflow when either the number of generations, number of genes, or number of solutions in population is large.\")\n"
     ]
    },
    {
     "name": "stdout",
     "output_type": "stream",
     "text": [
      "Run 12/30\n"
     ]
    },
    {
     "name": "stderr",
     "output_type": "stream",
     "text": [
      "2025-06-08 12:41:12,192 - pyswarms.single.global_best - INFO - Optimize for 200 iters with {'c1': 0.5, 'c2': 0.3, 'w': 0.9}\n",
      "pyswarms.single.global_best: 100%|██████████|200/200, best_cost=-0.0335\n",
      "2025-06-08 12:41:19,076 - pyswarms.single.global_best - INFO - Optimization finished | best cost: -0.033489004901180945, best pos: [1.47607941 1.55258151]\n",
      "c:\\Users\\naima\\AppData\\Local\\Programs\\Python\\Python313\\Lib\\site-packages\\pygad\\pygad.py:744: UserWarning: The percentage of genes to mutate (mutation_percent_genes=10) resulted in selecting (0) genes. The number of genes to mutate is set to 1 (mutation_num_genes=1).\n",
      "If you do not want to mutate any gene, please set mutation_type=None.\n",
      "  warnings.warn(f\"The percentage of genes to mutate (mutation_percent_genes={mutation_percent_genes}) resulted in selecting ({mutation_num_genes}) genes. The number of genes to mutate is set to 1 (mutation_num_genes=1).\\nIf you do not want to mutate any gene, please set mutation_type=None.\")\n",
      "c:\\Users\\naima\\AppData\\Local\\Programs\\Python\\Python313\\Lib\\site-packages\\pygad\\pygad.py:1145: UserWarning: Use the 'save_solutions' parameter with caution as it may cause memory overflow when either the number of generations, number of genes, or number of solutions in population is large.\n",
      "  warnings.warn(\"Use the 'save_solutions' parameter with caution as it may cause memory overflow when either the number of generations, number of genes, or number of solutions in population is large.\")\n"
     ]
    },
    {
     "name": "stdout",
     "output_type": "stream",
     "text": [
      "Run 13/30\n"
     ]
    },
    {
     "name": "stderr",
     "output_type": "stream",
     "text": [
      "2025-06-08 12:41:25,640 - pyswarms.single.global_best - INFO - Optimize for 200 iters with {'c1': 0.5, 'c2': 0.3, 'w': 0.9}\n",
      "pyswarms.single.global_best: 100%|██████████|200/200, best_cost=-0.0335\n",
      "2025-06-08 12:41:33,745 - pyswarms.single.global_best - INFO - Optimization finished | best cost: -0.033489003551859006, best pos: [1.475649   1.55243345]\n",
      "c:\\Users\\naima\\AppData\\Local\\Programs\\Python\\Python313\\Lib\\site-packages\\pygad\\pygad.py:744: UserWarning: The percentage of genes to mutate (mutation_percent_genes=10) resulted in selecting (0) genes. The number of genes to mutate is set to 1 (mutation_num_genes=1).\n",
      "If you do not want to mutate any gene, please set mutation_type=None.\n",
      "  warnings.warn(f\"The percentage of genes to mutate (mutation_percent_genes={mutation_percent_genes}) resulted in selecting ({mutation_num_genes}) genes. The number of genes to mutate is set to 1 (mutation_num_genes=1).\\nIf you do not want to mutate any gene, please set mutation_type=None.\")\n",
      "c:\\Users\\naima\\AppData\\Local\\Programs\\Python\\Python313\\Lib\\site-packages\\pygad\\pygad.py:1145: UserWarning: Use the 'save_solutions' parameter with caution as it may cause memory overflow when either the number of generations, number of genes, or number of solutions in population is large.\n",
      "  warnings.warn(\"Use the 'save_solutions' parameter with caution as it may cause memory overflow when either the number of generations, number of genes, or number of solutions in population is large.\")\n"
     ]
    },
    {
     "name": "stdout",
     "output_type": "stream",
     "text": [
      "Run 14/30\n"
     ]
    },
    {
     "name": "stderr",
     "output_type": "stream",
     "text": [
      "2025-06-08 12:41:40,090 - pyswarms.single.global_best - INFO - Optimize for 200 iters with {'c1': 0.5, 'c2': 0.3, 'w': 0.9}\n",
      "pyswarms.single.global_best: 100%|██████████|200/200, best_cost=-0.0335\n",
      "2025-06-08 12:41:47,743 - pyswarms.single.global_best - INFO - Optimization finished | best cost: -0.03346173185843663, best pos: [1.51240048 1.49424927]\n",
      "c:\\Users\\naima\\AppData\\Local\\Programs\\Python\\Python313\\Lib\\site-packages\\pygad\\pygad.py:744: UserWarning: The percentage of genes to mutate (mutation_percent_genes=10) resulted in selecting (0) genes. The number of genes to mutate is set to 1 (mutation_num_genes=1).\n",
      "If you do not want to mutate any gene, please set mutation_type=None.\n",
      "  warnings.warn(f\"The percentage of genes to mutate (mutation_percent_genes={mutation_percent_genes}) resulted in selecting ({mutation_num_genes}) genes. The number of genes to mutate is set to 1 (mutation_num_genes=1).\\nIf you do not want to mutate any gene, please set mutation_type=None.\")\n",
      "c:\\Users\\naima\\AppData\\Local\\Programs\\Python\\Python313\\Lib\\site-packages\\pygad\\pygad.py:1145: UserWarning: Use the 'save_solutions' parameter with caution as it may cause memory overflow when either the number of generations, number of genes, or number of solutions in population is large.\n",
      "  warnings.warn(\"Use the 'save_solutions' parameter with caution as it may cause memory overflow when either the number of generations, number of genes, or number of solutions in population is large.\")\n"
     ]
    },
    {
     "name": "stdout",
     "output_type": "stream",
     "text": [
      "Run 15/30\n"
     ]
    },
    {
     "name": "stderr",
     "output_type": "stream",
     "text": [
      "2025-06-08 12:41:56,409 - pyswarms.single.global_best - INFO - Optimize for 200 iters with {'c1': 0.5, 'c2': 0.3, 'w': 0.9}\n",
      "pyswarms.single.global_best: 100%|██████████|200/200, best_cost=-0.0334\n",
      "2025-06-08 12:42:04,485 - pyswarms.single.global_best - INFO - Optimization finished | best cost: -0.03337912343145507, best pos: [1.59943549 1.50115188]\n",
      "c:\\Users\\naima\\AppData\\Local\\Programs\\Python\\Python313\\Lib\\site-packages\\pygad\\pygad.py:744: UserWarning: The percentage of genes to mutate (mutation_percent_genes=10) resulted in selecting (0) genes. The number of genes to mutate is set to 1 (mutation_num_genes=1).\n",
      "If you do not want to mutate any gene, please set mutation_type=None.\n",
      "  warnings.warn(f\"The percentage of genes to mutate (mutation_percent_genes={mutation_percent_genes}) resulted in selecting ({mutation_num_genes}) genes. The number of genes to mutate is set to 1 (mutation_num_genes=1).\\nIf you do not want to mutate any gene, please set mutation_type=None.\")\n",
      "c:\\Users\\naima\\AppData\\Local\\Programs\\Python\\Python313\\Lib\\site-packages\\pygad\\pygad.py:1145: UserWarning: Use the 'save_solutions' parameter with caution as it may cause memory overflow when either the number of generations, number of genes, or number of solutions in population is large.\n",
      "  warnings.warn(\"Use the 'save_solutions' parameter with caution as it may cause memory overflow when either the number of generations, number of genes, or number of solutions in population is large.\")\n"
     ]
    },
    {
     "name": "stdout",
     "output_type": "stream",
     "text": [
      "Run 16/30\n"
     ]
    },
    {
     "name": "stderr",
     "output_type": "stream",
     "text": [
      "2025-06-08 12:42:12,353 - pyswarms.single.global_best - INFO - Optimize for 200 iters with {'c1': 0.5, 'c2': 0.3, 'w': 0.9}\n",
      "pyswarms.single.global_best: 100%|██████████|200/200, best_cost=-0.0334\n",
      "2025-06-08 12:42:19,304 - pyswarms.single.global_best - INFO - Optimization finished | best cost: -0.03344193792450101, best pos: [1.41985615 1.62644185]\n",
      "c:\\Users\\naima\\AppData\\Local\\Programs\\Python\\Python313\\Lib\\site-packages\\pygad\\pygad.py:744: UserWarning: The percentage of genes to mutate (mutation_percent_genes=10) resulted in selecting (0) genes. The number of genes to mutate is set to 1 (mutation_num_genes=1).\n",
      "If you do not want to mutate any gene, please set mutation_type=None.\n",
      "  warnings.warn(f\"The percentage of genes to mutate (mutation_percent_genes={mutation_percent_genes}) resulted in selecting ({mutation_num_genes}) genes. The number of genes to mutate is set to 1 (mutation_num_genes=1).\\nIf you do not want to mutate any gene, please set mutation_type=None.\")\n",
      "c:\\Users\\naima\\AppData\\Local\\Programs\\Python\\Python313\\Lib\\site-packages\\pygad\\pygad.py:1145: UserWarning: Use the 'save_solutions' parameter with caution as it may cause memory overflow when either the number of generations, number of genes, or number of solutions in population is large.\n",
      "  warnings.warn(\"Use the 'save_solutions' parameter with caution as it may cause memory overflow when either the number of generations, number of genes, or number of solutions in population is large.\")\n"
     ]
    },
    {
     "name": "stdout",
     "output_type": "stream",
     "text": [
      "Run 17/30\n"
     ]
    },
    {
     "name": "stderr",
     "output_type": "stream",
     "text": [
      "2025-06-08 12:42:25,832 - pyswarms.single.global_best - INFO - Optimize for 200 iters with {'c1': 0.5, 'c2': 0.3, 'w': 0.9}\n",
      "pyswarms.single.global_best: 100%|██████████|200/200, best_cost=-0.0334\n",
      "2025-06-08 12:42:33,056 - pyswarms.single.global_best - INFO - Optimization finished | best cost: -0.033446586988374466, best pos: [1.55839515 1.5401804 ]\n",
      "c:\\Users\\naima\\AppData\\Local\\Programs\\Python\\Python313\\Lib\\site-packages\\pygad\\pygad.py:744: UserWarning: The percentage of genes to mutate (mutation_percent_genes=10) resulted in selecting (0) genes. The number of genes to mutate is set to 1 (mutation_num_genes=1).\n",
      "If you do not want to mutate any gene, please set mutation_type=None.\n",
      "  warnings.warn(f\"The percentage of genes to mutate (mutation_percent_genes={mutation_percent_genes}) resulted in selecting ({mutation_num_genes}) genes. The number of genes to mutate is set to 1 (mutation_num_genes=1).\\nIf you do not want to mutate any gene, please set mutation_type=None.\")\n",
      "c:\\Users\\naima\\AppData\\Local\\Programs\\Python\\Python313\\Lib\\site-packages\\pygad\\pygad.py:1145: UserWarning: Use the 'save_solutions' parameter with caution as it may cause memory overflow when either the number of generations, number of genes, or number of solutions in population is large.\n",
      "  warnings.warn(\"Use the 'save_solutions' parameter with caution as it may cause memory overflow when either the number of generations, number of genes, or number of solutions in population is large.\")\n"
     ]
    },
    {
     "name": "stdout",
     "output_type": "stream",
     "text": [
      "Run 18/30\n"
     ]
    },
    {
     "name": "stderr",
     "output_type": "stream",
     "text": [
      "2025-06-08 12:42:39,341 - pyswarms.single.global_best - INFO - Optimize for 200 iters with {'c1': 0.5, 'c2': 0.3, 'w': 0.9}\n",
      "pyswarms.single.global_best: 100%|██████████|200/200, best_cost=-0.0335\n",
      "2025-06-08 12:42:46,404 - pyswarms.single.global_best - INFO - Optimization finished | best cost: -0.033487278389359984, best pos: [1.46445728 1.56341637]\n",
      "c:\\Users\\naima\\AppData\\Local\\Programs\\Python\\Python313\\Lib\\site-packages\\pygad\\pygad.py:744: UserWarning: The percentage of genes to mutate (mutation_percent_genes=10) resulted in selecting (0) genes. The number of genes to mutate is set to 1 (mutation_num_genes=1).\n",
      "If you do not want to mutate any gene, please set mutation_type=None.\n",
      "  warnings.warn(f\"The percentage of genes to mutate (mutation_percent_genes={mutation_percent_genes}) resulted in selecting ({mutation_num_genes}) genes. The number of genes to mutate is set to 1 (mutation_num_genes=1).\\nIf you do not want to mutate any gene, please set mutation_type=None.\")\n",
      "c:\\Users\\naima\\AppData\\Local\\Programs\\Python\\Python313\\Lib\\site-packages\\pygad\\pygad.py:1145: UserWarning: Use the 'save_solutions' parameter with caution as it may cause memory overflow when either the number of generations, number of genes, or number of solutions in population is large.\n",
      "  warnings.warn(\"Use the 'save_solutions' parameter with caution as it may cause memory overflow when either the number of generations, number of genes, or number of solutions in population is large.\")\n"
     ]
    },
    {
     "name": "stdout",
     "output_type": "stream",
     "text": [
      "Run 19/30\n"
     ]
    },
    {
     "name": "stderr",
     "output_type": "stream",
     "text": [
      "2025-06-08 12:42:52,899 - pyswarms.single.global_best - INFO - Optimize for 200 iters with {'c1': 0.5, 'c2': 0.3, 'w': 0.9}\n",
      "pyswarms.single.global_best: 100%|██████████|200/200, best_cost=-0.0335\n",
      "2025-06-08 12:42:59,300 - pyswarms.single.global_best - INFO - Optimization finished | best cost: -0.03348883855998613, best pos: [1.47638001 1.55836956]\n",
      "c:\\Users\\naima\\AppData\\Local\\Programs\\Python\\Python313\\Lib\\site-packages\\pygad\\pygad.py:744: UserWarning: The percentage of genes to mutate (mutation_percent_genes=10) resulted in selecting (0) genes. The number of genes to mutate is set to 1 (mutation_num_genes=1).\n",
      "If you do not want to mutate any gene, please set mutation_type=None.\n",
      "  warnings.warn(f\"The percentage of genes to mutate (mutation_percent_genes={mutation_percent_genes}) resulted in selecting ({mutation_num_genes}) genes. The number of genes to mutate is set to 1 (mutation_num_genes=1).\\nIf you do not want to mutate any gene, please set mutation_type=None.\")\n",
      "c:\\Users\\naima\\AppData\\Local\\Programs\\Python\\Python313\\Lib\\site-packages\\pygad\\pygad.py:1145: UserWarning: Use the 'save_solutions' parameter with caution as it may cause memory overflow when either the number of generations, number of genes, or number of solutions in population is large.\n",
      "  warnings.warn(\"Use the 'save_solutions' parameter with caution as it may cause memory overflow when either the number of generations, number of genes, or number of solutions in population is large.\")\n"
     ]
    },
    {
     "name": "stdout",
     "output_type": "stream",
     "text": [
      "Run 20/30\n"
     ]
    },
    {
     "name": "stderr",
     "output_type": "stream",
     "text": [
      "2025-06-08 12:43:05,579 - pyswarms.single.global_best - INFO - Optimize for 200 iters with {'c1': 0.5, 'c2': 0.3, 'w': 0.9}\n",
      "pyswarms.single.global_best: 100%|██████████|200/200, best_cost=-0.0329\n",
      "2025-06-08 12:43:14,354 - pyswarms.single.global_best - INFO - Optimization finished | best cost: -0.032869049714842495, best pos: [1.84909956 1.67206518]\n",
      "c:\\Users\\naima\\AppData\\Local\\Programs\\Python\\Python313\\Lib\\site-packages\\pygad\\pygad.py:744: UserWarning: The percentage of genes to mutate (mutation_percent_genes=10) resulted in selecting (0) genes. The number of genes to mutate is set to 1 (mutation_num_genes=1).\n",
      "If you do not want to mutate any gene, please set mutation_type=None.\n",
      "  warnings.warn(f\"The percentage of genes to mutate (mutation_percent_genes={mutation_percent_genes}) resulted in selecting ({mutation_num_genes}) genes. The number of genes to mutate is set to 1 (mutation_num_genes=1).\\nIf you do not want to mutate any gene, please set mutation_type=None.\")\n",
      "c:\\Users\\naima\\AppData\\Local\\Programs\\Python\\Python313\\Lib\\site-packages\\pygad\\pygad.py:1145: UserWarning: Use the 'save_solutions' parameter with caution as it may cause memory overflow when either the number of generations, number of genes, or number of solutions in population is large.\n",
      "  warnings.warn(\"Use the 'save_solutions' parameter with caution as it may cause memory overflow when either the number of generations, number of genes, or number of solutions in population is large.\")\n"
     ]
    },
    {
     "name": "stdout",
     "output_type": "stream",
     "text": [
      "Run 21/30\n"
     ]
    },
    {
     "name": "stderr",
     "output_type": "stream",
     "text": [
      "2025-06-08 12:43:23,491 - pyswarms.single.global_best - INFO - Optimize for 200 iters with {'c1': 0.5, 'c2': 0.3, 'w': 0.9}\n",
      "pyswarms.single.global_best: 100%|██████████|200/200, best_cost=-0.0335\n",
      "2025-06-08 12:43:32,955 - pyswarms.single.global_best - INFO - Optimization finished | best cost: -0.033488258826676276, best pos: [1.4675421  1.54491669]\n",
      "c:\\Users\\naima\\AppData\\Local\\Programs\\Python\\Python313\\Lib\\site-packages\\pygad\\pygad.py:744: UserWarning: The percentage of genes to mutate (mutation_percent_genes=10) resulted in selecting (0) genes. The number of genes to mutate is set to 1 (mutation_num_genes=1).\n",
      "If you do not want to mutate any gene, please set mutation_type=None.\n",
      "  warnings.warn(f\"The percentage of genes to mutate (mutation_percent_genes={mutation_percent_genes}) resulted in selecting ({mutation_num_genes}) genes. The number of genes to mutate is set to 1 (mutation_num_genes=1).\\nIf you do not want to mutate any gene, please set mutation_type=None.\")\n",
      "c:\\Users\\naima\\AppData\\Local\\Programs\\Python\\Python313\\Lib\\site-packages\\pygad\\pygad.py:1145: UserWarning: Use the 'save_solutions' parameter with caution as it may cause memory overflow when either the number of generations, number of genes, or number of solutions in population is large.\n",
      "  warnings.warn(\"Use the 'save_solutions' parameter with caution as it may cause memory overflow when either the number of generations, number of genes, or number of solutions in population is large.\")\n"
     ]
    },
    {
     "name": "stdout",
     "output_type": "stream",
     "text": [
      "Run 22/30\n"
     ]
    },
    {
     "name": "stderr",
     "output_type": "stream",
     "text": [
      "2025-06-08 12:43:42,072 - pyswarms.single.global_best - INFO - Optimize for 200 iters with {'c1': 0.5, 'c2': 0.3, 'w': 0.9}\n",
      "pyswarms.single.global_best: 100%|██████████|200/200, best_cost=-0.0335\n",
      "2025-06-08 12:43:50,767 - pyswarms.single.global_best - INFO - Optimization finished | best cost: -0.03345563585122097, best pos: [1.4257197  1.48130507]\n",
      "c:\\Users\\naima\\AppData\\Local\\Programs\\Python\\Python313\\Lib\\site-packages\\pygad\\pygad.py:744: UserWarning: The percentage of genes to mutate (mutation_percent_genes=10) resulted in selecting (0) genes. The number of genes to mutate is set to 1 (mutation_num_genes=1).\n",
      "If you do not want to mutate any gene, please set mutation_type=None.\n",
      "  warnings.warn(f\"The percentage of genes to mutate (mutation_percent_genes={mutation_percent_genes}) resulted in selecting ({mutation_num_genes}) genes. The number of genes to mutate is set to 1 (mutation_num_genes=1).\\nIf you do not want to mutate any gene, please set mutation_type=None.\")\n",
      "c:\\Users\\naima\\AppData\\Local\\Programs\\Python\\Python313\\Lib\\site-packages\\pygad\\pygad.py:1145: UserWarning: Use the 'save_solutions' parameter with caution as it may cause memory overflow when either the number of generations, number of genes, or number of solutions in population is large.\n",
      "  warnings.warn(\"Use the 'save_solutions' parameter with caution as it may cause memory overflow when either the number of generations, number of genes, or number of solutions in population is large.\")\n"
     ]
    },
    {
     "name": "stdout",
     "output_type": "stream",
     "text": [
      "Run 23/30\n"
     ]
    },
    {
     "name": "stderr",
     "output_type": "stream",
     "text": [
      "2025-06-08 12:43:59,037 - pyswarms.single.global_best - INFO - Optimize for 200 iters with {'c1': 0.5, 'c2': 0.3, 'w': 0.9}\n",
      "pyswarms.single.global_best: 100%|██████████|200/200, best_cost=-0.0335\n",
      "2025-06-08 12:44:07,916 - pyswarms.single.global_best - INFO - Optimization finished | best cost: -0.03348796757342847, best pos: [1.4725915  1.56601072]\n",
      "c:\\Users\\naima\\AppData\\Local\\Programs\\Python\\Python313\\Lib\\site-packages\\pygad\\pygad.py:744: UserWarning: The percentage of genes to mutate (mutation_percent_genes=10) resulted in selecting (0) genes. The number of genes to mutate is set to 1 (mutation_num_genes=1).\n",
      "If you do not want to mutate any gene, please set mutation_type=None.\n",
      "  warnings.warn(f\"The percentage of genes to mutate (mutation_percent_genes={mutation_percent_genes}) resulted in selecting ({mutation_num_genes}) genes. The number of genes to mutate is set to 1 (mutation_num_genes=1).\\nIf you do not want to mutate any gene, please set mutation_type=None.\")\n",
      "c:\\Users\\naima\\AppData\\Local\\Programs\\Python\\Python313\\Lib\\site-packages\\pygad\\pygad.py:1145: UserWarning: Use the 'save_solutions' parameter with caution as it may cause memory overflow when either the number of generations, number of genes, or number of solutions in population is large.\n",
      "  warnings.warn(\"Use the 'save_solutions' parameter with caution as it may cause memory overflow when either the number of generations, number of genes, or number of solutions in population is large.\")\n"
     ]
    },
    {
     "name": "stdout",
     "output_type": "stream",
     "text": [
      "Run 24/30\n"
     ]
    },
    {
     "name": "stderr",
     "output_type": "stream",
     "text": [
      "2025-06-08 12:44:15,709 - pyswarms.single.global_best - INFO - Optimize for 200 iters with {'c1': 0.5, 'c2': 0.3, 'w': 0.9}\n",
      "pyswarms.single.global_best: 100%|██████████|200/200, best_cost=-0.0334\n",
      "2025-06-08 12:44:24,433 - pyswarms.single.global_best - INFO - Optimization finished | best cost: -0.033433434533229, best pos: [1.44254536 1.6628244 ]\n",
      "c:\\Users\\naima\\AppData\\Local\\Programs\\Python\\Python313\\Lib\\site-packages\\pygad\\pygad.py:744: UserWarning: The percentage of genes to mutate (mutation_percent_genes=10) resulted in selecting (0) genes. The number of genes to mutate is set to 1 (mutation_num_genes=1).\n",
      "If you do not want to mutate any gene, please set mutation_type=None.\n",
      "  warnings.warn(f\"The percentage of genes to mutate (mutation_percent_genes={mutation_percent_genes}) resulted in selecting ({mutation_num_genes}) genes. The number of genes to mutate is set to 1 (mutation_num_genes=1).\\nIf you do not want to mutate any gene, please set mutation_type=None.\")\n",
      "c:\\Users\\naima\\AppData\\Local\\Programs\\Python\\Python313\\Lib\\site-packages\\pygad\\pygad.py:1145: UserWarning: Use the 'save_solutions' parameter with caution as it may cause memory overflow when either the number of generations, number of genes, or number of solutions in population is large.\n",
      "  warnings.warn(\"Use the 'save_solutions' parameter with caution as it may cause memory overflow when either the number of generations, number of genes, or number of solutions in population is large.\")\n"
     ]
    },
    {
     "name": "stdout",
     "output_type": "stream",
     "text": [
      "Run 25/30\n"
     ]
    },
    {
     "name": "stderr",
     "output_type": "stream",
     "text": [
      "2025-06-08 12:44:32,674 - pyswarms.single.global_best - INFO - Optimize for 200 iters with {'c1': 0.5, 'c2': 0.3, 'w': 0.9}\n",
      "pyswarms.single.global_best: 100%|██████████|200/200, best_cost=-0.0335\n",
      "2025-06-08 12:44:41,669 - pyswarms.single.global_best - INFO - Optimization finished | best cost: -0.03348534903157888, best pos: [1.47210329 1.52522156]\n",
      "c:\\Users\\naima\\AppData\\Local\\Programs\\Python\\Python313\\Lib\\site-packages\\pygad\\pygad.py:744: UserWarning: The percentage of genes to mutate (mutation_percent_genes=10) resulted in selecting (0) genes. The number of genes to mutate is set to 1 (mutation_num_genes=1).\n",
      "If you do not want to mutate any gene, please set mutation_type=None.\n",
      "  warnings.warn(f\"The percentage of genes to mutate (mutation_percent_genes={mutation_percent_genes}) resulted in selecting ({mutation_num_genes}) genes. The number of genes to mutate is set to 1 (mutation_num_genes=1).\\nIf you do not want to mutate any gene, please set mutation_type=None.\")\n",
      "c:\\Users\\naima\\AppData\\Local\\Programs\\Python\\Python313\\Lib\\site-packages\\pygad\\pygad.py:1145: UserWarning: Use the 'save_solutions' parameter with caution as it may cause memory overflow when either the number of generations, number of genes, or number of solutions in population is large.\n",
      "  warnings.warn(\"Use the 'save_solutions' parameter with caution as it may cause memory overflow when either the number of generations, number of genes, or number of solutions in population is large.\")\n"
     ]
    },
    {
     "name": "stdout",
     "output_type": "stream",
     "text": [
      "Run 26/30\n"
     ]
    },
    {
     "name": "stderr",
     "output_type": "stream",
     "text": [
      "2025-06-08 12:44:50,321 - pyswarms.single.global_best - INFO - Optimize for 200 iters with {'c1': 0.5, 'c2': 0.3, 'w': 0.9}\n",
      "pyswarms.single.global_best: 100%|██████████|200/200, best_cost=-0.0335\n",
      "2025-06-08 12:44:59,338 - pyswarms.single.global_best - INFO - Optimization finished | best cost: -0.03347742956141199, best pos: [1.43693308 1.56366923]\n",
      "c:\\Users\\naima\\AppData\\Local\\Programs\\Python\\Python313\\Lib\\site-packages\\pygad\\pygad.py:744: UserWarning: The percentage of genes to mutate (mutation_percent_genes=10) resulted in selecting (0) genes. The number of genes to mutate is set to 1 (mutation_num_genes=1).\n",
      "If you do not want to mutate any gene, please set mutation_type=None.\n",
      "  warnings.warn(f\"The percentage of genes to mutate (mutation_percent_genes={mutation_percent_genes}) resulted in selecting ({mutation_num_genes}) genes. The number of genes to mutate is set to 1 (mutation_num_genes=1).\\nIf you do not want to mutate any gene, please set mutation_type=None.\")\n",
      "c:\\Users\\naima\\AppData\\Local\\Programs\\Python\\Python313\\Lib\\site-packages\\pygad\\pygad.py:1145: UserWarning: Use the 'save_solutions' parameter with caution as it may cause memory overflow when either the number of generations, number of genes, or number of solutions in population is large.\n",
      "  warnings.warn(\"Use the 'save_solutions' parameter with caution as it may cause memory overflow when either the number of generations, number of genes, or number of solutions in population is large.\")\n"
     ]
    },
    {
     "name": "stdout",
     "output_type": "stream",
     "text": [
      "Run 27/30\n"
     ]
    },
    {
     "name": "stderr",
     "output_type": "stream",
     "text": [
      "2025-06-08 12:45:08,573 - pyswarms.single.global_best - INFO - Optimize for 200 iters with {'c1': 0.5, 'c2': 0.3, 'w': 0.9}\n",
      "pyswarms.single.global_best: 100%|██████████|200/200, best_cost=-0.0335\n",
      "2025-06-08 12:45:17,750 - pyswarms.single.global_best - INFO - Optimization finished | best cost: -0.03348075545323703, best pos: [1.46833551 1.59625717]\n",
      "c:\\Users\\naima\\AppData\\Local\\Programs\\Python\\Python313\\Lib\\site-packages\\pygad\\pygad.py:744: UserWarning: The percentage of genes to mutate (mutation_percent_genes=10) resulted in selecting (0) genes. The number of genes to mutate is set to 1 (mutation_num_genes=1).\n",
      "If you do not want to mutate any gene, please set mutation_type=None.\n",
      "  warnings.warn(f\"The percentage of genes to mutate (mutation_percent_genes={mutation_percent_genes}) resulted in selecting ({mutation_num_genes}) genes. The number of genes to mutate is set to 1 (mutation_num_genes=1).\\nIf you do not want to mutate any gene, please set mutation_type=None.\")\n",
      "c:\\Users\\naima\\AppData\\Local\\Programs\\Python\\Python313\\Lib\\site-packages\\pygad\\pygad.py:1145: UserWarning: Use the 'save_solutions' parameter with caution as it may cause memory overflow when either the number of generations, number of genes, or number of solutions in population is large.\n",
      "  warnings.warn(\"Use the 'save_solutions' parameter with caution as it may cause memory overflow when either the number of generations, number of genes, or number of solutions in population is large.\")\n"
     ]
    },
    {
     "name": "stdout",
     "output_type": "stream",
     "text": [
      "Run 28/30\n"
     ]
    },
    {
     "name": "stderr",
     "output_type": "stream",
     "text": [
      "2025-06-08 12:45:26,184 - pyswarms.single.global_best - INFO - Optimize for 200 iters with {'c1': 0.5, 'c2': 0.3, 'w': 0.9}\n",
      "pyswarms.single.global_best: 100%|██████████|200/200, best_cost=-0.0334\n",
      "2025-06-08 12:45:34,728 - pyswarms.single.global_best - INFO - Optimization finished | best cost: -0.03343353510932161, best pos: [1.5316654  1.67292477]\n",
      "c:\\Users\\naima\\AppData\\Local\\Programs\\Python\\Python313\\Lib\\site-packages\\pygad\\pygad.py:744: UserWarning: The percentage of genes to mutate (mutation_percent_genes=10) resulted in selecting (0) genes. The number of genes to mutate is set to 1 (mutation_num_genes=1).\n",
      "If you do not want to mutate any gene, please set mutation_type=None.\n",
      "  warnings.warn(f\"The percentage of genes to mutate (mutation_percent_genes={mutation_percent_genes}) resulted in selecting ({mutation_num_genes}) genes. The number of genes to mutate is set to 1 (mutation_num_genes=1).\\nIf you do not want to mutate any gene, please set mutation_type=None.\")\n",
      "c:\\Users\\naima\\AppData\\Local\\Programs\\Python\\Python313\\Lib\\site-packages\\pygad\\pygad.py:1145: UserWarning: Use the 'save_solutions' parameter with caution as it may cause memory overflow when either the number of generations, number of genes, or number of solutions in population is large.\n",
      "  warnings.warn(\"Use the 'save_solutions' parameter with caution as it may cause memory overflow when either the number of generations, number of genes, or number of solutions in population is large.\")\n"
     ]
    },
    {
     "name": "stdout",
     "output_type": "stream",
     "text": [
      "Run 29/30\n"
     ]
    },
    {
     "name": "stderr",
     "output_type": "stream",
     "text": [
      "2025-06-08 12:45:43,482 - pyswarms.single.global_best - INFO - Optimize for 200 iters with {'c1': 0.5, 'c2': 0.3, 'w': 0.9}\n",
      "pyswarms.single.global_best: 100%|██████████|200/200, best_cost=-0.0335\n",
      "2025-06-08 12:45:53,761 - pyswarms.single.global_best - INFO - Optimization finished | best cost: -0.0334662462153473, best pos: [1.52261455 1.62023711]\n",
      "c:\\Users\\naima\\AppData\\Local\\Programs\\Python\\Python313\\Lib\\site-packages\\pygad\\pygad.py:744: UserWarning: The percentage of genes to mutate (mutation_percent_genes=10) resulted in selecting (0) genes. The number of genes to mutate is set to 1 (mutation_num_genes=1).\n",
      "If you do not want to mutate any gene, please set mutation_type=None.\n",
      "  warnings.warn(f\"The percentage of genes to mutate (mutation_percent_genes={mutation_percent_genes}) resulted in selecting ({mutation_num_genes}) genes. The number of genes to mutate is set to 1 (mutation_num_genes=1).\\nIf you do not want to mutate any gene, please set mutation_type=None.\")\n",
      "c:\\Users\\naima\\AppData\\Local\\Programs\\Python\\Python313\\Lib\\site-packages\\pygad\\pygad.py:1145: UserWarning: Use the 'save_solutions' parameter with caution as it may cause memory overflow when either the number of generations, number of genes, or number of solutions in population is large.\n",
      "  warnings.warn(\"Use the 'save_solutions' parameter with caution as it may cause memory overflow when either the number of generations, number of genes, or number of solutions in population is large.\")\n"
     ]
    },
    {
     "name": "stdout",
     "output_type": "stream",
     "text": [
      "Run 30/30\n"
     ]
    },
    {
     "name": "stderr",
     "output_type": "stream",
     "text": [
      "2025-06-08 12:46:02,946 - pyswarms.single.global_best - INFO - Optimize for 200 iters with {'c1': 0.5, 'c2': 0.3, 'w': 0.9}\n",
      "pyswarms.single.global_best: 100%|██████████|200/200, best_cost=-0.0333\n",
      "2025-06-08 12:46:12,455 - pyswarms.single.global_best - INFO - Optimization finished | best cost: -0.03328262193248514, best pos: [1.62327412 1.75431349]\n"
     ]
    }
   ],
   "source": [
    "from sklearn.linear_model import LinearRegression\n",
    "trainAndreport(\"Linear Regression\",LinearRegression())\n"
   ]
  },
  {
   "cell_type": "code",
   "execution_count": 8,
   "metadata": {},
   "outputs": [
    {
     "name": "stdout",
     "output_type": "stream",
     "text": [
      "Run 1/30\n"
     ]
    },
    {
     "name": "stderr",
     "output_type": "stream",
     "text": [
      "c:\\Users\\naima\\AppData\\Local\\Programs\\Python\\Python313\\Lib\\site-packages\\pygad\\pygad.py:744: UserWarning: The percentage of genes to mutate (mutation_percent_genes=10) resulted in selecting (0) genes. The number of genes to mutate is set to 1 (mutation_num_genes=1).\n",
      "If you do not want to mutate any gene, please set mutation_type=None.\n",
      "  warnings.warn(f\"The percentage of genes to mutate (mutation_percent_genes={mutation_percent_genes}) resulted in selecting ({mutation_num_genes}) genes. The number of genes to mutate is set to 1 (mutation_num_genes=1).\\nIf you do not want to mutate any gene, please set mutation_type=None.\")\n",
      "c:\\Users\\naima\\AppData\\Local\\Programs\\Python\\Python313\\Lib\\site-packages\\pygad\\pygad.py:1145: UserWarning: Use the 'save_solutions' parameter with caution as it may cause memory overflow when either the number of generations, number of genes, or number of solutions in population is large.\n",
      "  warnings.warn(\"Use the 'save_solutions' parameter with caution as it may cause memory overflow when either the number of generations, number of genes, or number of solutions in population is large.\")\n",
      "2025-06-08 12:46:39,212 - pyswarms.single.global_best - INFO - Optimize for 200 iters with {'c1': 0.5, 'c2': 0.3, 'w': 0.9}\n",
      "pyswarms.single.global_best: 100%|██████████|200/200, best_cost=-0.0412\n",
      "2025-06-08 12:46:49,804 - pyswarms.single.global_best - INFO - Optimization finished | best cost: -0.04115677933772497, best pos: [1.18861524 1.31305482]\n"
     ]
    },
    {
     "name": "stdout",
     "output_type": "stream",
     "text": [
      "Run 2/30\n"
     ]
    },
    {
     "name": "stderr",
     "output_type": "stream",
     "text": [
      "c:\\Users\\naima\\AppData\\Local\\Programs\\Python\\Python313\\Lib\\site-packages\\pygad\\pygad.py:744: UserWarning: The percentage of genes to mutate (mutation_percent_genes=10) resulted in selecting (0) genes. The number of genes to mutate is set to 1 (mutation_num_genes=1).\n",
      "If you do not want to mutate any gene, please set mutation_type=None.\n",
      "  warnings.warn(f\"The percentage of genes to mutate (mutation_percent_genes={mutation_percent_genes}) resulted in selecting ({mutation_num_genes}) genes. The number of genes to mutate is set to 1 (mutation_num_genes=1).\\nIf you do not want to mutate any gene, please set mutation_type=None.\")\n",
      "c:\\Users\\naima\\AppData\\Local\\Programs\\Python\\Python313\\Lib\\site-packages\\pygad\\pygad.py:1145: UserWarning: Use the 'save_solutions' parameter with caution as it may cause memory overflow when either the number of generations, number of genes, or number of solutions in population is large.\n",
      "  warnings.warn(\"Use the 'save_solutions' parameter with caution as it may cause memory overflow when either the number of generations, number of genes, or number of solutions in population is large.\")\n",
      "2025-06-08 12:47:14,594 - pyswarms.single.global_best - INFO - Optimize for 200 iters with {'c1': 0.5, 'c2': 0.3, 'w': 0.9}\n",
      "pyswarms.single.global_best: 100%|██████████|200/200, best_cost=-0.0411\n",
      "2025-06-08 12:47:24,672 - pyswarms.single.global_best - INFO - Optimization finished | best cost: -0.04114643776171002, best pos: [1.19374535 1.41405371]\n"
     ]
    },
    {
     "name": "stdout",
     "output_type": "stream",
     "text": [
      "Run 3/30\n"
     ]
    },
    {
     "name": "stderr",
     "output_type": "stream",
     "text": [
      "c:\\Users\\naima\\AppData\\Local\\Programs\\Python\\Python313\\Lib\\site-packages\\pygad\\pygad.py:744: UserWarning: The percentage of genes to mutate (mutation_percent_genes=10) resulted in selecting (0) genes. The number of genes to mutate is set to 1 (mutation_num_genes=1).\n",
      "If you do not want to mutate any gene, please set mutation_type=None.\n",
      "  warnings.warn(f\"The percentage of genes to mutate (mutation_percent_genes={mutation_percent_genes}) resulted in selecting ({mutation_num_genes}) genes. The number of genes to mutate is set to 1 (mutation_num_genes=1).\\nIf you do not want to mutate any gene, please set mutation_type=None.\")\n",
      "c:\\Users\\naima\\AppData\\Local\\Programs\\Python\\Python313\\Lib\\site-packages\\pygad\\pygad.py:1145: UserWarning: Use the 'save_solutions' parameter with caution as it may cause memory overflow when either the number of generations, number of genes, or number of solutions in population is large.\n",
      "  warnings.warn(\"Use the 'save_solutions' parameter with caution as it may cause memory overflow when either the number of generations, number of genes, or number of solutions in population is large.\")\n",
      "2025-06-08 12:47:48,981 - pyswarms.single.global_best - INFO - Optimize for 200 iters with {'c1': 0.5, 'c2': 0.3, 'w': 0.9}\n",
      "pyswarms.single.global_best: 100%|██████████|200/200, best_cost=-0.0411\n",
      "2025-06-08 12:47:58,662 - pyswarms.single.global_best - INFO - Optimization finished | best cost: -0.041126397533183916, best pos: [1.23618813 1.32344689]\n"
     ]
    },
    {
     "name": "stdout",
     "output_type": "stream",
     "text": [
      "Run 4/30\n"
     ]
    },
    {
     "name": "stderr",
     "output_type": "stream",
     "text": [
      "c:\\Users\\naima\\AppData\\Local\\Programs\\Python\\Python313\\Lib\\site-packages\\pygad\\pygad.py:744: UserWarning: The percentage of genes to mutate (mutation_percent_genes=10) resulted in selecting (0) genes. The number of genes to mutate is set to 1 (mutation_num_genes=1).\n",
      "If you do not want to mutate any gene, please set mutation_type=None.\n",
      "  warnings.warn(f\"The percentage of genes to mutate (mutation_percent_genes={mutation_percent_genes}) resulted in selecting ({mutation_num_genes}) genes. The number of genes to mutate is set to 1 (mutation_num_genes=1).\\nIf you do not want to mutate any gene, please set mutation_type=None.\")\n",
      "c:\\Users\\naima\\AppData\\Local\\Programs\\Python\\Python313\\Lib\\site-packages\\pygad\\pygad.py:1145: UserWarning: Use the 'save_solutions' parameter with caution as it may cause memory overflow when either the number of generations, number of genes, or number of solutions in population is large.\n",
      "  warnings.warn(\"Use the 'save_solutions' parameter with caution as it may cause memory overflow when either the number of generations, number of genes, or number of solutions in population is large.\")\n",
      "2025-06-08 12:48:24,453 - pyswarms.single.global_best - INFO - Optimize for 200 iters with {'c1': 0.5, 'c2': 0.3, 'w': 0.9}\n",
      "pyswarms.single.global_best: 100%|██████████|200/200, best_cost=-0.0412\n",
      "2025-06-08 12:48:34,791 - pyswarms.single.global_best - INFO - Optimization finished | best cost: -0.04115975999885897, best pos: [1.16520004 1.38991587]\n"
     ]
    },
    {
     "name": "stdout",
     "output_type": "stream",
     "text": [
      "Run 5/30\n"
     ]
    },
    {
     "name": "stderr",
     "output_type": "stream",
     "text": [
      "c:\\Users\\naima\\AppData\\Local\\Programs\\Python\\Python313\\Lib\\site-packages\\pygad\\pygad.py:744: UserWarning: The percentage of genes to mutate (mutation_percent_genes=10) resulted in selecting (0) genes. The number of genes to mutate is set to 1 (mutation_num_genes=1).\n",
      "If you do not want to mutate any gene, please set mutation_type=None.\n",
      "  warnings.warn(f\"The percentage of genes to mutate (mutation_percent_genes={mutation_percent_genes}) resulted in selecting ({mutation_num_genes}) genes. The number of genes to mutate is set to 1 (mutation_num_genes=1).\\nIf you do not want to mutate any gene, please set mutation_type=None.\")\n",
      "c:\\Users\\naima\\AppData\\Local\\Programs\\Python\\Python313\\Lib\\site-packages\\pygad\\pygad.py:1145: UserWarning: Use the 'save_solutions' parameter with caution as it may cause memory overflow when either the number of generations, number of genes, or number of solutions in population is large.\n",
      "  warnings.warn(\"Use the 'save_solutions' parameter with caution as it may cause memory overflow when either the number of generations, number of genes, or number of solutions in population is large.\")\n",
      "2025-06-08 12:49:00,472 - pyswarms.single.global_best - INFO - Optimize for 200 iters with {'c1': 0.5, 'c2': 0.3, 'w': 0.9}\n",
      "pyswarms.single.global_best: 100%|██████████|200/200, best_cost=-0.0409\n",
      "2025-06-08 12:49:11,007 - pyswarms.single.global_best - INFO - Optimization finished | best cost: -0.04086031926079872, best pos: [1.18090468 1.59271651]\n"
     ]
    },
    {
     "name": "stdout",
     "output_type": "stream",
     "text": [
      "Run 6/30\n"
     ]
    },
    {
     "name": "stderr",
     "output_type": "stream",
     "text": [
      "c:\\Users\\naima\\AppData\\Local\\Programs\\Python\\Python313\\Lib\\site-packages\\pygad\\pygad.py:744: UserWarning: The percentage of genes to mutate (mutation_percent_genes=10) resulted in selecting (0) genes. The number of genes to mutate is set to 1 (mutation_num_genes=1).\n",
      "If you do not want to mutate any gene, please set mutation_type=None.\n",
      "  warnings.warn(f\"The percentage of genes to mutate (mutation_percent_genes={mutation_percent_genes}) resulted in selecting ({mutation_num_genes}) genes. The number of genes to mutate is set to 1 (mutation_num_genes=1).\\nIf you do not want to mutate any gene, please set mutation_type=None.\")\n",
      "c:\\Users\\naima\\AppData\\Local\\Programs\\Python\\Python313\\Lib\\site-packages\\pygad\\pygad.py:1145: UserWarning: Use the 'save_solutions' parameter with caution as it may cause memory overflow when either the number of generations, number of genes, or number of solutions in population is large.\n",
      "  warnings.warn(\"Use the 'save_solutions' parameter with caution as it may cause memory overflow when either the number of generations, number of genes, or number of solutions in population is large.\")\n",
      "2025-06-08 12:49:37,417 - pyswarms.single.global_best - INFO - Optimize for 200 iters with {'c1': 0.5, 'c2': 0.3, 'w': 0.9}\n",
      "pyswarms.single.global_best: 100%|██████████|200/200, best_cost=-0.0407\n",
      "2025-06-08 12:49:48,868 - pyswarms.single.global_best - INFO - Optimization finished | best cost: -0.04068366871559451, best pos: [1.3625751  1.58151447]\n"
     ]
    },
    {
     "name": "stdout",
     "output_type": "stream",
     "text": [
      "Run 7/30\n"
     ]
    },
    {
     "name": "stderr",
     "output_type": "stream",
     "text": [
      "c:\\Users\\naima\\AppData\\Local\\Programs\\Python\\Python313\\Lib\\site-packages\\pygad\\pygad.py:744: UserWarning: The percentage of genes to mutate (mutation_percent_genes=10) resulted in selecting (0) genes. The number of genes to mutate is set to 1 (mutation_num_genes=1).\n",
      "If you do not want to mutate any gene, please set mutation_type=None.\n",
      "  warnings.warn(f\"The percentage of genes to mutate (mutation_percent_genes={mutation_percent_genes}) resulted in selecting ({mutation_num_genes}) genes. The number of genes to mutate is set to 1 (mutation_num_genes=1).\\nIf you do not want to mutate any gene, please set mutation_type=None.\")\n",
      "c:\\Users\\naima\\AppData\\Local\\Programs\\Python\\Python313\\Lib\\site-packages\\pygad\\pygad.py:1145: UserWarning: Use the 'save_solutions' parameter with caution as it may cause memory overflow when either the number of generations, number of genes, or number of solutions in population is large.\n",
      "  warnings.warn(\"Use the 'save_solutions' parameter with caution as it may cause memory overflow when either the number of generations, number of genes, or number of solutions in population is large.\")\n",
      "2025-06-08 12:50:17,186 - pyswarms.single.global_best - INFO - Optimize for 200 iters with {'c1': 0.5, 'c2': 0.3, 'w': 0.9}\n",
      "pyswarms.single.global_best: 100%|██████████|200/200, best_cost=-0.0401\n",
      "2025-06-08 12:50:28,095 - pyswarms.single.global_best - INFO - Optimization finished | best cost: -0.04013813348445646, best pos: [1.55212825 1.3899141 ]\n"
     ]
    },
    {
     "name": "stdout",
     "output_type": "stream",
     "text": [
      "Run 8/30\n"
     ]
    },
    {
     "name": "stderr",
     "output_type": "stream",
     "text": [
      "c:\\Users\\naima\\AppData\\Local\\Programs\\Python\\Python313\\Lib\\site-packages\\pygad\\pygad.py:744: UserWarning: The percentage of genes to mutate (mutation_percent_genes=10) resulted in selecting (0) genes. The number of genes to mutate is set to 1 (mutation_num_genes=1).\n",
      "If you do not want to mutate any gene, please set mutation_type=None.\n",
      "  warnings.warn(f\"The percentage of genes to mutate (mutation_percent_genes={mutation_percent_genes}) resulted in selecting ({mutation_num_genes}) genes. The number of genes to mutate is set to 1 (mutation_num_genes=1).\\nIf you do not want to mutate any gene, please set mutation_type=None.\")\n",
      "c:\\Users\\naima\\AppData\\Local\\Programs\\Python\\Python313\\Lib\\site-packages\\pygad\\pygad.py:1145: UserWarning: Use the 'save_solutions' parameter with caution as it may cause memory overflow when either the number of generations, number of genes, or number of solutions in population is large.\n",
      "  warnings.warn(\"Use the 'save_solutions' parameter with caution as it may cause memory overflow when either the number of generations, number of genes, or number of solutions in population is large.\")\n",
      "2025-06-08 12:50:54,670 - pyswarms.single.global_best - INFO - Optimize for 200 iters with {'c1': 0.5, 'c2': 0.3, 'w': 0.9}\n",
      "pyswarms.single.global_best: 100%|██████████|200/200, best_cost=-0.041 \n",
      "2025-06-08 12:51:04,717 - pyswarms.single.global_best - INFO - Optimization finished | best cost: -0.04104699515394235, best pos: [1.25329947 1.47834853]\n"
     ]
    },
    {
     "name": "stdout",
     "output_type": "stream",
     "text": [
      "Run 9/30\n"
     ]
    },
    {
     "name": "stderr",
     "output_type": "stream",
     "text": [
      "c:\\Users\\naima\\AppData\\Local\\Programs\\Python\\Python313\\Lib\\site-packages\\pygad\\pygad.py:744: UserWarning: The percentage of genes to mutate (mutation_percent_genes=10) resulted in selecting (0) genes. The number of genes to mutate is set to 1 (mutation_num_genes=1).\n",
      "If you do not want to mutate any gene, please set mutation_type=None.\n",
      "  warnings.warn(f\"The percentage of genes to mutate (mutation_percent_genes={mutation_percent_genes}) resulted in selecting ({mutation_num_genes}) genes. The number of genes to mutate is set to 1 (mutation_num_genes=1).\\nIf you do not want to mutate any gene, please set mutation_type=None.\")\n",
      "c:\\Users\\naima\\AppData\\Local\\Programs\\Python\\Python313\\Lib\\site-packages\\pygad\\pygad.py:1145: UserWarning: Use the 'save_solutions' parameter with caution as it may cause memory overflow when either the number of generations, number of genes, or number of solutions in population is large.\n",
      "  warnings.warn(\"Use the 'save_solutions' parameter with caution as it may cause memory overflow when either the number of generations, number of genes, or number of solutions in population is large.\")\n",
      "2025-06-08 12:51:31,130 - pyswarms.single.global_best - INFO - Optimize for 200 iters with {'c1': 0.5, 'c2': 0.3, 'w': 0.9}\n",
      "pyswarms.single.global_best: 100%|██████████|200/200, best_cost=-0.0409\n",
      "2025-06-08 12:51:41,518 - pyswarms.single.global_best - INFO - Optimization finished | best cost: -0.040949386863550395, best pos: [1.33443407 1.39684412]\n"
     ]
    },
    {
     "name": "stdout",
     "output_type": "stream",
     "text": [
      "Run 10/30\n"
     ]
    },
    {
     "name": "stderr",
     "output_type": "stream",
     "text": [
      "c:\\Users\\naima\\AppData\\Local\\Programs\\Python\\Python313\\Lib\\site-packages\\pygad\\pygad.py:744: UserWarning: The percentage of genes to mutate (mutation_percent_genes=10) resulted in selecting (0) genes. The number of genes to mutate is set to 1 (mutation_num_genes=1).\n",
      "If you do not want to mutate any gene, please set mutation_type=None.\n",
      "  warnings.warn(f\"The percentage of genes to mutate (mutation_percent_genes={mutation_percent_genes}) resulted in selecting ({mutation_num_genes}) genes. The number of genes to mutate is set to 1 (mutation_num_genes=1).\\nIf you do not want to mutate any gene, please set mutation_type=None.\")\n",
      "c:\\Users\\naima\\AppData\\Local\\Programs\\Python\\Python313\\Lib\\site-packages\\pygad\\pygad.py:1145: UserWarning: Use the 'save_solutions' parameter with caution as it may cause memory overflow when either the number of generations, number of genes, or number of solutions in population is large.\n",
      "  warnings.warn(\"Use the 'save_solutions' parameter with caution as it may cause memory overflow when either the number of generations, number of genes, or number of solutions in population is large.\")\n",
      "2025-06-08 12:52:08,851 - pyswarms.single.global_best - INFO - Optimize for 200 iters with {'c1': 0.5, 'c2': 0.3, 'w': 0.9}\n",
      "pyswarms.single.global_best: 100%|██████████|200/200, best_cost=-0.0411\n",
      "2025-06-08 12:52:18,809 - pyswarms.single.global_best - INFO - Optimization finished | best cost: -0.04112599341288728, best pos: [1.16382574 1.43408029]\n"
     ]
    },
    {
     "name": "stdout",
     "output_type": "stream",
     "text": [
      "Run 11/30\n"
     ]
    },
    {
     "name": "stderr",
     "output_type": "stream",
     "text": [
      "c:\\Users\\naima\\AppData\\Local\\Programs\\Python\\Python313\\Lib\\site-packages\\pygad\\pygad.py:744: UserWarning: The percentage of genes to mutate (mutation_percent_genes=10) resulted in selecting (0) genes. The number of genes to mutate is set to 1 (mutation_num_genes=1).\n",
      "If you do not want to mutate any gene, please set mutation_type=None.\n",
      "  warnings.warn(f\"The percentage of genes to mutate (mutation_percent_genes={mutation_percent_genes}) resulted in selecting ({mutation_num_genes}) genes. The number of genes to mutate is set to 1 (mutation_num_genes=1).\\nIf you do not want to mutate any gene, please set mutation_type=None.\")\n",
      "c:\\Users\\naima\\AppData\\Local\\Programs\\Python\\Python313\\Lib\\site-packages\\pygad\\pygad.py:1145: UserWarning: Use the 'save_solutions' parameter with caution as it may cause memory overflow when either the number of generations, number of genes, or number of solutions in population is large.\n",
      "  warnings.warn(\"Use the 'save_solutions' parameter with caution as it may cause memory overflow when either the number of generations, number of genes, or number of solutions in population is large.\")\n",
      "2025-06-08 12:52:45,724 - pyswarms.single.global_best - INFO - Optimize for 200 iters with {'c1': 0.5, 'c2': 0.3, 'w': 0.9}\n",
      "pyswarms.single.global_best: 100%|██████████|200/200, best_cost=-0.041 \n",
      "2025-06-08 12:52:56,045 - pyswarms.single.global_best - INFO - Optimization finished | best cost: -0.04104916309581744, best pos: [1.14090416 1.48126562]\n"
     ]
    },
    {
     "name": "stdout",
     "output_type": "stream",
     "text": [
      "Run 12/30\n"
     ]
    },
    {
     "name": "stderr",
     "output_type": "stream",
     "text": [
      "c:\\Users\\naima\\AppData\\Local\\Programs\\Python\\Python313\\Lib\\site-packages\\pygad\\pygad.py:744: UserWarning: The percentage of genes to mutate (mutation_percent_genes=10) resulted in selecting (0) genes. The number of genes to mutate is set to 1 (mutation_num_genes=1).\n",
      "If you do not want to mutate any gene, please set mutation_type=None.\n",
      "  warnings.warn(f\"The percentage of genes to mutate (mutation_percent_genes={mutation_percent_genes}) resulted in selecting ({mutation_num_genes}) genes. The number of genes to mutate is set to 1 (mutation_num_genes=1).\\nIf you do not want to mutate any gene, please set mutation_type=None.\")\n",
      "c:\\Users\\naima\\AppData\\Local\\Programs\\Python\\Python313\\Lib\\site-packages\\pygad\\pygad.py:1145: UserWarning: Use the 'save_solutions' parameter with caution as it may cause memory overflow when either the number of generations, number of genes, or number of solutions in population is large.\n",
      "  warnings.warn(\"Use the 'save_solutions' parameter with caution as it may cause memory overflow when either the number of generations, number of genes, or number of solutions in population is large.\")\n",
      "2025-06-08 12:53:22,511 - pyswarms.single.global_best - INFO - Optimize for 200 iters with {'c1': 0.5, 'c2': 0.3, 'w': 0.9}\n",
      "pyswarms.single.global_best: 100%|██████████|200/200, best_cost=-0.0287\n",
      "2025-06-08 12:53:32,829 - pyswarms.single.global_best - INFO - Optimization finished | best cost: -0.028667905077531485, best pos: [1.2373783  4.27854794]\n"
     ]
    },
    {
     "name": "stdout",
     "output_type": "stream",
     "text": [
      "Run 13/30\n"
     ]
    },
    {
     "name": "stderr",
     "output_type": "stream",
     "text": [
      "c:\\Users\\naima\\AppData\\Local\\Programs\\Python\\Python313\\Lib\\site-packages\\pygad\\pygad.py:744: UserWarning: The percentage of genes to mutate (mutation_percent_genes=10) resulted in selecting (0) genes. The number of genes to mutate is set to 1 (mutation_num_genes=1).\n",
      "If you do not want to mutate any gene, please set mutation_type=None.\n",
      "  warnings.warn(f\"The percentage of genes to mutate (mutation_percent_genes={mutation_percent_genes}) resulted in selecting ({mutation_num_genes}) genes. The number of genes to mutate is set to 1 (mutation_num_genes=1).\\nIf you do not want to mutate any gene, please set mutation_type=None.\")\n",
      "c:\\Users\\naima\\AppData\\Local\\Programs\\Python\\Python313\\Lib\\site-packages\\pygad\\pygad.py:1145: UserWarning: Use the 'save_solutions' parameter with caution as it may cause memory overflow when either the number of generations, number of genes, or number of solutions in population is large.\n",
      "  warnings.warn(\"Use the 'save_solutions' parameter with caution as it may cause memory overflow when either the number of generations, number of genes, or number of solutions in population is large.\")\n",
      "2025-06-08 12:54:00,723 - pyswarms.single.global_best - INFO - Optimize for 200 iters with {'c1': 0.5, 'c2': 0.3, 'w': 0.9}\n",
      "pyswarms.single.global_best: 100%|██████████|200/200, best_cost=-0.0408\n",
      "2025-06-08 12:54:11,693 - pyswarms.single.global_best - INFO - Optimization finished | best cost: -0.04081119419574211, best pos: [1.23169928 1.61376475]\n"
     ]
    },
    {
     "name": "stdout",
     "output_type": "stream",
     "text": [
      "Run 14/30\n"
     ]
    },
    {
     "name": "stderr",
     "output_type": "stream",
     "text": [
      "c:\\Users\\naima\\AppData\\Local\\Programs\\Python\\Python313\\Lib\\site-packages\\pygad\\pygad.py:744: UserWarning: The percentage of genes to mutate (mutation_percent_genes=10) resulted in selecting (0) genes. The number of genes to mutate is set to 1 (mutation_num_genes=1).\n",
      "If you do not want to mutate any gene, please set mutation_type=None.\n",
      "  warnings.warn(f\"The percentage of genes to mutate (mutation_percent_genes={mutation_percent_genes}) resulted in selecting ({mutation_num_genes}) genes. The number of genes to mutate is set to 1 (mutation_num_genes=1).\\nIf you do not want to mutate any gene, please set mutation_type=None.\")\n",
      "c:\\Users\\naima\\AppData\\Local\\Programs\\Python\\Python313\\Lib\\site-packages\\pygad\\pygad.py:1145: UserWarning: Use the 'save_solutions' parameter with caution as it may cause memory overflow when either the number of generations, number of genes, or number of solutions in population is large.\n",
      "  warnings.warn(\"Use the 'save_solutions' parameter with caution as it may cause memory overflow when either the number of generations, number of genes, or number of solutions in population is large.\")\n",
      "2025-06-08 12:54:38,644 - pyswarms.single.global_best - INFO - Optimize for 200 iters with {'c1': 0.5, 'c2': 0.3, 'w': 0.9}\n",
      "pyswarms.single.global_best: 100%|██████████|200/200, best_cost=-0.0408\n",
      "2025-06-08 12:54:48,814 - pyswarms.single.global_best - INFO - Optimization finished | best cost: -0.04083716040818724, best pos: [1.01847637 1.25092057]\n"
     ]
    },
    {
     "name": "stdout",
     "output_type": "stream",
     "text": [
      "Run 15/30\n"
     ]
    },
    {
     "name": "stderr",
     "output_type": "stream",
     "text": [
      "c:\\Users\\naima\\AppData\\Local\\Programs\\Python\\Python313\\Lib\\site-packages\\pygad\\pygad.py:744: UserWarning: The percentage of genes to mutate (mutation_percent_genes=10) resulted in selecting (0) genes. The number of genes to mutate is set to 1 (mutation_num_genes=1).\n",
      "If you do not want to mutate any gene, please set mutation_type=None.\n",
      "  warnings.warn(f\"The percentage of genes to mutate (mutation_percent_genes={mutation_percent_genes}) resulted in selecting ({mutation_num_genes}) genes. The number of genes to mutate is set to 1 (mutation_num_genes=1).\\nIf you do not want to mutate any gene, please set mutation_type=None.\")\n",
      "c:\\Users\\naima\\AppData\\Local\\Programs\\Python\\Python313\\Lib\\site-packages\\pygad\\pygad.py:1145: UserWarning: Use the 'save_solutions' parameter with caution as it may cause memory overflow when either the number of generations, number of genes, or number of solutions in population is large.\n",
      "  warnings.warn(\"Use the 'save_solutions' parameter with caution as it may cause memory overflow when either the number of generations, number of genes, or number of solutions in population is large.\")\n",
      "2025-06-08 12:55:14,949 - pyswarms.single.global_best - INFO - Optimize for 200 iters with {'c1': 0.5, 'c2': 0.3, 'w': 0.9}\n",
      "pyswarms.single.global_best: 100%|██████████|200/200, best_cost=-0.0411\n",
      "2025-06-08 12:55:24,676 - pyswarms.single.global_best - INFO - Optimization finished | best cost: -0.041083467564772776, best pos: [1.25447665 1.29790794]\n"
     ]
    },
    {
     "name": "stdout",
     "output_type": "stream",
     "text": [
      "Run 16/30\n"
     ]
    },
    {
     "name": "stderr",
     "output_type": "stream",
     "text": [
      "c:\\Users\\naima\\AppData\\Local\\Programs\\Python\\Python313\\Lib\\site-packages\\pygad\\pygad.py:744: UserWarning: The percentage of genes to mutate (mutation_percent_genes=10) resulted in selecting (0) genes. The number of genes to mutate is set to 1 (mutation_num_genes=1).\n",
      "If you do not want to mutate any gene, please set mutation_type=None.\n",
      "  warnings.warn(f\"The percentage of genes to mutate (mutation_percent_genes={mutation_percent_genes}) resulted in selecting ({mutation_num_genes}) genes. The number of genes to mutate is set to 1 (mutation_num_genes=1).\\nIf you do not want to mutate any gene, please set mutation_type=None.\")\n",
      "c:\\Users\\naima\\AppData\\Local\\Programs\\Python\\Python313\\Lib\\site-packages\\pygad\\pygad.py:1145: UserWarning: Use the 'save_solutions' parameter with caution as it may cause memory overflow when either the number of generations, number of genes, or number of solutions in population is large.\n",
      "  warnings.warn(\"Use the 'save_solutions' parameter with caution as it may cause memory overflow when either the number of generations, number of genes, or number of solutions in population is large.\")\n",
      "2025-06-08 12:55:50,549 - pyswarms.single.global_best - INFO - Optimize for 200 iters with {'c1': 0.5, 'c2': 0.3, 'w': 0.9}\n",
      "pyswarms.single.global_best: 100%|██████████|200/200, best_cost=-0.0412\n",
      "2025-06-08 12:56:00,568 - pyswarms.single.global_best - INFO - Optimization finished | best cost: -0.041168260477364764, best pos: [1.19519319 1.35734234]\n"
     ]
    },
    {
     "name": "stdout",
     "output_type": "stream",
     "text": [
      "Run 17/30\n"
     ]
    },
    {
     "name": "stderr",
     "output_type": "stream",
     "text": [
      "c:\\Users\\naima\\AppData\\Local\\Programs\\Python\\Python313\\Lib\\site-packages\\pygad\\pygad.py:744: UserWarning: The percentage of genes to mutate (mutation_percent_genes=10) resulted in selecting (0) genes. The number of genes to mutate is set to 1 (mutation_num_genes=1).\n",
      "If you do not want to mutate any gene, please set mutation_type=None.\n",
      "  warnings.warn(f\"The percentage of genes to mutate (mutation_percent_genes={mutation_percent_genes}) resulted in selecting ({mutation_num_genes}) genes. The number of genes to mutate is set to 1 (mutation_num_genes=1).\\nIf you do not want to mutate any gene, please set mutation_type=None.\")\n",
      "c:\\Users\\naima\\AppData\\Local\\Programs\\Python\\Python313\\Lib\\site-packages\\pygad\\pygad.py:1145: UserWarning: Use the 'save_solutions' parameter with caution as it may cause memory overflow when either the number of generations, number of genes, or number of solutions in population is large.\n",
      "  warnings.warn(\"Use the 'save_solutions' parameter with caution as it may cause memory overflow when either the number of generations, number of genes, or number of solutions in population is large.\")\n",
      "2025-06-08 12:56:26,506 - pyswarms.single.global_best - INFO - Optimize for 200 iters with {'c1': 0.5, 'c2': 0.3, 'w': 0.9}\n",
      "pyswarms.single.global_best: 100%|██████████|200/200, best_cost=-0.0412\n",
      "2025-06-08 12:56:36,451 - pyswarms.single.global_best - INFO - Optimization finished | best cost: -0.04116389077927444, best pos: [1.17263029 1.32143653]\n"
     ]
    },
    {
     "name": "stdout",
     "output_type": "stream",
     "text": [
      "Run 18/30\n"
     ]
    },
    {
     "name": "stderr",
     "output_type": "stream",
     "text": [
      "c:\\Users\\naima\\AppData\\Local\\Programs\\Python\\Python313\\Lib\\site-packages\\pygad\\pygad.py:744: UserWarning: The percentage of genes to mutate (mutation_percent_genes=10) resulted in selecting (0) genes. The number of genes to mutate is set to 1 (mutation_num_genes=1).\n",
      "If you do not want to mutate any gene, please set mutation_type=None.\n",
      "  warnings.warn(f\"The percentage of genes to mutate (mutation_percent_genes={mutation_percent_genes}) resulted in selecting ({mutation_num_genes}) genes. The number of genes to mutate is set to 1 (mutation_num_genes=1).\\nIf you do not want to mutate any gene, please set mutation_type=None.\")\n",
      "c:\\Users\\naima\\AppData\\Local\\Programs\\Python\\Python313\\Lib\\site-packages\\pygad\\pygad.py:1145: UserWarning: Use the 'save_solutions' parameter with caution as it may cause memory overflow when either the number of generations, number of genes, or number of solutions in population is large.\n",
      "  warnings.warn(\"Use the 'save_solutions' parameter with caution as it may cause memory overflow when either the number of generations, number of genes, or number of solutions in population is large.\")\n",
      "2025-06-08 12:57:02,939 - pyswarms.single.global_best - INFO - Optimize for 200 iters with {'c1': 0.5, 'c2': 0.3, 'w': 0.9}\n",
      "pyswarms.single.global_best: 100%|██████████|200/200, best_cost=-0.0409\n",
      "2025-06-08 12:57:11,891 - pyswarms.single.global_best - INFO - Optimization finished | best cost: -0.04089806923587143, best pos: [1.35204154 1.35625018]\n"
     ]
    },
    {
     "name": "stdout",
     "output_type": "stream",
     "text": [
      "Run 19/30\n"
     ]
    },
    {
     "name": "stderr",
     "output_type": "stream",
     "text": [
      "c:\\Users\\naima\\AppData\\Local\\Programs\\Python\\Python313\\Lib\\site-packages\\pygad\\pygad.py:744: UserWarning: The percentage of genes to mutate (mutation_percent_genes=10) resulted in selecting (0) genes. The number of genes to mutate is set to 1 (mutation_num_genes=1).\n",
      "If you do not want to mutate any gene, please set mutation_type=None.\n",
      "  warnings.warn(f\"The percentage of genes to mutate (mutation_percent_genes={mutation_percent_genes}) resulted in selecting ({mutation_num_genes}) genes. The number of genes to mutate is set to 1 (mutation_num_genes=1).\\nIf you do not want to mutate any gene, please set mutation_type=None.\")\n",
      "c:\\Users\\naima\\AppData\\Local\\Programs\\Python\\Python313\\Lib\\site-packages\\pygad\\pygad.py:1145: UserWarning: Use the 'save_solutions' parameter with caution as it may cause memory overflow when either the number of generations, number of genes, or number of solutions in population is large.\n",
      "  warnings.warn(\"Use the 'save_solutions' parameter with caution as it may cause memory overflow when either the number of generations, number of genes, or number of solutions in population is large.\")\n",
      "2025-06-08 12:57:34,952 - pyswarms.single.global_best - INFO - Optimize for 200 iters with {'c1': 0.5, 'c2': 0.3, 'w': 0.9}\n",
      "pyswarms.single.global_best: 100%|██████████|200/200, best_cost=-0.0412\n",
      "2025-06-08 12:57:43,207 - pyswarms.single.global_best - INFO - Optimization finished | best cost: -0.04116311526281685, best pos: [1.14916531 1.3592113 ]\n"
     ]
    },
    {
     "name": "stdout",
     "output_type": "stream",
     "text": [
      "Run 20/30\n"
     ]
    },
    {
     "name": "stderr",
     "output_type": "stream",
     "text": [
      "c:\\Users\\naima\\AppData\\Local\\Programs\\Python\\Python313\\Lib\\site-packages\\pygad\\pygad.py:744: UserWarning: The percentage of genes to mutate (mutation_percent_genes=10) resulted in selecting (0) genes. The number of genes to mutate is set to 1 (mutation_num_genes=1).\n",
      "If you do not want to mutate any gene, please set mutation_type=None.\n",
      "  warnings.warn(f\"The percentage of genes to mutate (mutation_percent_genes={mutation_percent_genes}) resulted in selecting ({mutation_num_genes}) genes. The number of genes to mutate is set to 1 (mutation_num_genes=1).\\nIf you do not want to mutate any gene, please set mutation_type=None.\")\n",
      "c:\\Users\\naima\\AppData\\Local\\Programs\\Python\\Python313\\Lib\\site-packages\\pygad\\pygad.py:1145: UserWarning: Use the 'save_solutions' parameter with caution as it may cause memory overflow when either the number of generations, number of genes, or number of solutions in population is large.\n",
      "  warnings.warn(\"Use the 'save_solutions' parameter with caution as it may cause memory overflow when either the number of generations, number of genes, or number of solutions in population is large.\")\n",
      "2025-06-08 12:58:07,711 - pyswarms.single.global_best - INFO - Optimize for 200 iters with {'c1': 0.5, 'c2': 0.3, 'w': 0.9}\n",
      "pyswarms.single.global_best: 100%|██████████|200/200, best_cost=-0.0411\n",
      "2025-06-08 12:58:18,288 - pyswarms.single.global_best - INFO - Optimization finished | best cost: -0.041148290963127096, best pos: [1.15660499 1.4021485 ]\n"
     ]
    },
    {
     "name": "stdout",
     "output_type": "stream",
     "text": [
      "Run 21/30\n"
     ]
    },
    {
     "name": "stderr",
     "output_type": "stream",
     "text": [
      "c:\\Users\\naima\\AppData\\Local\\Programs\\Python\\Python313\\Lib\\site-packages\\pygad\\pygad.py:744: UserWarning: The percentage of genes to mutate (mutation_percent_genes=10) resulted in selecting (0) genes. The number of genes to mutate is set to 1 (mutation_num_genes=1).\n",
      "If you do not want to mutate any gene, please set mutation_type=None.\n",
      "  warnings.warn(f\"The percentage of genes to mutate (mutation_percent_genes={mutation_percent_genes}) resulted in selecting ({mutation_num_genes}) genes. The number of genes to mutate is set to 1 (mutation_num_genes=1).\\nIf you do not want to mutate any gene, please set mutation_type=None.\")\n",
      "c:\\Users\\naima\\AppData\\Local\\Programs\\Python\\Python313\\Lib\\site-packages\\pygad\\pygad.py:1145: UserWarning: Use the 'save_solutions' parameter with caution as it may cause memory overflow when either the number of generations, number of genes, or number of solutions in population is large.\n",
      "  warnings.warn(\"Use the 'save_solutions' parameter with caution as it may cause memory overflow when either the number of generations, number of genes, or number of solutions in population is large.\")\n",
      "2025-06-08 12:58:43,296 - pyswarms.single.global_best - INFO - Optimize for 200 iters with {'c1': 0.5, 'c2': 0.3, 'w': 0.9}\n",
      "pyswarms.single.global_best: 100%|██████████|200/200, best_cost=-0.0407\n",
      "2025-06-08 12:58:52,010 - pyswarms.single.global_best - INFO - Optimization finished | best cost: -0.04074350072778491, best pos: [1.2957699  1.61609793]\n"
     ]
    },
    {
     "name": "stdout",
     "output_type": "stream",
     "text": [
      "Run 22/30\n"
     ]
    },
    {
     "name": "stderr",
     "output_type": "stream",
     "text": [
      "c:\\Users\\naima\\AppData\\Local\\Programs\\Python\\Python313\\Lib\\site-packages\\pygad\\pygad.py:744: UserWarning: The percentage of genes to mutate (mutation_percent_genes=10) resulted in selecting (0) genes. The number of genes to mutate is set to 1 (mutation_num_genes=1).\n",
      "If you do not want to mutate any gene, please set mutation_type=None.\n",
      "  warnings.warn(f\"The percentage of genes to mutate (mutation_percent_genes={mutation_percent_genes}) resulted in selecting ({mutation_num_genes}) genes. The number of genes to mutate is set to 1 (mutation_num_genes=1).\\nIf you do not want to mutate any gene, please set mutation_type=None.\")\n",
      "c:\\Users\\naima\\AppData\\Local\\Programs\\Python\\Python313\\Lib\\site-packages\\pygad\\pygad.py:1145: UserWarning: Use the 'save_solutions' parameter with caution as it may cause memory overflow when either the number of generations, number of genes, or number of solutions in population is large.\n",
      "  warnings.warn(\"Use the 'save_solutions' parameter with caution as it may cause memory overflow when either the number of generations, number of genes, or number of solutions in population is large.\")\n",
      "2025-06-08 12:59:17,040 - pyswarms.single.global_best - INFO - Optimize for 200 iters with {'c1': 0.5, 'c2': 0.3, 'w': 0.9}\n",
      "pyswarms.single.global_best: 100%|██████████|200/200, best_cost=-0.0411\n",
      "2025-06-08 12:59:25,992 - pyswarms.single.global_best - INFO - Optimization finished | best cost: -0.04111095571929123, best pos: [1.10652947 1.37021094]\n"
     ]
    },
    {
     "name": "stdout",
     "output_type": "stream",
     "text": [
      "Run 23/30\n"
     ]
    },
    {
     "name": "stderr",
     "output_type": "stream",
     "text": [
      "c:\\Users\\naima\\AppData\\Local\\Programs\\Python\\Python313\\Lib\\site-packages\\pygad\\pygad.py:744: UserWarning: The percentage of genes to mutate (mutation_percent_genes=10) resulted in selecting (0) genes. The number of genes to mutate is set to 1 (mutation_num_genes=1).\n",
      "If you do not want to mutate any gene, please set mutation_type=None.\n",
      "  warnings.warn(f\"The percentage of genes to mutate (mutation_percent_genes={mutation_percent_genes}) resulted in selecting ({mutation_num_genes}) genes. The number of genes to mutate is set to 1 (mutation_num_genes=1).\\nIf you do not want to mutate any gene, please set mutation_type=None.\")\n",
      "c:\\Users\\naima\\AppData\\Local\\Programs\\Python\\Python313\\Lib\\site-packages\\pygad\\pygad.py:1145: UserWarning: Use the 'save_solutions' parameter with caution as it may cause memory overflow when either the number of generations, number of genes, or number of solutions in population is large.\n",
      "  warnings.warn(\"Use the 'save_solutions' parameter with caution as it may cause memory overflow when either the number of generations, number of genes, or number of solutions in population is large.\")\n",
      "2025-06-08 12:59:48,964 - pyswarms.single.global_best - INFO - Optimize for 200 iters with {'c1': 0.5, 'c2': 0.3, 'w': 0.9}\n",
      "pyswarms.single.global_best: 100%|██████████|200/200, best_cost=-0.0411\n",
      "2025-06-08 12:59:57,553 - pyswarms.single.global_best - INFO - Optimization finished | best cost: -0.04112968999871999, best pos: [1.1853469  1.43564288]\n"
     ]
    },
    {
     "name": "stdout",
     "output_type": "stream",
     "text": [
      "Run 24/30\n"
     ]
    },
    {
     "name": "stderr",
     "output_type": "stream",
     "text": [
      "c:\\Users\\naima\\AppData\\Local\\Programs\\Python\\Python313\\Lib\\site-packages\\pygad\\pygad.py:744: UserWarning: The percentage of genes to mutate (mutation_percent_genes=10) resulted in selecting (0) genes. The number of genes to mutate is set to 1 (mutation_num_genes=1).\n",
      "If you do not want to mutate any gene, please set mutation_type=None.\n",
      "  warnings.warn(f\"The percentage of genes to mutate (mutation_percent_genes={mutation_percent_genes}) resulted in selecting ({mutation_num_genes}) genes. The number of genes to mutate is set to 1 (mutation_num_genes=1).\\nIf you do not want to mutate any gene, please set mutation_type=None.\")\n",
      "c:\\Users\\naima\\AppData\\Local\\Programs\\Python\\Python313\\Lib\\site-packages\\pygad\\pygad.py:1145: UserWarning: Use the 'save_solutions' parameter with caution as it may cause memory overflow when either the number of generations, number of genes, or number of solutions in population is large.\n",
      "  warnings.warn(\"Use the 'save_solutions' parameter with caution as it may cause memory overflow when either the number of generations, number of genes, or number of solutions in population is large.\")\n",
      "2025-06-08 13:00:21,313 - pyswarms.single.global_best - INFO - Optimize for 200 iters with {'c1': 0.5, 'c2': 0.3, 'w': 0.9}\n",
      "pyswarms.single.global_best: 100%|██████████|200/200, best_cost=-0.0412\n",
      "2025-06-08 13:00:29,601 - pyswarms.single.global_best - INFO - Optimization finished | best cost: -0.04115103929835454, best pos: [1.15042499 1.30348122]\n"
     ]
    },
    {
     "name": "stdout",
     "output_type": "stream",
     "text": [
      "Run 25/30\n"
     ]
    },
    {
     "name": "stderr",
     "output_type": "stream",
     "text": [
      "c:\\Users\\naima\\AppData\\Local\\Programs\\Python\\Python313\\Lib\\site-packages\\pygad\\pygad.py:744: UserWarning: The percentage of genes to mutate (mutation_percent_genes=10) resulted in selecting (0) genes. The number of genes to mutate is set to 1 (mutation_num_genes=1).\n",
      "If you do not want to mutate any gene, please set mutation_type=None.\n",
      "  warnings.warn(f\"The percentage of genes to mutate (mutation_percent_genes={mutation_percent_genes}) resulted in selecting ({mutation_num_genes}) genes. The number of genes to mutate is set to 1 (mutation_num_genes=1).\\nIf you do not want to mutate any gene, please set mutation_type=None.\")\n",
      "c:\\Users\\naima\\AppData\\Local\\Programs\\Python\\Python313\\Lib\\site-packages\\pygad\\pygad.py:1145: UserWarning: Use the 'save_solutions' parameter with caution as it may cause memory overflow when either the number of generations, number of genes, or number of solutions in population is large.\n",
      "  warnings.warn(\"Use the 'save_solutions' parameter with caution as it may cause memory overflow when either the number of generations, number of genes, or number of solutions in population is large.\")\n",
      "2025-06-08 13:00:53,750 - pyswarms.single.global_best - INFO - Optimize for 200 iters with {'c1': 0.5, 'c2': 0.3, 'w': 0.9}\n",
      "pyswarms.single.global_best: 100%|██████████|200/200, best_cost=-0.041 \n",
      "2025-06-08 13:01:03,701 - pyswarms.single.global_best - INFO - Optimization finished | best cost: -0.04100567305722041, best pos: [1.2308491  1.52143472]\n"
     ]
    },
    {
     "name": "stdout",
     "output_type": "stream",
     "text": [
      "Run 26/30\n"
     ]
    },
    {
     "name": "stderr",
     "output_type": "stream",
     "text": [
      "c:\\Users\\naima\\AppData\\Local\\Programs\\Python\\Python313\\Lib\\site-packages\\pygad\\pygad.py:744: UserWarning: The percentage of genes to mutate (mutation_percent_genes=10) resulted in selecting (0) genes. The number of genes to mutate is set to 1 (mutation_num_genes=1).\n",
      "If you do not want to mutate any gene, please set mutation_type=None.\n",
      "  warnings.warn(f\"The percentage of genes to mutate (mutation_percent_genes={mutation_percent_genes}) resulted in selecting ({mutation_num_genes}) genes. The number of genes to mutate is set to 1 (mutation_num_genes=1).\\nIf you do not want to mutate any gene, please set mutation_type=None.\")\n",
      "c:\\Users\\naima\\AppData\\Local\\Programs\\Python\\Python313\\Lib\\site-packages\\pygad\\pygad.py:1145: UserWarning: Use the 'save_solutions' parameter with caution as it may cause memory overflow when either the number of generations, number of genes, or number of solutions in population is large.\n",
      "  warnings.warn(\"Use the 'save_solutions' parameter with caution as it may cause memory overflow when either the number of generations, number of genes, or number of solutions in population is large.\")\n",
      "2025-06-08 13:01:28,932 - pyswarms.single.global_best - INFO - Optimize for 200 iters with {'c1': 0.5, 'c2': 0.3, 'w': 0.9}\n",
      "pyswarms.single.global_best: 100%|██████████|200/200, best_cost=-0.041 \n",
      "2025-06-08 13:01:38,809 - pyswarms.single.global_best - INFO - Optimization finished | best cost: -0.040964013978929875, best pos: [1.2037515 1.5486909]\n"
     ]
    },
    {
     "name": "stdout",
     "output_type": "stream",
     "text": [
      "Run 27/30\n"
     ]
    },
    {
     "name": "stderr",
     "output_type": "stream",
     "text": [
      "c:\\Users\\naima\\AppData\\Local\\Programs\\Python\\Python313\\Lib\\site-packages\\pygad\\pygad.py:744: UserWarning: The percentage of genes to mutate (mutation_percent_genes=10) resulted in selecting (0) genes. The number of genes to mutate is set to 1 (mutation_num_genes=1).\n",
      "If you do not want to mutate any gene, please set mutation_type=None.\n",
      "  warnings.warn(f\"The percentage of genes to mutate (mutation_percent_genes={mutation_percent_genes}) resulted in selecting ({mutation_num_genes}) genes. The number of genes to mutate is set to 1 (mutation_num_genes=1).\\nIf you do not want to mutate any gene, please set mutation_type=None.\")\n",
      "c:\\Users\\naima\\AppData\\Local\\Programs\\Python\\Python313\\Lib\\site-packages\\pygad\\pygad.py:1145: UserWarning: Use the 'save_solutions' parameter with caution as it may cause memory overflow when either the number of generations, number of genes, or number of solutions in population is large.\n",
      "  warnings.warn(\"Use the 'save_solutions' parameter with caution as it may cause memory overflow when either the number of generations, number of genes, or number of solutions in population is large.\")\n",
      "2025-06-08 13:02:02,782 - pyswarms.single.global_best - INFO - Optimize for 200 iters with {'c1': 0.5, 'c2': 0.3, 'w': 0.9}\n",
      "pyswarms.single.global_best: 100%|██████████|200/200, best_cost=-0.0412\n",
      "2025-06-08 13:02:12,111 - pyswarms.single.global_best - INFO - Optimization finished | best cost: -0.04116585600169518, best pos: [1.201021   1.35580507]\n"
     ]
    },
    {
     "name": "stdout",
     "output_type": "stream",
     "text": [
      "Run 28/30\n"
     ]
    },
    {
     "name": "stderr",
     "output_type": "stream",
     "text": [
      "c:\\Users\\naima\\AppData\\Local\\Programs\\Python\\Python313\\Lib\\site-packages\\pygad\\pygad.py:744: UserWarning: The percentage of genes to mutate (mutation_percent_genes=10) resulted in selecting (0) genes. The number of genes to mutate is set to 1 (mutation_num_genes=1).\n",
      "If you do not want to mutate any gene, please set mutation_type=None.\n",
      "  warnings.warn(f\"The percentage of genes to mutate (mutation_percent_genes={mutation_percent_genes}) resulted in selecting ({mutation_num_genes}) genes. The number of genes to mutate is set to 1 (mutation_num_genes=1).\\nIf you do not want to mutate any gene, please set mutation_type=None.\")\n",
      "c:\\Users\\naima\\AppData\\Local\\Programs\\Python\\Python313\\Lib\\site-packages\\pygad\\pygad.py:1145: UserWarning: Use the 'save_solutions' parameter with caution as it may cause memory overflow when either the number of generations, number of genes, or number of solutions in population is large.\n",
      "  warnings.warn(\"Use the 'save_solutions' parameter with caution as it may cause memory overflow when either the number of generations, number of genes, or number of solutions in population is large.\")\n",
      "2025-06-08 13:02:36,969 - pyswarms.single.global_best - INFO - Optimize for 200 iters with {'c1': 0.5, 'c2': 0.3, 'w': 0.9}\n",
      "pyswarms.single.global_best: 100%|██████████|200/200, best_cost=-0.0412\n",
      "2025-06-08 13:02:47,953 - pyswarms.single.global_best - INFO - Optimization finished | best cost: -0.041166659324973785, best pos: [1.15908472 1.33529599]\n"
     ]
    },
    {
     "name": "stdout",
     "output_type": "stream",
     "text": [
      "Run 29/30\n"
     ]
    },
    {
     "name": "stderr",
     "output_type": "stream",
     "text": [
      "c:\\Users\\naima\\AppData\\Local\\Programs\\Python\\Python313\\Lib\\site-packages\\pygad\\pygad.py:744: UserWarning: The percentage of genes to mutate (mutation_percent_genes=10) resulted in selecting (0) genes. The number of genes to mutate is set to 1 (mutation_num_genes=1).\n",
      "If you do not want to mutate any gene, please set mutation_type=None.\n",
      "  warnings.warn(f\"The percentage of genes to mutate (mutation_percent_genes={mutation_percent_genes}) resulted in selecting ({mutation_num_genes}) genes. The number of genes to mutate is set to 1 (mutation_num_genes=1).\\nIf you do not want to mutate any gene, please set mutation_type=None.\")\n",
      "c:\\Users\\naima\\AppData\\Local\\Programs\\Python\\Python313\\Lib\\site-packages\\pygad\\pygad.py:1145: UserWarning: Use the 'save_solutions' parameter with caution as it may cause memory overflow when either the number of generations, number of genes, or number of solutions in population is large.\n",
      "  warnings.warn(\"Use the 'save_solutions' parameter with caution as it may cause memory overflow when either the number of generations, number of genes, or number of solutions in population is large.\")\n",
      "2025-06-08 13:03:13,549 - pyswarms.single.global_best - INFO - Optimize for 200 iters with {'c1': 0.5, 'c2': 0.3, 'w': 0.9}\n",
      "pyswarms.single.global_best: 100%|██████████|200/200, best_cost=-0.0404\n",
      "2025-06-08 13:03:23,960 - pyswarms.single.global_best - INFO - Optimization finished | best cost: -0.04041055211590689, best pos: [1.49095439 1.4305179 ]\n"
     ]
    },
    {
     "name": "stdout",
     "output_type": "stream",
     "text": [
      "Run 30/30\n"
     ]
    },
    {
     "name": "stderr",
     "output_type": "stream",
     "text": [
      "c:\\Users\\naima\\AppData\\Local\\Programs\\Python\\Python313\\Lib\\site-packages\\pygad\\pygad.py:744: UserWarning: The percentage of genes to mutate (mutation_percent_genes=10) resulted in selecting (0) genes. The number of genes to mutate is set to 1 (mutation_num_genes=1).\n",
      "If you do not want to mutate any gene, please set mutation_type=None.\n",
      "  warnings.warn(f\"The percentage of genes to mutate (mutation_percent_genes={mutation_percent_genes}) resulted in selecting ({mutation_num_genes}) genes. The number of genes to mutate is set to 1 (mutation_num_genes=1).\\nIf you do not want to mutate any gene, please set mutation_type=None.\")\n",
      "c:\\Users\\naima\\AppData\\Local\\Programs\\Python\\Python313\\Lib\\site-packages\\pygad\\pygad.py:1145: UserWarning: Use the 'save_solutions' parameter with caution as it may cause memory overflow when either the number of generations, number of genes, or number of solutions in population is large.\n",
      "  warnings.warn(\"Use the 'save_solutions' parameter with caution as it may cause memory overflow when either the number of generations, number of genes, or number of solutions in population is large.\")\n",
      "2025-06-08 13:03:48,576 - pyswarms.single.global_best - INFO - Optimize for 200 iters with {'c1': 0.5, 'c2': 0.3, 'w': 0.9}\n",
      "pyswarms.single.global_best: 100%|██████████|200/200, best_cost=-0.0412\n",
      "2025-06-08 13:03:54,859 - pyswarms.single.global_best - INFO - Optimization finished | best cost: -0.04115121628030867, best pos: [1.19758263 1.40525005]\n"
     ]
    }
   ],
   "source": [
    "from sklearn.svm import SVR\n",
    "trainAndreport(\"SVR\",SVR())\n"
   ]
  },
  {
   "cell_type": "code",
   "execution_count": null,
   "metadata": {},
   "outputs": [
    {
     "name": "stdout",
     "output_type": "stream",
     "text": [
      "Run 1/30\n"
     ]
    },
    {
     "name": "stderr",
     "output_type": "stream",
     "text": [
      "c:\\Users\\naima\\AppData\\Local\\Programs\\Python\\Python313\\Lib\\site-packages\\pygad\\pygad.py:744: UserWarning: The percentage of genes to mutate (mutation_percent_genes=10) resulted in selecting (0) genes. The number of genes to mutate is set to 1 (mutation_num_genes=1).\n",
      "If you do not want to mutate any gene, please set mutation_type=None.\n",
      "  warnings.warn(f\"The percentage of genes to mutate (mutation_percent_genes={mutation_percent_genes}) resulted in selecting ({mutation_num_genes}) genes. The number of genes to mutate is set to 1 (mutation_num_genes=1).\\nIf you do not want to mutate any gene, please set mutation_type=None.\")\n",
      "c:\\Users\\naima\\AppData\\Local\\Programs\\Python\\Python313\\Lib\\site-packages\\pygad\\pygad.py:1145: UserWarning: Use the 'save_solutions' parameter with caution as it may cause memory overflow when either the number of generations, number of genes, or number of solutions in population is large.\n",
      "  warnings.warn(\"Use the 'save_solutions' parameter with caution as it may cause memory overflow when either the number of generations, number of genes, or number of solutions in population is large.\")\n",
      "2025-06-08 13:04:20,095 - pyswarms.single.global_best - INFO - Optimize for 200 iters with {'c1': 0.5, 'c2': 0.3, 'w': 0.9}\n",
      "pyswarms.single.global_best: 100%|██████████|200/200, best_cost=-0.0512\n",
      "2025-06-08 13:04:26,059 - pyswarms.single.global_best - INFO - Optimization finished | best cost: -0.051191785118654486, best pos: [1.07354654 0.91818484]\n"
     ]
    },
    {
     "name": "stdout",
     "output_type": "stream",
     "text": [
      "Run 2/30\n"
     ]
    },
    {
     "name": "stderr",
     "output_type": "stream",
     "text": [
      "c:\\Users\\naima\\AppData\\Local\\Programs\\Python\\Python313\\Lib\\site-packages\\pygad\\pygad.py:744: UserWarning: The percentage of genes to mutate (mutation_percent_genes=10) resulted in selecting (0) genes. The number of genes to mutate is set to 1 (mutation_num_genes=1).\n",
      "If you do not want to mutate any gene, please set mutation_type=None.\n",
      "  warnings.warn(f\"The percentage of genes to mutate (mutation_percent_genes={mutation_percent_genes}) resulted in selecting ({mutation_num_genes}) genes. The number of genes to mutate is set to 1 (mutation_num_genes=1).\\nIf you do not want to mutate any gene, please set mutation_type=None.\")\n",
      "c:\\Users\\naima\\AppData\\Local\\Programs\\Python\\Python313\\Lib\\site-packages\\pygad\\pygad.py:1145: UserWarning: Use the 'save_solutions' parameter with caution as it may cause memory overflow when either the number of generations, number of genes, or number of solutions in population is large.\n",
      "  warnings.warn(\"Use the 'save_solutions' parameter with caution as it may cause memory overflow when either the number of generations, number of genes, or number of solutions in population is large.\")\n",
      "2025-06-08 13:04:44,141 - pyswarms.single.global_best - INFO - Optimize for 200 iters with {'c1': 0.5, 'c2': 0.3, 'w': 0.9}\n",
      "pyswarms.single.global_best: 100%|██████████|200/200, best_cost=-0.0512\n",
      "2025-06-08 13:04:50,500 - pyswarms.single.global_best - INFO - Optimization finished | best cost: -0.05123526370231596, best pos: [1.04945726 0.91230156]\n"
     ]
    },
    {
     "name": "stdout",
     "output_type": "stream",
     "text": [
      "Run 3/30\n"
     ]
    },
    {
     "name": "stderr",
     "output_type": "stream",
     "text": [
      "c:\\Users\\naima\\AppData\\Local\\Programs\\Python\\Python313\\Lib\\site-packages\\pygad\\pygad.py:744: UserWarning: The percentage of genes to mutate (mutation_percent_genes=10) resulted in selecting (0) genes. The number of genes to mutate is set to 1 (mutation_num_genes=1).\n",
      "If you do not want to mutate any gene, please set mutation_type=None.\n",
      "  warnings.warn(f\"The percentage of genes to mutate (mutation_percent_genes={mutation_percent_genes}) resulted in selecting ({mutation_num_genes}) genes. The number of genes to mutate is set to 1 (mutation_num_genes=1).\\nIf you do not want to mutate any gene, please set mutation_type=None.\")\n",
      "c:\\Users\\naima\\AppData\\Local\\Programs\\Python\\Python313\\Lib\\site-packages\\pygad\\pygad.py:1145: UserWarning: Use the 'save_solutions' parameter with caution as it may cause memory overflow when either the number of generations, number of genes, or number of solutions in population is large.\n",
      "  warnings.warn(\"Use the 'save_solutions' parameter with caution as it may cause memory overflow when either the number of generations, number of genes, or number of solutions in population is large.\")\n",
      "2025-06-08 13:05:09,243 - pyswarms.single.global_best - INFO - Optimize for 200 iters with {'c1': 0.5, 'c2': 0.3, 'w': 0.9}\n",
      "pyswarms.single.global_best: 100%|██████████|200/200, best_cost=-0.0512\n",
      "2025-06-08 13:05:14,855 - pyswarms.single.global_best - INFO - Optimization finished | best cost: -0.05115808570777196, best pos: [1.0687383  1.11143267]\n"
     ]
    },
    {
     "name": "stdout",
     "output_type": "stream",
     "text": [
      "Run 4/30\n"
     ]
    },
    {
     "name": "stderr",
     "output_type": "stream",
     "text": [
      "c:\\Users\\naima\\AppData\\Local\\Programs\\Python\\Python313\\Lib\\site-packages\\pygad\\pygad.py:744: UserWarning: The percentage of genes to mutate (mutation_percent_genes=10) resulted in selecting (0) genes. The number of genes to mutate is set to 1 (mutation_num_genes=1).\n",
      "If you do not want to mutate any gene, please set mutation_type=None.\n",
      "  warnings.warn(f\"The percentage of genes to mutate (mutation_percent_genes={mutation_percent_genes}) resulted in selecting ({mutation_num_genes}) genes. The number of genes to mutate is set to 1 (mutation_num_genes=1).\\nIf you do not want to mutate any gene, please set mutation_type=None.\")\n",
      "c:\\Users\\naima\\AppData\\Local\\Programs\\Python\\Python313\\Lib\\site-packages\\pygad\\pygad.py:1145: UserWarning: Use the 'save_solutions' parameter with caution as it may cause memory overflow when either the number of generations, number of genes, or number of solutions in population is large.\n",
      "  warnings.warn(\"Use the 'save_solutions' parameter with caution as it may cause memory overflow when either the number of generations, number of genes, or number of solutions in population is large.\")\n",
      "2025-06-08 13:05:32,680 - pyswarms.single.global_best - INFO - Optimize for 200 iters with {'c1': 0.5, 'c2': 0.3, 'w': 0.9}\n",
      "pyswarms.single.global_best: 100%|██████████|200/200, best_cost=-0.0507\n",
      "2025-06-08 13:05:38,220 - pyswarms.single.global_best - INFO - Optimization finished | best cost: -0.05065490969227005, best pos: [0.94731442 0.76867224]\n"
     ]
    },
    {
     "name": "stdout",
     "output_type": "stream",
     "text": [
      "Run 5/30\n"
     ]
    },
    {
     "name": "stderr",
     "output_type": "stream",
     "text": [
      "c:\\Users\\naima\\AppData\\Local\\Programs\\Python\\Python313\\Lib\\site-packages\\pygad\\pygad.py:744: UserWarning: The percentage of genes to mutate (mutation_percent_genes=10) resulted in selecting (0) genes. The number of genes to mutate is set to 1 (mutation_num_genes=1).\n",
      "If you do not want to mutate any gene, please set mutation_type=None.\n",
      "  warnings.warn(f\"The percentage of genes to mutate (mutation_percent_genes={mutation_percent_genes}) resulted in selecting ({mutation_num_genes}) genes. The number of genes to mutate is set to 1 (mutation_num_genes=1).\\nIf you do not want to mutate any gene, please set mutation_type=None.\")\n",
      "c:\\Users\\naima\\AppData\\Local\\Programs\\Python\\Python313\\Lib\\site-packages\\pygad\\pygad.py:1145: UserWarning: Use the 'save_solutions' parameter with caution as it may cause memory overflow when either the number of generations, number of genes, or number of solutions in population is large.\n",
      "  warnings.warn(\"Use the 'save_solutions' parameter with caution as it may cause memory overflow when either the number of generations, number of genes, or number of solutions in population is large.\")\n",
      "2025-06-08 13:05:55,605 - pyswarms.single.global_best - INFO - Optimize for 200 iters with {'c1': 0.5, 'c2': 0.3, 'w': 0.9}\n",
      "pyswarms.single.global_best: 100%|██████████|200/200, best_cost=-0.0511\n",
      "2025-06-08 13:06:01,206 - pyswarms.single.global_best - INFO - Optimization finished | best cost: -0.05108191717220052, best pos: [0.97535151 1.16075436]\n"
     ]
    },
    {
     "name": "stdout",
     "output_type": "stream",
     "text": [
      "Run 6/30\n"
     ]
    },
    {
     "name": "stderr",
     "output_type": "stream",
     "text": [
      "c:\\Users\\naima\\AppData\\Local\\Programs\\Python\\Python313\\Lib\\site-packages\\pygad\\pygad.py:744: UserWarning: The percentage of genes to mutate (mutation_percent_genes=10) resulted in selecting (0) genes. The number of genes to mutate is set to 1 (mutation_num_genes=1).\n",
      "If you do not want to mutate any gene, please set mutation_type=None.\n",
      "  warnings.warn(f\"The percentage of genes to mutate (mutation_percent_genes={mutation_percent_genes}) resulted in selecting ({mutation_num_genes}) genes. The number of genes to mutate is set to 1 (mutation_num_genes=1).\\nIf you do not want to mutate any gene, please set mutation_type=None.\")\n",
      "c:\\Users\\naima\\AppData\\Local\\Programs\\Python\\Python313\\Lib\\site-packages\\pygad\\pygad.py:1145: UserWarning: Use the 'save_solutions' parameter with caution as it may cause memory overflow when either the number of generations, number of genes, or number of solutions in population is large.\n",
      "  warnings.warn(\"Use the 'save_solutions' parameter with caution as it may cause memory overflow when either the number of generations, number of genes, or number of solutions in population is large.\")\n",
      "2025-06-08 13:06:18,749 - pyswarms.single.global_best - INFO - Optimize for 200 iters with {'c1': 0.5, 'c2': 0.3, 'w': 0.9}\n",
      "pyswarms.single.global_best: 100%|██████████|200/200, best_cost=-0.0514\n",
      "2025-06-08 13:06:24,081 - pyswarms.single.global_best - INFO - Optimization finished | best cost: -0.051393093725064676, best pos: [0.96456146 0.97917075]\n"
     ]
    },
    {
     "name": "stdout",
     "output_type": "stream",
     "text": [
      "Run 7/30\n"
     ]
    },
    {
     "name": "stderr",
     "output_type": "stream",
     "text": [
      "c:\\Users\\naima\\AppData\\Local\\Programs\\Python\\Python313\\Lib\\site-packages\\pygad\\pygad.py:744: UserWarning: The percentage of genes to mutate (mutation_percent_genes=10) resulted in selecting (0) genes. The number of genes to mutate is set to 1 (mutation_num_genes=1).\n",
      "If you do not want to mutate any gene, please set mutation_type=None.\n",
      "  warnings.warn(f\"The percentage of genes to mutate (mutation_percent_genes={mutation_percent_genes}) resulted in selecting ({mutation_num_genes}) genes. The number of genes to mutate is set to 1 (mutation_num_genes=1).\\nIf you do not want to mutate any gene, please set mutation_type=None.\")\n",
      "c:\\Users\\naima\\AppData\\Local\\Programs\\Python\\Python313\\Lib\\site-packages\\pygad\\pygad.py:1145: UserWarning: Use the 'save_solutions' parameter with caution as it may cause memory overflow when either the number of generations, number of genes, or number of solutions in population is large.\n",
      "  warnings.warn(\"Use the 'save_solutions' parameter with caution as it may cause memory overflow when either the number of generations, number of genes, or number of solutions in population is large.\")\n",
      "2025-06-08 13:06:41,036 - pyswarms.single.global_best - INFO - Optimize for 200 iters with {'c1': 0.5, 'c2': 0.3, 'w': 0.9}\n",
      "pyswarms.single.global_best: 100%|██████████|200/200, best_cost=-0.0514\n",
      "2025-06-08 13:06:46,569 - pyswarms.single.global_best - INFO - Optimization finished | best cost: -0.051355089861595066, best pos: [1.01067809 1.03064621]\n"
     ]
    },
    {
     "name": "stdout",
     "output_type": "stream",
     "text": [
      "Run 8/30\n"
     ]
    },
    {
     "name": "stderr",
     "output_type": "stream",
     "text": [
      "c:\\Users\\naima\\AppData\\Local\\Programs\\Python\\Python313\\Lib\\site-packages\\pygad\\pygad.py:744: UserWarning: The percentage of genes to mutate (mutation_percent_genes=10) resulted in selecting (0) genes. The number of genes to mutate is set to 1 (mutation_num_genes=1).\n",
      "If you do not want to mutate any gene, please set mutation_type=None.\n",
      "  warnings.warn(f\"The percentage of genes to mutate (mutation_percent_genes={mutation_percent_genes}) resulted in selecting ({mutation_num_genes}) genes. The number of genes to mutate is set to 1 (mutation_num_genes=1).\\nIf you do not want to mutate any gene, please set mutation_type=None.\")\n",
      "c:\\Users\\naima\\AppData\\Local\\Programs\\Python\\Python313\\Lib\\site-packages\\pygad\\pygad.py:1145: UserWarning: Use the 'save_solutions' parameter with caution as it may cause memory overflow when either the number of generations, number of genes, or number of solutions in population is large.\n",
      "  warnings.warn(\"Use the 'save_solutions' parameter with caution as it may cause memory overflow when either the number of generations, number of genes, or number of solutions in population is large.\")\n",
      "2025-06-08 13:07:03,863 - pyswarms.single.global_best - INFO - Optimize for 200 iters with {'c1': 0.5, 'c2': 0.3, 'w': 0.9}\n",
      "pyswarms.single.global_best: 100%|██████████|200/200, best_cost=-0.0502\n",
      "2025-06-08 13:07:09,123 - pyswarms.single.global_best - INFO - Optimization finished | best cost: -0.05017702974371045, best pos: [1.31398479 1.03580186]\n"
     ]
    },
    {
     "name": "stdout",
     "output_type": "stream",
     "text": [
      "Run 9/30\n"
     ]
    },
    {
     "name": "stderr",
     "output_type": "stream",
     "text": [
      "c:\\Users\\naima\\AppData\\Local\\Programs\\Python\\Python313\\Lib\\site-packages\\pygad\\pygad.py:744: UserWarning: The percentage of genes to mutate (mutation_percent_genes=10) resulted in selecting (0) genes. The number of genes to mutate is set to 1 (mutation_num_genes=1).\n",
      "If you do not want to mutate any gene, please set mutation_type=None.\n",
      "  warnings.warn(f\"The percentage of genes to mutate (mutation_percent_genes={mutation_percent_genes}) resulted in selecting ({mutation_num_genes}) genes. The number of genes to mutate is set to 1 (mutation_num_genes=1).\\nIf you do not want to mutate any gene, please set mutation_type=None.\")\n",
      "c:\\Users\\naima\\AppData\\Local\\Programs\\Python\\Python313\\Lib\\site-packages\\pygad\\pygad.py:1145: UserWarning: Use the 'save_solutions' parameter with caution as it may cause memory overflow when either the number of generations, number of genes, or number of solutions in population is large.\n",
      "  warnings.warn(\"Use the 'save_solutions' parameter with caution as it may cause memory overflow when either the number of generations, number of genes, or number of solutions in population is large.\")\n"
     ]
    }
   ],
   "source": [
    "from sklearn.ensemble import RandomForestRegressor\n",
    "trainAndreport(\"Random Forest\", RandomForestRegressor(random_state=42))"
   ]
  },
  {
   "cell_type": "code",
   "execution_count": null,
   "metadata": {},
   "outputs": [
    {
     "name": "stdout",
     "output_type": "stream",
     "text": [
      "Run 1/30\n"
     ]
    },
    {
     "name": "stderr",
     "output_type": "stream",
     "text": [
      "c:\\Users\\naima\\AppData\\Local\\Programs\\Python\\Python313\\Lib\\site-packages\\pygad\\pygad.py:744: UserWarning: The percentage of genes to mutate (mutation_percent_genes=10) resulted in selecting (0) genes. The number of genes to mutate is set to 1 (mutation_num_genes=1).\n",
      "If you do not want to mutate any gene, please set mutation_type=None.\n",
      "  warnings.warn(f\"The percentage of genes to mutate (mutation_percent_genes={mutation_percent_genes}) resulted in selecting ({mutation_num_genes}) genes. The number of genes to mutate is set to 1 (mutation_num_genes=1).\\nIf you do not want to mutate any gene, please set mutation_type=None.\")\n",
      "c:\\Users\\naima\\AppData\\Local\\Programs\\Python\\Python313\\Lib\\site-packages\\pygad\\pygad.py:1145: UserWarning: Use the 'save_solutions' parameter with caution as it may cause memory overflow when either the number of generations, number of genes, or number of solutions in population is large.\n",
      "  warnings.warn(\"Use the 'save_solutions' parameter with caution as it may cause memory overflow when either the number of generations, number of genes, or number of solutions in population is large.\")\n",
      "2025-05-19 16:45:42,017 - pyswarms.single.global_best - INFO - Optimize for 200 iters with {'c1': 0.5, 'c2': 0.3, 'w': 0.9}\n",
      "pyswarms.single.global_best: 100%|██████████|200/200, best_cost=-0.0459\n",
      "2025-05-19 16:45:47,366 - pyswarms.single.global_best - INFO - Optimization finished | best cost: -0.045947732703199066, best pos: [1.05927801 1.11363508]\n"
     ]
    },
    {
     "name": "stdout",
     "output_type": "stream",
     "text": [
      "Run 2/30\n"
     ]
    },
    {
     "name": "stderr",
     "output_type": "stream",
     "text": [
      "c:\\Users\\naima\\AppData\\Local\\Programs\\Python\\Python313\\Lib\\site-packages\\pygad\\pygad.py:744: UserWarning: The percentage of genes to mutate (mutation_percent_genes=10) resulted in selecting (0) genes. The number of genes to mutate is set to 1 (mutation_num_genes=1).\n",
      "If you do not want to mutate any gene, please set mutation_type=None.\n",
      "  warnings.warn(f\"The percentage of genes to mutate (mutation_percent_genes={mutation_percent_genes}) resulted in selecting ({mutation_num_genes}) genes. The number of genes to mutate is set to 1 (mutation_num_genes=1).\\nIf you do not want to mutate any gene, please set mutation_type=None.\")\n",
      "c:\\Users\\naima\\AppData\\Local\\Programs\\Python\\Python313\\Lib\\site-packages\\pygad\\pygad.py:1145: UserWarning: Use the 'save_solutions' parameter with caution as it may cause memory overflow when either the number of generations, number of genes, or number of solutions in population is large.\n",
      "  warnings.warn(\"Use the 'save_solutions' parameter with caution as it may cause memory overflow when either the number of generations, number of genes, or number of solutions in population is large.\")\n",
      "2025-05-19 16:45:55,806 - pyswarms.single.global_best - INFO - Optimize for 200 iters with {'c1': 0.5, 'c2': 0.3, 'w': 0.9}\n",
      "pyswarms.single.global_best: 100%|██████████|200/200, best_cost=-0.0459\n",
      "2025-05-19 16:46:01,149 - pyswarms.single.global_best - INFO - Optimization finished | best cost: -0.0458779243783112, best pos: [1.12961722 1.29270515]\n"
     ]
    },
    {
     "name": "stdout",
     "output_type": "stream",
     "text": [
      "Run 3/30\n"
     ]
    },
    {
     "name": "stderr",
     "output_type": "stream",
     "text": [
      "c:\\Users\\naima\\AppData\\Local\\Programs\\Python\\Python313\\Lib\\site-packages\\pygad\\pygad.py:744: UserWarning: The percentage of genes to mutate (mutation_percent_genes=10) resulted in selecting (0) genes. The number of genes to mutate is set to 1 (mutation_num_genes=1).\n",
      "If you do not want to mutate any gene, please set mutation_type=None.\n",
      "  warnings.warn(f\"The percentage of genes to mutate (mutation_percent_genes={mutation_percent_genes}) resulted in selecting ({mutation_num_genes}) genes. The number of genes to mutate is set to 1 (mutation_num_genes=1).\\nIf you do not want to mutate any gene, please set mutation_type=None.\")\n",
      "c:\\Users\\naima\\AppData\\Local\\Programs\\Python\\Python313\\Lib\\site-packages\\pygad\\pygad.py:1145: UserWarning: Use the 'save_solutions' parameter with caution as it may cause memory overflow when either the number of generations, number of genes, or number of solutions in population is large.\n",
      "  warnings.warn(\"Use the 'save_solutions' parameter with caution as it may cause memory overflow when either the number of generations, number of genes, or number of solutions in population is large.\")\n",
      "2025-05-19 16:46:09,551 - pyswarms.single.global_best - INFO - Optimize for 200 iters with {'c1': 0.5, 'c2': 0.3, 'w': 0.9}\n",
      "pyswarms.single.global_best: 100%|██████████|200/200, best_cost=-0.046 \n",
      "2025-05-19 16:46:14,862 - pyswarms.single.global_best - INFO - Optimization finished | best cost: -0.046001074394291484, best pos: [1.14115218 1.18834381]\n"
     ]
    },
    {
     "name": "stdout",
     "output_type": "stream",
     "text": [
      "Run 4/30\n"
     ]
    },
    {
     "name": "stderr",
     "output_type": "stream",
     "text": [
      "c:\\Users\\naima\\AppData\\Local\\Programs\\Python\\Python313\\Lib\\site-packages\\pygad\\pygad.py:744: UserWarning: The percentage of genes to mutate (mutation_percent_genes=10) resulted in selecting (0) genes. The number of genes to mutate is set to 1 (mutation_num_genes=1).\n",
      "If you do not want to mutate any gene, please set mutation_type=None.\n",
      "  warnings.warn(f\"The percentage of genes to mutate (mutation_percent_genes={mutation_percent_genes}) resulted in selecting ({mutation_num_genes}) genes. The number of genes to mutate is set to 1 (mutation_num_genes=1).\\nIf you do not want to mutate any gene, please set mutation_type=None.\")\n",
      "c:\\Users\\naima\\AppData\\Local\\Programs\\Python\\Python313\\Lib\\site-packages\\pygad\\pygad.py:1145: UserWarning: Use the 'save_solutions' parameter with caution as it may cause memory overflow when either the number of generations, number of genes, or number of solutions in population is large.\n",
      "  warnings.warn(\"Use the 'save_solutions' parameter with caution as it may cause memory overflow when either the number of generations, number of genes, or number of solutions in population is large.\")\n",
      "2025-05-19 16:46:23,322 - pyswarms.single.global_best - INFO - Optimize for 200 iters with {'c1': 0.5, 'c2': 0.3, 'w': 0.9}\n",
      "pyswarms.single.global_best: 100%|██████████|200/200, best_cost=-0.0459\n",
      "2025-05-19 16:46:28,549 - pyswarms.single.global_best - INFO - Optimization finished | best cost: -0.04593827745054824, best pos: [1.05115661 1.11550011]\n"
     ]
    },
    {
     "name": "stdout",
     "output_type": "stream",
     "text": [
      "Run 5/30\n"
     ]
    },
    {
     "name": "stderr",
     "output_type": "stream",
     "text": [
      "c:\\Users\\naima\\AppData\\Local\\Programs\\Python\\Python313\\Lib\\site-packages\\pygad\\pygad.py:744: UserWarning: The percentage of genes to mutate (mutation_percent_genes=10) resulted in selecting (0) genes. The number of genes to mutate is set to 1 (mutation_num_genes=1).\n",
      "If you do not want to mutate any gene, please set mutation_type=None.\n",
      "  warnings.warn(f\"The percentage of genes to mutate (mutation_percent_genes={mutation_percent_genes}) resulted in selecting ({mutation_num_genes}) genes. The number of genes to mutate is set to 1 (mutation_num_genes=1).\\nIf you do not want to mutate any gene, please set mutation_type=None.\")\n",
      "c:\\Users\\naima\\AppData\\Local\\Programs\\Python\\Python313\\Lib\\site-packages\\pygad\\pygad.py:1145: UserWarning: Use the 'save_solutions' parameter with caution as it may cause memory overflow when either the number of generations, number of genes, or number of solutions in population is large.\n",
      "  warnings.warn(\"Use the 'save_solutions' parameter with caution as it may cause memory overflow when either the number of generations, number of genes, or number of solutions in population is large.\")\n",
      "2025-05-19 16:46:38,583 - pyswarms.single.global_best - INFO - Optimize for 200 iters with {'c1': 0.5, 'c2': 0.3, 'w': 0.9}\n",
      "pyswarms.single.global_best: 100%|██████████|200/200, best_cost=-0.046\n",
      "2025-05-19 16:46:48,364 - pyswarms.single.global_best - INFO - Optimization finished | best cost: -0.04595081754103652, best pos: [1.1820274  1.22073759]\n"
     ]
    },
    {
     "name": "stdout",
     "output_type": "stream",
     "text": [
      "Run 6/30\n"
     ]
    },
    {
     "name": "stderr",
     "output_type": "stream",
     "text": [
      "c:\\Users\\naima\\AppData\\Local\\Programs\\Python\\Python313\\Lib\\site-packages\\pygad\\pygad.py:744: UserWarning: The percentage of genes to mutate (mutation_percent_genes=10) resulted in selecting (0) genes. The number of genes to mutate is set to 1 (mutation_num_genes=1).\n",
      "If you do not want to mutate any gene, please set mutation_type=None.\n",
      "  warnings.warn(f\"The percentage of genes to mutate (mutation_percent_genes={mutation_percent_genes}) resulted in selecting ({mutation_num_genes}) genes. The number of genes to mutate is set to 1 (mutation_num_genes=1).\\nIf you do not want to mutate any gene, please set mutation_type=None.\")\n",
      "c:\\Users\\naima\\AppData\\Local\\Programs\\Python\\Python313\\Lib\\site-packages\\pygad\\pygad.py:1145: UserWarning: Use the 'save_solutions' parameter with caution as it may cause memory overflow when either the number of generations, number of genes, or number of solutions in population is large.\n",
      "  warnings.warn(\"Use the 'save_solutions' parameter with caution as it may cause memory overflow when either the number of generations, number of genes, or number of solutions in population is large.\")\n",
      "2025-05-19 16:47:02,752 - pyswarms.single.global_best - INFO - Optimize for 200 iters with {'c1': 0.5, 'c2': 0.3, 'w': 0.9}\n",
      "pyswarms.single.global_best: 100%|██████████|200/200, best_cost=-0.046\n",
      "2025-05-19 16:47:13,663 - pyswarms.single.global_best - INFO - Optimization finished | best cost: -0.04600755662922047, best pos: [1.11960559 1.15844653]\n"
     ]
    },
    {
     "name": "stdout",
     "output_type": "stream",
     "text": [
      "Run 7/30\n"
     ]
    },
    {
     "name": "stderr",
     "output_type": "stream",
     "text": [
      "c:\\Users\\naima\\AppData\\Local\\Programs\\Python\\Python313\\Lib\\site-packages\\pygad\\pygad.py:744: UserWarning: The percentage of genes to mutate (mutation_percent_genes=10) resulted in selecting (0) genes. The number of genes to mutate is set to 1 (mutation_num_genes=1).\n",
      "If you do not want to mutate any gene, please set mutation_type=None.\n",
      "  warnings.warn(f\"The percentage of genes to mutate (mutation_percent_genes={mutation_percent_genes}) resulted in selecting ({mutation_num_genes}) genes. The number of genes to mutate is set to 1 (mutation_num_genes=1).\\nIf you do not want to mutate any gene, please set mutation_type=None.\")\n",
      "c:\\Users\\naima\\AppData\\Local\\Programs\\Python\\Python313\\Lib\\site-packages\\pygad\\pygad.py:1145: UserWarning: Use the 'save_solutions' parameter with caution as it may cause memory overflow when either the number of generations, number of genes, or number of solutions in population is large.\n",
      "  warnings.warn(\"Use the 'save_solutions' parameter with caution as it may cause memory overflow when either the number of generations, number of genes, or number of solutions in population is large.\")\n",
      "2025-05-19 16:47:27,131 - pyswarms.single.global_best - INFO - Optimize for 200 iters with {'c1': 0.5, 'c2': 0.3, 'w': 0.9}\n",
      "pyswarms.single.global_best: 100%|██████████|200/200, best_cost=-0.0456\n",
      "2025-05-19 16:47:33,026 - pyswarms.single.global_best - INFO - Optimization finished | best cost: -0.04559624699634397, best pos: [1.22855651 1.37434789]\n"
     ]
    },
    {
     "name": "stdout",
     "output_type": "stream",
     "text": [
      "Run 8/30\n"
     ]
    },
    {
     "name": "stderr",
     "output_type": "stream",
     "text": [
      "c:\\Users\\naima\\AppData\\Local\\Programs\\Python\\Python313\\Lib\\site-packages\\pygad\\pygad.py:744: UserWarning: The percentage of genes to mutate (mutation_percent_genes=10) resulted in selecting (0) genes. The number of genes to mutate is set to 1 (mutation_num_genes=1).\n",
      "If you do not want to mutate any gene, please set mutation_type=None.\n",
      "  warnings.warn(f\"The percentage of genes to mutate (mutation_percent_genes={mutation_percent_genes}) resulted in selecting ({mutation_num_genes}) genes. The number of genes to mutate is set to 1 (mutation_num_genes=1).\\nIf you do not want to mutate any gene, please set mutation_type=None.\")\n",
      "c:\\Users\\naima\\AppData\\Local\\Programs\\Python\\Python313\\Lib\\site-packages\\pygad\\pygad.py:1145: UserWarning: Use the 'save_solutions' parameter with caution as it may cause memory overflow when either the number of generations, number of genes, or number of solutions in population is large.\n",
      "  warnings.warn(\"Use the 'save_solutions' parameter with caution as it may cause memory overflow when either the number of generations, number of genes, or number of solutions in population is large.\")\n",
      "2025-05-19 16:47:43,091 - pyswarms.single.global_best - INFO - Optimize for 200 iters with {'c1': 0.5, 'c2': 0.3, 'w': 0.9}\n",
      "pyswarms.single.global_best: 100%|██████████|200/200, best_cost=-0.046\n",
      "2025-05-19 16:47:50,727 - pyswarms.single.global_best - INFO - Optimization finished | best cost: -0.046000250204149364, best pos: [1.11662868 1.20245166]\n"
     ]
    },
    {
     "name": "stdout",
     "output_type": "stream",
     "text": [
      "Run 9/30\n"
     ]
    },
    {
     "name": "stderr",
     "output_type": "stream",
     "text": [
      "c:\\Users\\naima\\AppData\\Local\\Programs\\Python\\Python313\\Lib\\site-packages\\pygad\\pygad.py:744: UserWarning: The percentage of genes to mutate (mutation_percent_genes=10) resulted in selecting (0) genes. The number of genes to mutate is set to 1 (mutation_num_genes=1).\n",
      "If you do not want to mutate any gene, please set mutation_type=None.\n",
      "  warnings.warn(f\"The percentage of genes to mutate (mutation_percent_genes={mutation_percent_genes}) resulted in selecting ({mutation_num_genes}) genes. The number of genes to mutate is set to 1 (mutation_num_genes=1).\\nIf you do not want to mutate any gene, please set mutation_type=None.\")\n",
      "c:\\Users\\naima\\AppData\\Local\\Programs\\Python\\Python313\\Lib\\site-packages\\pygad\\pygad.py:1145: UserWarning: Use the 'save_solutions' parameter with caution as it may cause memory overflow when either the number of generations, number of genes, or number of solutions in population is large.\n",
      "  warnings.warn(\"Use the 'save_solutions' parameter with caution as it may cause memory overflow when either the number of generations, number of genes, or number of solutions in population is large.\")\n",
      "2025-05-19 16:48:00,092 - pyswarms.single.global_best - INFO - Optimize for 200 iters with {'c1': 0.5, 'c2': 0.3, 'w': 0.9}\n",
      "pyswarms.single.global_best: 100%|██████████|200/200, best_cost=-0.0456\n",
      "2025-05-19 16:48:05,662 - pyswarms.single.global_best - INFO - Optimization finished | best cost: -0.045628118463999175, best pos: [1.27072577 1.07326504]\n"
     ]
    },
    {
     "name": "stdout",
     "output_type": "stream",
     "text": [
      "Run 10/30\n"
     ]
    },
    {
     "name": "stderr",
     "output_type": "stream",
     "text": [
      "c:\\Users\\naima\\AppData\\Local\\Programs\\Python\\Python313\\Lib\\site-packages\\pygad\\pygad.py:744: UserWarning: The percentage of genes to mutate (mutation_percent_genes=10) resulted in selecting (0) genes. The number of genes to mutate is set to 1 (mutation_num_genes=1).\n",
      "If you do not want to mutate any gene, please set mutation_type=None.\n",
      "  warnings.warn(f\"The percentage of genes to mutate (mutation_percent_genes={mutation_percent_genes}) resulted in selecting ({mutation_num_genes}) genes. The number of genes to mutate is set to 1 (mutation_num_genes=1).\\nIf you do not want to mutate any gene, please set mutation_type=None.\")\n",
      "c:\\Users\\naima\\AppData\\Local\\Programs\\Python\\Python313\\Lib\\site-packages\\pygad\\pygad.py:1145: UserWarning: Use the 'save_solutions' parameter with caution as it may cause memory overflow when either the number of generations, number of genes, or number of solutions in population is large.\n",
      "  warnings.warn(\"Use the 'save_solutions' parameter with caution as it may cause memory overflow when either the number of generations, number of genes, or number of solutions in population is large.\")\n",
      "2025-05-19 16:48:17,306 - pyswarms.single.global_best - INFO - Optimize for 200 iters with {'c1': 0.5, 'c2': 0.3, 'w': 0.9}\n",
      "pyswarms.single.global_best: 100%|██████████|200/200, best_cost=-0.0448\n",
      "2025-05-19 16:48:27,411 - pyswarms.single.global_best - INFO - Optimization finished | best cost: -0.04478901377479537, best pos: [1.13840731 1.59186135]\n"
     ]
    },
    {
     "name": "stdout",
     "output_type": "stream",
     "text": [
      "Run 11/30\n"
     ]
    },
    {
     "name": "stderr",
     "output_type": "stream",
     "text": [
      "c:\\Users\\naima\\AppData\\Local\\Programs\\Python\\Python313\\Lib\\site-packages\\pygad\\pygad.py:744: UserWarning: The percentage of genes to mutate (mutation_percent_genes=10) resulted in selecting (0) genes. The number of genes to mutate is set to 1 (mutation_num_genes=1).\n",
      "If you do not want to mutate any gene, please set mutation_type=None.\n",
      "  warnings.warn(f\"The percentage of genes to mutate (mutation_percent_genes={mutation_percent_genes}) resulted in selecting ({mutation_num_genes}) genes. The number of genes to mutate is set to 1 (mutation_num_genes=1).\\nIf you do not want to mutate any gene, please set mutation_type=None.\")\n",
      "c:\\Users\\naima\\AppData\\Local\\Programs\\Python\\Python313\\Lib\\site-packages\\pygad\\pygad.py:1145: UserWarning: Use the 'save_solutions' parameter with caution as it may cause memory overflow when either the number of generations, number of genes, or number of solutions in population is large.\n",
      "  warnings.warn(\"Use the 'save_solutions' parameter with caution as it may cause memory overflow when either the number of generations, number of genes, or number of solutions in population is large.\")\n",
      "2025-05-19 16:48:40,604 - pyswarms.single.global_best - INFO - Optimize for 200 iters with {'c1': 0.5, 'c2': 0.3, 'w': 0.9}\n",
      "pyswarms.single.global_best: 100%|██████████|200/200, best_cost=-0.046 \n",
      "2025-05-19 16:48:51,139 - pyswarms.single.global_best - INFO - Optimization finished | best cost: -0.045980181069355155, best pos: [1.08261027 1.12494723]\n"
     ]
    },
    {
     "name": "stdout",
     "output_type": "stream",
     "text": [
      "Run 12/30\n"
     ]
    },
    {
     "name": "stderr",
     "output_type": "stream",
     "text": [
      "c:\\Users\\naima\\AppData\\Local\\Programs\\Python\\Python313\\Lib\\site-packages\\pygad\\pygad.py:744: UserWarning: The percentage of genes to mutate (mutation_percent_genes=10) resulted in selecting (0) genes. The number of genes to mutate is set to 1 (mutation_num_genes=1).\n",
      "If you do not want to mutate any gene, please set mutation_type=None.\n",
      "  warnings.warn(f\"The percentage of genes to mutate (mutation_percent_genes={mutation_percent_genes}) resulted in selecting ({mutation_num_genes}) genes. The number of genes to mutate is set to 1 (mutation_num_genes=1).\\nIf you do not want to mutate any gene, please set mutation_type=None.\")\n",
      "c:\\Users\\naima\\AppData\\Local\\Programs\\Python\\Python313\\Lib\\site-packages\\pygad\\pygad.py:1145: UserWarning: Use the 'save_solutions' parameter with caution as it may cause memory overflow when either the number of generations, number of genes, or number of solutions in population is large.\n",
      "  warnings.warn(\"Use the 'save_solutions' parameter with caution as it may cause memory overflow when either the number of generations, number of genes, or number of solutions in population is large.\")\n",
      "2025-05-19 16:49:00,455 - pyswarms.single.global_best - INFO - Optimize for 200 iters with {'c1': 0.5, 'c2': 0.3, 'w': 0.9}\n",
      "pyswarms.single.global_best: 100%|██████████|200/200, best_cost=-0.0457\n",
      "2025-05-19 16:49:06,117 - pyswarms.single.global_best - INFO - Optimization finished | best cost: -0.04569248951486843, best pos: [1.29657188 1.1889774 ]\n"
     ]
    },
    {
     "name": "stdout",
     "output_type": "stream",
     "text": [
      "Run 13/30\n"
     ]
    },
    {
     "name": "stderr",
     "output_type": "stream",
     "text": [
      "c:\\Users\\naima\\AppData\\Local\\Programs\\Python\\Python313\\Lib\\site-packages\\pygad\\pygad.py:744: UserWarning: The percentage of genes to mutate (mutation_percent_genes=10) resulted in selecting (0) genes. The number of genes to mutate is set to 1 (mutation_num_genes=1).\n",
      "If you do not want to mutate any gene, please set mutation_type=None.\n",
      "  warnings.warn(f\"The percentage of genes to mutate (mutation_percent_genes={mutation_percent_genes}) resulted in selecting ({mutation_num_genes}) genes. The number of genes to mutate is set to 1 (mutation_num_genes=1).\\nIf you do not want to mutate any gene, please set mutation_type=None.\")\n",
      "c:\\Users\\naima\\AppData\\Local\\Programs\\Python\\Python313\\Lib\\site-packages\\pygad\\pygad.py:1145: UserWarning: Use the 'save_solutions' parameter with caution as it may cause memory overflow when either the number of generations, number of genes, or number of solutions in population is large.\n",
      "  warnings.warn(\"Use the 'save_solutions' parameter with caution as it may cause memory overflow when either the number of generations, number of genes, or number of solutions in population is large.\")\n",
      "2025-05-19 16:49:15,397 - pyswarms.single.global_best - INFO - Optimize for 200 iters with {'c1': 0.5, 'c2': 0.3, 'w': 0.9}\n",
      "pyswarms.single.global_best: 100%|██████████|200/200, best_cost=-0.046\n",
      "2025-05-19 16:49:20,803 - pyswarms.single.global_best - INFO - Optimization finished | best cost: -0.045973404222957634, best pos: [1.06233309 1.16988101]\n"
     ]
    },
    {
     "name": "stdout",
     "output_type": "stream",
     "text": [
      "Run 14/30\n"
     ]
    },
    {
     "name": "stderr",
     "output_type": "stream",
     "text": [
      "c:\\Users\\naima\\AppData\\Local\\Programs\\Python\\Python313\\Lib\\site-packages\\pygad\\pygad.py:744: UserWarning: The percentage of genes to mutate (mutation_percent_genes=10) resulted in selecting (0) genes. The number of genes to mutate is set to 1 (mutation_num_genes=1).\n",
      "If you do not want to mutate any gene, please set mutation_type=None.\n",
      "  warnings.warn(f\"The percentage of genes to mutate (mutation_percent_genes={mutation_percent_genes}) resulted in selecting ({mutation_num_genes}) genes. The number of genes to mutate is set to 1 (mutation_num_genes=1).\\nIf you do not want to mutate any gene, please set mutation_type=None.\")\n",
      "c:\\Users\\naima\\AppData\\Local\\Programs\\Python\\Python313\\Lib\\site-packages\\pygad\\pygad.py:1145: UserWarning: Use the 'save_solutions' parameter with caution as it may cause memory overflow when either the number of generations, number of genes, or number of solutions in population is large.\n",
      "  warnings.warn(\"Use the 'save_solutions' parameter with caution as it may cause memory overflow when either the number of generations, number of genes, or number of solutions in population is large.\")\n",
      "2025-05-19 16:49:29,863 - pyswarms.single.global_best - INFO - Optimize for 200 iters with {'c1': 0.5, 'c2': 0.3, 'w': 0.9}\n",
      "pyswarms.single.global_best: 100%|██████████|200/200, best_cost=-0.046\n",
      "2025-05-19 16:49:35,639 - pyswarms.single.global_best - INFO - Optimization finished | best cost: -0.04598248145350255, best pos: [1.15637418 1.14554027]\n"
     ]
    },
    {
     "name": "stdout",
     "output_type": "stream",
     "text": [
      "Run 15/30\n"
     ]
    },
    {
     "name": "stderr",
     "output_type": "stream",
     "text": [
      "c:\\Users\\naima\\AppData\\Local\\Programs\\Python\\Python313\\Lib\\site-packages\\pygad\\pygad.py:744: UserWarning: The percentage of genes to mutate (mutation_percent_genes=10) resulted in selecting (0) genes. The number of genes to mutate is set to 1 (mutation_num_genes=1).\n",
      "If you do not want to mutate any gene, please set mutation_type=None.\n",
      "  warnings.warn(f\"The percentage of genes to mutate (mutation_percent_genes={mutation_percent_genes}) resulted in selecting ({mutation_num_genes}) genes. The number of genes to mutate is set to 1 (mutation_num_genes=1).\\nIf you do not want to mutate any gene, please set mutation_type=None.\")\n",
      "c:\\Users\\naima\\AppData\\Local\\Programs\\Python\\Python313\\Lib\\site-packages\\pygad\\pygad.py:1145: UserWarning: Use the 'save_solutions' parameter with caution as it may cause memory overflow when either the number of generations, number of genes, or number of solutions in population is large.\n",
      "  warnings.warn(\"Use the 'save_solutions' parameter with caution as it may cause memory overflow when either the number of generations, number of genes, or number of solutions in population is large.\")\n",
      "2025-05-19 16:49:44,301 - pyswarms.single.global_best - INFO - Optimize for 200 iters with {'c1': 0.5, 'c2': 0.3, 'w': 0.9}\n",
      "pyswarms.single.global_best: 100%|██████████|200/200, best_cost=-0.046\n",
      "2025-05-19 16:49:49,530 - pyswarms.single.global_best - INFO - Optimization finished | best cost: -0.04598643336939423, best pos: [1.09733806 1.12333818]\n"
     ]
    },
    {
     "name": "stdout",
     "output_type": "stream",
     "text": [
      "Run 16/30\n"
     ]
    },
    {
     "name": "stderr",
     "output_type": "stream",
     "text": [
      "c:\\Users\\naima\\AppData\\Local\\Programs\\Python\\Python313\\Lib\\site-packages\\pygad\\pygad.py:744: UserWarning: The percentage of genes to mutate (mutation_percent_genes=10) resulted in selecting (0) genes. The number of genes to mutate is set to 1 (mutation_num_genes=1).\n",
      "If you do not want to mutate any gene, please set mutation_type=None.\n",
      "  warnings.warn(f\"The percentage of genes to mutate (mutation_percent_genes={mutation_percent_genes}) resulted in selecting ({mutation_num_genes}) genes. The number of genes to mutate is set to 1 (mutation_num_genes=1).\\nIf you do not want to mutate any gene, please set mutation_type=None.\")\n",
      "c:\\Users\\naima\\AppData\\Local\\Programs\\Python\\Python313\\Lib\\site-packages\\pygad\\pygad.py:1145: UserWarning: Use the 'save_solutions' parameter with caution as it may cause memory overflow when either the number of generations, number of genes, or number of solutions in population is large.\n",
      "  warnings.warn(\"Use the 'save_solutions' parameter with caution as it may cause memory overflow when either the number of generations, number of genes, or number of solutions in population is large.\")\n",
      "2025-05-19 16:49:58,915 - pyswarms.single.global_best - INFO - Optimize for 200 iters with {'c1': 0.5, 'c2': 0.3, 'w': 0.9}\n",
      "pyswarms.single.global_best: 100%|██████████|200/200, best_cost=-0.046\n",
      "2025-05-19 16:50:04,264 - pyswarms.single.global_best - INFO - Optimization finished | best cost: -0.04600954508737863, best pos: [1.11567806 1.17237845]\n"
     ]
    },
    {
     "name": "stdout",
     "output_type": "stream",
     "text": [
      "Run 17/30\n"
     ]
    },
    {
     "name": "stderr",
     "output_type": "stream",
     "text": [
      "c:\\Users\\naima\\AppData\\Local\\Programs\\Python\\Python313\\Lib\\site-packages\\pygad\\pygad.py:744: UserWarning: The percentage of genes to mutate (mutation_percent_genes=10) resulted in selecting (0) genes. The number of genes to mutate is set to 1 (mutation_num_genes=1).\n",
      "If you do not want to mutate any gene, please set mutation_type=None.\n",
      "  warnings.warn(f\"The percentage of genes to mutate (mutation_percent_genes={mutation_percent_genes}) resulted in selecting ({mutation_num_genes}) genes. The number of genes to mutate is set to 1 (mutation_num_genes=1).\\nIf you do not want to mutate any gene, please set mutation_type=None.\")\n",
      "c:\\Users\\naima\\AppData\\Local\\Programs\\Python\\Python313\\Lib\\site-packages\\pygad\\pygad.py:1145: UserWarning: Use the 'save_solutions' parameter with caution as it may cause memory overflow when either the number of generations, number of genes, or number of solutions in population is large.\n",
      "  warnings.warn(\"Use the 'save_solutions' parameter with caution as it may cause memory overflow when either the number of generations, number of genes, or number of solutions in population is large.\")\n",
      "2025-05-19 16:50:13,772 - pyswarms.single.global_best - INFO - Optimize for 200 iters with {'c1': 0.5, 'c2': 0.3, 'w': 0.9}\n",
      "pyswarms.single.global_best: 100%|██████████|200/200, best_cost=-0.0459\n",
      "2025-05-19 16:50:19,072 - pyswarms.single.global_best - INFO - Optimization finished | best cost: -0.04590046390602979, best pos: [1.2194338  1.17368198]\n"
     ]
    },
    {
     "name": "stdout",
     "output_type": "stream",
     "text": [
      "Run 18/30\n"
     ]
    },
    {
     "name": "stderr",
     "output_type": "stream",
     "text": [
      "c:\\Users\\naima\\AppData\\Local\\Programs\\Python\\Python313\\Lib\\site-packages\\pygad\\pygad.py:744: UserWarning: The percentage of genes to mutate (mutation_percent_genes=10) resulted in selecting (0) genes. The number of genes to mutate is set to 1 (mutation_num_genes=1).\n",
      "If you do not want to mutate any gene, please set mutation_type=None.\n",
      "  warnings.warn(f\"The percentage of genes to mutate (mutation_percent_genes={mutation_percent_genes}) resulted in selecting ({mutation_num_genes}) genes. The number of genes to mutate is set to 1 (mutation_num_genes=1).\\nIf you do not want to mutate any gene, please set mutation_type=None.\")\n",
      "c:\\Users\\naima\\AppData\\Local\\Programs\\Python\\Python313\\Lib\\site-packages\\pygad\\pygad.py:1145: UserWarning: Use the 'save_solutions' parameter with caution as it may cause memory overflow when either the number of generations, number of genes, or number of solutions in population is large.\n",
      "  warnings.warn(\"Use the 'save_solutions' parameter with caution as it may cause memory overflow when either the number of generations, number of genes, or number of solutions in population is large.\")\n",
      "2025-05-19 16:50:27,735 - pyswarms.single.global_best - INFO - Optimize for 200 iters with {'c1': 0.5, 'c2': 0.3, 'w': 0.9}\n",
      "pyswarms.single.global_best: 100%|██████████|200/200, best_cost=-0.0459\n",
      "2025-05-19 16:50:32,953 - pyswarms.single.global_best - INFO - Optimization finished | best cost: -0.045877419454996377, best pos: [1.22838783 1.2128669 ]\n"
     ]
    },
    {
     "name": "stdout",
     "output_type": "stream",
     "text": [
      "Run 19/30\n"
     ]
    },
    {
     "name": "stderr",
     "output_type": "stream",
     "text": [
      "c:\\Users\\naima\\AppData\\Local\\Programs\\Python\\Python313\\Lib\\site-packages\\pygad\\pygad.py:744: UserWarning: The percentage of genes to mutate (mutation_percent_genes=10) resulted in selecting (0) genes. The number of genes to mutate is set to 1 (mutation_num_genes=1).\n",
      "If you do not want to mutate any gene, please set mutation_type=None.\n",
      "  warnings.warn(f\"The percentage of genes to mutate (mutation_percent_genes={mutation_percent_genes}) resulted in selecting ({mutation_num_genes}) genes. The number of genes to mutate is set to 1 (mutation_num_genes=1).\\nIf you do not want to mutate any gene, please set mutation_type=None.\")\n",
      "c:\\Users\\naima\\AppData\\Local\\Programs\\Python\\Python313\\Lib\\site-packages\\pygad\\pygad.py:1145: UserWarning: Use the 'save_solutions' parameter with caution as it may cause memory overflow when either the number of generations, number of genes, or number of solutions in population is large.\n",
      "  warnings.warn(\"Use the 'save_solutions' parameter with caution as it may cause memory overflow when either the number of generations, number of genes, or number of solutions in population is large.\")\n",
      "2025-05-19 16:50:41,662 - pyswarms.single.global_best - INFO - Optimize for 200 iters with {'c1': 0.5, 'c2': 0.3, 'w': 0.9}\n",
      "pyswarms.single.global_best: 100%|██████████|200/200, best_cost=-0.0456\n",
      "2025-05-19 16:50:47,004 - pyswarms.single.global_best - INFO - Optimization finished | best cost: -0.04560459667684744, best pos: [1.2130465  1.37968804]\n"
     ]
    },
    {
     "name": "stdout",
     "output_type": "stream",
     "text": [
      "Run 20/30\n"
     ]
    },
    {
     "name": "stderr",
     "output_type": "stream",
     "text": [
      "c:\\Users\\naima\\AppData\\Local\\Programs\\Python\\Python313\\Lib\\site-packages\\pygad\\pygad.py:744: UserWarning: The percentage of genes to mutate (mutation_percent_genes=10) resulted in selecting (0) genes. The number of genes to mutate is set to 1 (mutation_num_genes=1).\n",
      "If you do not want to mutate any gene, please set mutation_type=None.\n",
      "  warnings.warn(f\"The percentage of genes to mutate (mutation_percent_genes={mutation_percent_genes}) resulted in selecting ({mutation_num_genes}) genes. The number of genes to mutate is set to 1 (mutation_num_genes=1).\\nIf you do not want to mutate any gene, please set mutation_type=None.\")\n",
      "c:\\Users\\naima\\AppData\\Local\\Programs\\Python\\Python313\\Lib\\site-packages\\pygad\\pygad.py:1145: UserWarning: Use the 'save_solutions' parameter with caution as it may cause memory overflow when either the number of generations, number of genes, or number of solutions in population is large.\n",
      "  warnings.warn(\"Use the 'save_solutions' parameter with caution as it may cause memory overflow when either the number of generations, number of genes, or number of solutions in population is large.\")\n",
      "2025-05-19 16:50:56,096 - pyswarms.single.global_best - INFO - Optimize for 200 iters with {'c1': 0.5, 'c2': 0.3, 'w': 0.9}\n",
      "pyswarms.single.global_best: 100%|██████████|200/200, best_cost=-0.0459\n",
      "2025-05-19 16:51:05,207 - pyswarms.single.global_best - INFO - Optimization finished | best cost: -0.045935652430483545, best pos: [1.196321   1.21497023]\n"
     ]
    },
    {
     "name": "stdout",
     "output_type": "stream",
     "text": [
      "Run 21/30\n"
     ]
    },
    {
     "name": "stderr",
     "output_type": "stream",
     "text": [
      "c:\\Users\\naima\\AppData\\Local\\Programs\\Python\\Python313\\Lib\\site-packages\\pygad\\pygad.py:744: UserWarning: The percentage of genes to mutate (mutation_percent_genes=10) resulted in selecting (0) genes. The number of genes to mutate is set to 1 (mutation_num_genes=1).\n",
      "If you do not want to mutate any gene, please set mutation_type=None.\n",
      "  warnings.warn(f\"The percentage of genes to mutate (mutation_percent_genes={mutation_percent_genes}) resulted in selecting ({mutation_num_genes}) genes. The number of genes to mutate is set to 1 (mutation_num_genes=1).\\nIf you do not want to mutate any gene, please set mutation_type=None.\")\n",
      "c:\\Users\\naima\\AppData\\Local\\Programs\\Python\\Python313\\Lib\\site-packages\\pygad\\pygad.py:1145: UserWarning: Use the 'save_solutions' parameter with caution as it may cause memory overflow when either the number of generations, number of genes, or number of solutions in population is large.\n",
      "  warnings.warn(\"Use the 'save_solutions' parameter with caution as it may cause memory overflow when either the number of generations, number of genes, or number of solutions in population is large.\")\n",
      "2025-05-19 16:51:18,255 - pyswarms.single.global_best - INFO - Optimize for 200 iters with {'c1': 0.5, 'c2': 0.3, 'w': 0.9}\n",
      "pyswarms.single.global_best: 100%|██████████|200/200, best_cost=-0.0456\n",
      "2025-05-19 16:51:28,824 - pyswarms.single.global_best - INFO - Optimization finished | best cost: -0.04564266788847316, best pos: [1.31152697 1.2099784 ]\n"
     ]
    },
    {
     "name": "stdout",
     "output_type": "stream",
     "text": [
      "Run 22/30\n"
     ]
    },
    {
     "name": "stderr",
     "output_type": "stream",
     "text": [
      "c:\\Users\\naima\\AppData\\Local\\Programs\\Python\\Python313\\Lib\\site-packages\\pygad\\pygad.py:744: UserWarning: The percentage of genes to mutate (mutation_percent_genes=10) resulted in selecting (0) genes. The number of genes to mutate is set to 1 (mutation_num_genes=1).\n",
      "If you do not want to mutate any gene, please set mutation_type=None.\n",
      "  warnings.warn(f\"The percentage of genes to mutate (mutation_percent_genes={mutation_percent_genes}) resulted in selecting ({mutation_num_genes}) genes. The number of genes to mutate is set to 1 (mutation_num_genes=1).\\nIf you do not want to mutate any gene, please set mutation_type=None.\")\n",
      "c:\\Users\\naima\\AppData\\Local\\Programs\\Python\\Python313\\Lib\\site-packages\\pygad\\pygad.py:1145: UserWarning: Use the 'save_solutions' parameter with caution as it may cause memory overflow when either the number of generations, number of genes, or number of solutions in population is large.\n",
      "  warnings.warn(\"Use the 'save_solutions' parameter with caution as it may cause memory overflow when either the number of generations, number of genes, or number of solutions in population is large.\")\n",
      "2025-05-19 16:51:39,888 - pyswarms.single.global_best - INFO - Optimize for 200 iters with {'c1': 0.5, 'c2': 0.3, 'w': 0.9}\n",
      "pyswarms.single.global_best: 100%|██████████|200/200, best_cost=-0.046\n",
      "2025-05-19 16:51:45,082 - pyswarms.single.global_best - INFO - Optimization finished | best cost: -0.04600955898469797, best pos: [1.11542202 1.17140358]\n"
     ]
    },
    {
     "name": "stdout",
     "output_type": "stream",
     "text": [
      "Run 23/30\n"
     ]
    },
    {
     "name": "stderr",
     "output_type": "stream",
     "text": [
      "c:\\Users\\naima\\AppData\\Local\\Programs\\Python\\Python313\\Lib\\site-packages\\pygad\\pygad.py:744: UserWarning: The percentage of genes to mutate (mutation_percent_genes=10) resulted in selecting (0) genes. The number of genes to mutate is set to 1 (mutation_num_genes=1).\n",
      "If you do not want to mutate any gene, please set mutation_type=None.\n",
      "  warnings.warn(f\"The percentage of genes to mutate (mutation_percent_genes={mutation_percent_genes}) resulted in selecting ({mutation_num_genes}) genes. The number of genes to mutate is set to 1 (mutation_num_genes=1).\\nIf you do not want to mutate any gene, please set mutation_type=None.\")\n",
      "c:\\Users\\naima\\AppData\\Local\\Programs\\Python\\Python313\\Lib\\site-packages\\pygad\\pygad.py:1145: UserWarning: Use the 'save_solutions' parameter with caution as it may cause memory overflow when either the number of generations, number of genes, or number of solutions in population is large.\n",
      "  warnings.warn(\"Use the 'save_solutions' parameter with caution as it may cause memory overflow when either the number of generations, number of genes, or number of solutions in population is large.\")\n",
      "2025-05-19 16:51:53,946 - pyswarms.single.global_best - INFO - Optimize for 200 iters with {'c1': 0.5, 'c2': 0.3, 'w': 0.9}\n",
      "pyswarms.single.global_best: 100%|██████████|200/200, best_cost=-0.046\n",
      "2025-05-19 16:51:59,219 - pyswarms.single.global_best - INFO - Optimization finished | best cost: -0.04600645156696021, best pos: [1.13078722 1.18326098]\n"
     ]
    },
    {
     "name": "stdout",
     "output_type": "stream",
     "text": [
      "Run 24/30\n"
     ]
    },
    {
     "name": "stderr",
     "output_type": "stream",
     "text": [
      "c:\\Users\\naima\\AppData\\Local\\Programs\\Python\\Python313\\Lib\\site-packages\\pygad\\pygad.py:744: UserWarning: The percentage of genes to mutate (mutation_percent_genes=10) resulted in selecting (0) genes. The number of genes to mutate is set to 1 (mutation_num_genes=1).\n",
      "If you do not want to mutate any gene, please set mutation_type=None.\n",
      "  warnings.warn(f\"The percentage of genes to mutate (mutation_percent_genes={mutation_percent_genes}) resulted in selecting ({mutation_num_genes}) genes. The number of genes to mutate is set to 1 (mutation_num_genes=1).\\nIf you do not want to mutate any gene, please set mutation_type=None.\")\n",
      "c:\\Users\\naima\\AppData\\Local\\Programs\\Python\\Python313\\Lib\\site-packages\\pygad\\pygad.py:1145: UserWarning: Use the 'save_solutions' parameter with caution as it may cause memory overflow when either the number of generations, number of genes, or number of solutions in population is large.\n",
      "  warnings.warn(\"Use the 'save_solutions' parameter with caution as it may cause memory overflow when either the number of generations, number of genes, or number of solutions in population is large.\")\n",
      "2025-05-19 16:52:07,939 - pyswarms.single.global_best - INFO - Optimize for 200 iters with {'c1': 0.5, 'c2': 0.3, 'w': 0.9}\n",
      "pyswarms.single.global_best: 100%|██████████|200/200, best_cost=-0.0459\n",
      "2025-05-19 16:52:13,875 - pyswarms.single.global_best - INFO - Optimization finished | best cost: -0.04590362855568056, best pos: [1.07614035 1.26045729]\n"
     ]
    },
    {
     "name": "stdout",
     "output_type": "stream",
     "text": [
      "Run 25/30\n"
     ]
    },
    {
     "name": "stderr",
     "output_type": "stream",
     "text": [
      "c:\\Users\\naima\\AppData\\Local\\Programs\\Python\\Python313\\Lib\\site-packages\\pygad\\pygad.py:744: UserWarning: The percentage of genes to mutate (mutation_percent_genes=10) resulted in selecting (0) genes. The number of genes to mutate is set to 1 (mutation_num_genes=1).\n",
      "If you do not want to mutate any gene, please set mutation_type=None.\n",
      "  warnings.warn(f\"The percentage of genes to mutate (mutation_percent_genes={mutation_percent_genes}) resulted in selecting ({mutation_num_genes}) genes. The number of genes to mutate is set to 1 (mutation_num_genes=1).\\nIf you do not want to mutate any gene, please set mutation_type=None.\")\n",
      "c:\\Users\\naima\\AppData\\Local\\Programs\\Python\\Python313\\Lib\\site-packages\\pygad\\pygad.py:1145: UserWarning: Use the 'save_solutions' parameter with caution as it may cause memory overflow when either the number of generations, number of genes, or number of solutions in population is large.\n",
      "  warnings.warn(\"Use the 'save_solutions' parameter with caution as it may cause memory overflow when either the number of generations, number of genes, or number of solutions in population is large.\")\n",
      "2025-05-19 16:52:27,206 - pyswarms.single.global_best - INFO - Optimize for 200 iters with {'c1': 0.5, 'c2': 0.3, 'w': 0.9}\n",
      "pyswarms.single.global_best: 100%|██████████|200/200, best_cost=-0.046\n",
      "2025-05-19 16:52:33,909 - pyswarms.single.global_best - INFO - Optimization finished | best cost: -0.04598165508279588, best pos: [1.06866142 1.16626721]\n"
     ]
    },
    {
     "name": "stdout",
     "output_type": "stream",
     "text": [
      "Run 26/30\n"
     ]
    },
    {
     "name": "stderr",
     "output_type": "stream",
     "text": [
      "c:\\Users\\naima\\AppData\\Local\\Programs\\Python\\Python313\\Lib\\site-packages\\pygad\\pygad.py:744: UserWarning: The percentage of genes to mutate (mutation_percent_genes=10) resulted in selecting (0) genes. The number of genes to mutate is set to 1 (mutation_num_genes=1).\n",
      "If you do not want to mutate any gene, please set mutation_type=None.\n",
      "  warnings.warn(f\"The percentage of genes to mutate (mutation_percent_genes={mutation_percent_genes}) resulted in selecting ({mutation_num_genes}) genes. The number of genes to mutate is set to 1 (mutation_num_genes=1).\\nIf you do not want to mutate any gene, please set mutation_type=None.\")\n",
      "c:\\Users\\naima\\AppData\\Local\\Programs\\Python\\Python313\\Lib\\site-packages\\pygad\\pygad.py:1145: UserWarning: Use the 'save_solutions' parameter with caution as it may cause memory overflow when either the number of generations, number of genes, or number of solutions in population is large.\n",
      "  warnings.warn(\"Use the 'save_solutions' parameter with caution as it may cause memory overflow when either the number of generations, number of genes, or number of solutions in population is large.\")\n",
      "2025-05-19 16:52:43,026 - pyswarms.single.global_best - INFO - Optimize for 200 iters with {'c1': 0.5, 'c2': 0.3, 'w': 0.9}\n",
      "pyswarms.single.global_best: 100%|██████████|200/200, best_cost=-0.046 \n",
      "2025-05-19 16:52:48,787 - pyswarms.single.global_best - INFO - Optimization finished | best cost: -0.04596811805962667, best pos: [1.13000191 1.23760249]\n"
     ]
    },
    {
     "name": "stdout",
     "output_type": "stream",
     "text": [
      "Run 27/30\n"
     ]
    },
    {
     "name": "stderr",
     "output_type": "stream",
     "text": [
      "c:\\Users\\naima\\AppData\\Local\\Programs\\Python\\Python313\\Lib\\site-packages\\pygad\\pygad.py:744: UserWarning: The percentage of genes to mutate (mutation_percent_genes=10) resulted in selecting (0) genes. The number of genes to mutate is set to 1 (mutation_num_genes=1).\n",
      "If you do not want to mutate any gene, please set mutation_type=None.\n",
      "  warnings.warn(f\"The percentage of genes to mutate (mutation_percent_genes={mutation_percent_genes}) resulted in selecting ({mutation_num_genes}) genes. The number of genes to mutate is set to 1 (mutation_num_genes=1).\\nIf you do not want to mutate any gene, please set mutation_type=None.\")\n",
      "c:\\Users\\naima\\AppData\\Local\\Programs\\Python\\Python313\\Lib\\site-packages\\pygad\\pygad.py:1145: UserWarning: Use the 'save_solutions' parameter with caution as it may cause memory overflow when either the number of generations, number of genes, or number of solutions in population is large.\n",
      "  warnings.warn(\"Use the 'save_solutions' parameter with caution as it may cause memory overflow when either the number of generations, number of genes, or number of solutions in population is large.\")\n",
      "2025-05-19 16:52:57,836 - pyswarms.single.global_best - INFO - Optimize for 200 iters with {'c1': 0.5, 'c2': 0.3, 'w': 0.9}\n",
      "pyswarms.single.global_best: 100%|██████████|200/200, best_cost=-0.046 \n",
      "2025-05-19 16:53:03,515 - pyswarms.single.global_best - INFO - Optimization finished | best cost: -0.04600650136330398, best pos: [1.13303015 1.17920168]\n"
     ]
    },
    {
     "name": "stdout",
     "output_type": "stream",
     "text": [
      "Run 28/30\n"
     ]
    },
    {
     "name": "stderr",
     "output_type": "stream",
     "text": [
      "c:\\Users\\naima\\AppData\\Local\\Programs\\Python\\Python313\\Lib\\site-packages\\pygad\\pygad.py:744: UserWarning: The percentage of genes to mutate (mutation_percent_genes=10) resulted in selecting (0) genes. The number of genes to mutate is set to 1 (mutation_num_genes=1).\n",
      "If you do not want to mutate any gene, please set mutation_type=None.\n",
      "  warnings.warn(f\"The percentage of genes to mutate (mutation_percent_genes={mutation_percent_genes}) resulted in selecting ({mutation_num_genes}) genes. The number of genes to mutate is set to 1 (mutation_num_genes=1).\\nIf you do not want to mutate any gene, please set mutation_type=None.\")\n",
      "c:\\Users\\naima\\AppData\\Local\\Programs\\Python\\Python313\\Lib\\site-packages\\pygad\\pygad.py:1145: UserWarning: Use the 'save_solutions' parameter with caution as it may cause memory overflow when either the number of generations, number of genes, or number of solutions in population is large.\n",
      "  warnings.warn(\"Use the 'save_solutions' parameter with caution as it may cause memory overflow when either the number of generations, number of genes, or number of solutions in population is large.\")\n",
      "2025-05-19 16:53:13,205 - pyswarms.single.global_best - INFO - Optimize for 200 iters with {'c1': 0.5, 'c2': 0.3, 'w': 0.9}\n",
      "pyswarms.single.global_best: 100%|██████████|200/200, best_cost=-0.046\n",
      "2025-05-19 16:53:18,530 - pyswarms.single.global_best - INFO - Optimization finished | best cost: -0.04598390318082178, best pos: [1.08422986 1.12866371]\n"
     ]
    },
    {
     "name": "stdout",
     "output_type": "stream",
     "text": [
      "Run 29/30\n"
     ]
    },
    {
     "name": "stderr",
     "output_type": "stream",
     "text": [
      "c:\\Users\\naima\\AppData\\Local\\Programs\\Python\\Python313\\Lib\\site-packages\\pygad\\pygad.py:744: UserWarning: The percentage of genes to mutate (mutation_percent_genes=10) resulted in selecting (0) genes. The number of genes to mutate is set to 1 (mutation_num_genes=1).\n",
      "If you do not want to mutate any gene, please set mutation_type=None.\n",
      "  warnings.warn(f\"The percentage of genes to mutate (mutation_percent_genes={mutation_percent_genes}) resulted in selecting ({mutation_num_genes}) genes. The number of genes to mutate is set to 1 (mutation_num_genes=1).\\nIf you do not want to mutate any gene, please set mutation_type=None.\")\n",
      "c:\\Users\\naima\\AppData\\Local\\Programs\\Python\\Python313\\Lib\\site-packages\\pygad\\pygad.py:1145: UserWarning: Use the 'save_solutions' parameter with caution as it may cause memory overflow when either the number of generations, number of genes, or number of solutions in population is large.\n",
      "  warnings.warn(\"Use the 'save_solutions' parameter with caution as it may cause memory overflow when either the number of generations, number of genes, or number of solutions in population is large.\")\n",
      "2025-05-19 16:53:27,829 - pyswarms.single.global_best - INFO - Optimize for 200 iters with {'c1': 0.5, 'c2': 0.3, 'w': 0.9}\n",
      "pyswarms.single.global_best: 100%|██████████|200/200, best_cost=-0.0455\n",
      "2025-05-19 16:53:34,106 - pyswarms.single.global_best - INFO - Optimization finished | best cost: -0.045511528609789076, best pos: [1.24815538 1.39112277]\n"
     ]
    },
    {
     "name": "stdout",
     "output_type": "stream",
     "text": [
      "Run 30/30\n"
     ]
    },
    {
     "name": "stderr",
     "output_type": "stream",
     "text": [
      "c:\\Users\\naima\\AppData\\Local\\Programs\\Python\\Python313\\Lib\\site-packages\\pygad\\pygad.py:744: UserWarning: The percentage of genes to mutate (mutation_percent_genes=10) resulted in selecting (0) genes. The number of genes to mutate is set to 1 (mutation_num_genes=1).\n",
      "If you do not want to mutate any gene, please set mutation_type=None.\n",
      "  warnings.warn(f\"The percentage of genes to mutate (mutation_percent_genes={mutation_percent_genes}) resulted in selecting ({mutation_num_genes}) genes. The number of genes to mutate is set to 1 (mutation_num_genes=1).\\nIf you do not want to mutate any gene, please set mutation_type=None.\")\n",
      "c:\\Users\\naima\\AppData\\Local\\Programs\\Python\\Python313\\Lib\\site-packages\\pygad\\pygad.py:1145: UserWarning: Use the 'save_solutions' parameter with caution as it may cause memory overflow when either the number of generations, number of genes, or number of solutions in population is large.\n",
      "  warnings.warn(\"Use the 'save_solutions' parameter with caution as it may cause memory overflow when either the number of generations, number of genes, or number of solutions in population is large.\")\n",
      "2025-05-19 16:53:43,392 - pyswarms.single.global_best - INFO - Optimize for 200 iters with {'c1': 0.5, 'c2': 0.3, 'w': 0.9}\n",
      "pyswarms.single.global_best: 100%|██████████|200/200, best_cost=-0.046\n",
      "2025-05-19 16:53:48,704 - pyswarms.single.global_best - INFO - Optimization finished | best cost: -0.04600360817795358, best pos: [1.14038898 1.17326102]\n"
     ]
    }
   ],
   "source": [
    "from sklearn.ensemble import GradientBoostingRegressor\n",
    "trainAndreport(\"GradientBoostingRegressor\", GradientBoostingRegressor(random_state=42))"
   ]
  },
  {
   "cell_type": "code",
   "execution_count": null,
   "metadata": {},
   "outputs": [
    {
     "name": "stdout",
     "output_type": "stream",
     "text": [
      "                         Model     R2   RMSE  a_PSO  b_PSO  Fitness_PSO  \\\n",
      "0            Linear Regression  0.576  0.746  1.495  1.563        0.033   \n",
      "1            Linear Regression  0.576  0.746  1.548  1.574        0.033   \n",
      "2            Linear Regression  0.576  0.746  1.520  1.618        0.033   \n",
      "3            Linear Regression  0.576  0.746  1.476  1.553        0.033   \n",
      "4            Linear Regression  0.576  0.746  1.485  1.521        0.033   \n",
      "..                         ...    ...    ...    ...    ...          ...   \n",
      "115  GradientBoostingRegressor  0.776  0.542  1.130  1.238        0.046   \n",
      "116  GradientBoostingRegressor  0.776  0.542  1.133  1.179        0.046   \n",
      "117  GradientBoostingRegressor  0.776  0.542  1.084  1.129        0.046   \n",
      "118  GradientBoostingRegressor  0.776  0.542  1.248  1.391        0.046   \n",
      "119  GradientBoostingRegressor  0.776  0.542  1.140  1.173        0.046   \n",
      "\n",
      "     PICP_PSO  MPIW_PSO  time_PSO   a_GA   b_GA  Fitness_GA  PICP_GA  MPIW_GA  \\\n",
      "0       0.948     3.059     5.816  1.477  1.551       0.033    0.947    3.029   \n",
      "1       0.951     3.122     5.653  1.488  1.561       0.033    0.948    3.048   \n",
      "2       0.950     3.138     6.248  1.469  1.550       0.033    0.946    3.019   \n",
      "3       0.947     3.029     5.880  1.479  1.554       0.033    0.947    3.033   \n",
      "4       0.947     3.006     5.805  1.476  1.554       0.033    0.947    3.030   \n",
      "..        ...       ...       ...    ...    ...         ...      ...      ...   \n",
      "115     0.954     2.368     5.767  1.125  1.175       0.046    0.952    2.300   \n",
      "116     0.953     2.312     5.685  1.118  1.173       0.046    0.952    2.291   \n",
      "117     0.947     2.213     5.331  1.123  1.177       0.046    0.952    2.300   \n",
      "118     0.963     2.639     6.283  1.108  1.168       0.046    0.951    2.276   \n",
      "119     0.953     2.314     5.319  1.122  1.161       0.046    0.951    2.283   \n",
      "\n",
      "     time_GA  \n",
      "0      5.350  \n",
      "1      5.207  \n",
      "2      6.122  \n",
      "3      5.963  \n",
      "4      6.088  \n",
      "..       ...  \n",
      "115    5.701  \n",
      "116    5.663  \n",
      "117    6.220  \n",
      "118    5.920  \n",
      "119    5.578  \n",
      "\n",
      "[120 rows x 15 columns]\n"
     ]
    }
   ],
   "source": [
    "# Create a DataFrame to display results\n",
    "import pandas as pd\n",
    "results_df = pd.DataFrame(results)\n",
    "results_df=results_df.round(3)\n",
    "print(results_df)"
   ]
  },
  {
   "cell_type": "code",
   "execution_count": null,
   "metadata": {},
   "outputs": [
    {
     "name": "stdout",
     "output_type": "stream",
     "text": [
      "\n",
      "📌 Mean Table Per Model:\n",
      "                    Model    R2  RMSE    a_PSO    b_PSO  Fitness_PSO  PICP_PSO  MPIW_PSO  time_PSO     a_GA     b_GA  Fitness_GA  PICP_GA  MPIW_GA  time_GA\n",
      "GradientBoostingRegressor 0.776 0.542 1.151433 1.211267     0.045967  0.953967  2.362800  6.543133 1.117900 1.171967       0.046 0.951567 2.289767 6.229033\n",
      "        Linear Regression 0.576 0.746 1.473400 1.567900     0.033000  0.946833  3.041300  7.310800 1.477367 1.554267       0.033 0.947167 3.031567 6.773167\n",
      "            Random Forest 0.805 0.505 1.046900 1.037833     0.050800  0.940867  2.084700  6.303167 0.975900 0.979800       0.051 0.932733 1.955800 6.051233\n",
      "                      SVR 0.640 0.687 1.202033 1.370533     0.041000  0.925200  2.572667  9.561800 1.176233 1.355067       0.041 0.922100 2.531467 8.265400\n"
     ]
    }
   ],
   "source": [
    "# 📊 1. Mean Table per Model\n",
    "mean_df = results_df.groupby(\"Model\").mean(numeric_only=True).reset_index()\n",
    "print(\"\\n📌 Mean Table Per Model:\")\n",
    "print(mean_df.to_string(index=False))"
   ]
  },
  {
   "cell_type": "code",
   "execution_count": null,
   "metadata": {},
   "outputs": [
    {
     "name": "stdout",
     "output_type": "stream",
     "text": [
      "\n",
      "📌 Mean Table Per Model (with 95% CI width for MPIW):\n",
      "                    Model    R2  RMSE    a_PSO    b_PSO  Fitness_PSO  PICP_PSO  MPIW_PSO  time_PSO     a_GA     b_GA  Fitness_GA  PICP_GA  MPIW_GA  time_GA  MPIW_PSO_CI95  MPIW_GA_CI95\n",
      "GradientBoostingRegressor 0.776 0.542 1.151433 1.211267     0.045967  0.953967  2.362800  6.543133 1.117900 1.171967       0.046 0.951567 2.289767 6.229033         0.1061        0.0058\n",
      "        Linear Regression 0.576 0.746 1.473400 1.567900     0.033000  0.946833  3.041300  7.310800 1.477367 1.554267       0.033 0.947167 3.031567 6.773167         0.0473        0.0060\n",
      "            Random Forest 0.805 0.505 1.046900 1.037833     0.050800  0.940867  2.084700  6.303167 0.975900 0.979800       0.051 0.932733 1.955800 6.051233         0.1508        0.0058\n",
      "                      SVR 0.640 0.687 1.202033 1.370533     0.041000  0.925200  2.572667  9.561800 1.176233 1.355067       0.041 0.922100 2.531467 8.265400         0.0684        0.0053\n"
     ]
    }
   ],
   "source": [
    "import numpy as np\n",
    "from scipy.stats import t as t_dist\n",
    "\n",
    "# Your original mean table\n",
    "mean_df = results_df.groupby(\"Model\").mean(numeric_only=True).reset_index()\n",
    "\n",
    "# CI function\n",
    "def mean_confidence_interval(data, confidence=0.95):\n",
    "    data = np.array(data)\n",
    "    n = len(data)\n",
    "    mean_val = np.mean(data)\n",
    "    sem = np.std(data, ddof=1) / np.sqrt(n)\n",
    "    margin = sem * t_dist.ppf((1 + confidence) / 2.0, n - 1)\n",
    "    return 2 * margin  # total CI width\n",
    "\n",
    "# Compute CI width for each model\n",
    "ci_data = []\n",
    "for model, group in results_df.groupby(\"Model\"):\n",
    "    row = {\"Model\": model}\n",
    "    for col in [\"MPIW_PSO\", \"MPIW_GA\"]:\n",
    "        if col in group.columns:\n",
    "            ci_width = mean_confidence_interval(group[col].dropna())\n",
    "            row[f\"{col}_CI95\"] = round(ci_width, 4)\n",
    "    ci_data.append(row)\n",
    "\n",
    "# Create CI DataFrame\n",
    "ci_df = pd.DataFrame(ci_data)\n",
    "\n",
    "# Merge into mean_df\n",
    "mean_df = mean_df.merge(ci_df, on=\"Model\", how=\"left\")\n",
    "\n",
    "# Print\n",
    "print(\"\\n📌 Mean Table Per Model (with 95% CI width for MPIW):\")\n",
    "print(mean_df.to_string(index=False))\n"
   ]
  },
  {
   "cell_type": "code",
   "execution_count": null,
   "metadata": {},
   "outputs": [
    {
     "data": {
      "text/plain": [
       "Index(['Model', 'R2', 'RMSE', 'a_PSO', 'b_PSO', 'PICP_PSO', 'MPIW_PSO', 'a_GA',\n",
       "       'b_GA', 'Fitness_GA', 'PICP_GA', 'MPIW_GA', 'MPIW_PSO_CI95',\n",
       "       'MPIW_GA_CI95'],\n",
       "      dtype='object')"
      ]
     },
     "execution_count": 39,
     "metadata": {},
     "output_type": "execute_result"
    }
   ],
   "source": [
    "newdf.columns"
   ]
  },
  {
   "cell_type": "code",
   "execution_count": null,
   "metadata": {},
   "outputs": [
    {
     "name": "stdout",
     "output_type": "stream",
     "text": [
      "                       Model     R2   RMSE     a_PSO     b_PSO  PICP_PSO  \\\n",
      "0  GradientBoostingRegressor  0.776  0.542  1.151433  1.211267  0.953967   \n",
      "1          Linear Regression  0.576  0.746  1.473400  1.567900  0.946833   \n",
      "2              Random Forest  0.805  0.505  1.046900  1.037833  0.940867   \n",
      "3                        SVR  0.640  0.687  1.202033  1.370533  0.925200   \n",
      "\n",
      "   MPIW_PSO  MPIW_PSO_CI95      a_GA      b_GA   PICP_GA   MPIW_GA  \\\n",
      "0  2.362800         0.1061  1.117900  1.171967  0.951567  2.289767   \n",
      "1  3.041300         0.0473  1.477367  1.554267  0.947167  3.031567   \n",
      "2  2.084700         0.1508  0.975900  0.979800  0.932733  1.955800   \n",
      "3  2.572667         0.0684  1.176233  1.355067  0.922100  2.531467   \n",
      "\n",
      "   MPIW_GA_CI95  \n",
      "0        0.0058  \n",
      "1        0.0060  \n",
      "2        0.0058  \n",
      "3        0.0053  \n"
     ]
    }
   ],
   "source": [
    "newdf=mean_df.drop(columns=['time_PSO','time_GA','Fitness_PSO'])\n",
    "print(newdf[['Model', 'R2', 'RMSE', 'a_PSO', 'b_PSO', 'PICP_PSO', 'MPIW_PSO','MPIW_PSO_CI95', 'a_GA',\n",
    "       'b_GA',  'PICP_GA', 'MPIW_GA', \n",
    "       'MPIW_GA_CI95']])"
   ]
  },
  {
   "cell_type": "code",
   "execution_count": null,
   "metadata": {},
   "outputs": [
    {
     "name": "stdout",
     "output_type": "stream",
     "text": [
      "\n",
      "📊 Summary Table with 95% Confidence Intervals:\n",
      "     Metric   Mean  95% CI Lower  95% CI Upper\n",
      "         R2 0.6992        0.6821        0.7164\n",
      "       RMSE 0.6200        0.6019        0.6381\n",
      "      a_PSO 1.2184        1.1847        1.2521\n",
      "      b_PSO 1.2969        1.2587        1.3351\n",
      "Fitness_PSO 0.0427        0.0415        0.0439\n",
      "   PICP_PSO 0.9417        0.9395        0.9440\n",
      "   MPIW_PSO 2.5154        2.4475        2.5833\n",
      "   time_PSO 7.4297        7.0098        7.8496\n",
      "       a_GA 1.1869        1.1536        1.2201\n",
      "       b_GA 1.2653        1.2266        1.3040\n",
      " Fitness_GA 0.0428        0.0415        0.0440\n",
      "    PICP_GA 0.9384        0.9363        0.9405\n",
      "    MPIW_GA 2.4522        2.3810        2.5233\n",
      "    time_GA 6.8297        6.5485        7.1109\n"
     ]
    }
   ],
   "source": [
    "from scipy.stats import t as t_dist\n",
    "import pandas as pd\n",
    "from sklearn.metrics import r2_score, mean_squared_error\n",
    "\n",
    "def root_mean_squared_error(y_true, y_pred):\n",
    "    return np.sqrt(mean_squared_error(y_true, y_pred))\n",
    "\n",
    "def mean_confidence_interval(data, confidence=0.95):\n",
    "    data = np.array(data)\n",
    "    n = len(data)\n",
    "    mean_val = np.mean(data)\n",
    "    sem = np.std(data, ddof=1) / np.sqrt(n)\n",
    "    margin = sem * t_dist.ppf((1 + confidence) / 2.0, n - 1)\n",
    "    return mean_val, mean_val - margin, mean_val + margin\n",
    "\n",
    "# Compute mean and 95% CI for each column\n",
    "summary_data = []\n",
    "for metric in results_df.drop(columns=[\"Model\"]).columns:\n",
    "    values = results_df[metric].dropna()  # drop NAs just in case\n",
    "    mean, lower, upper = mean_confidence_interval(values)\n",
    "    summary_data.append({\n",
    "        \"Metric\": metric,\n",
    "        \"Mean\": round(mean, 4),\n",
    "        \"95% CI Lower\": round(lower, 4),\n",
    "        \"95% CI Upper\": round(upper, 4)\n",
    "    })\n",
    "\n",
    "# Create and print summary DataFrame\n",
    "summary_df = pd.DataFrame(summary_data)\n",
    "print(\"\\n📊 Summary Table with 95% Confidence Intervals:\")\n",
    "print(summary_df.to_string(index=False))"
   ]
  },
  {
   "cell_type": "code",
   "execution_count": null,
   "metadata": {},
   "outputs": [
    {
     "name": "stdout",
     "output_type": "stream",
     "text": [
      "\n",
      "📊 Average Optimization Time and 95% CI Width (All Models Combined):\n",
      "   Dataset Optimizer  Mean Time (s)  95% CI Width\n",
      "California       PSO         7.4297        0.8398\n",
      "California        GA         6.8297        0.5624\n"
     ]
    }
   ],
   "source": [
    "import numpy as np\n",
    "import pandas as pd\n",
    "from scipy.stats import t as t_dist\n",
    "\n",
    "def mean_confidence_interval(data, confidence=0.95):\n",
    "    data = np.array(data)\n",
    "    n = len(data)\n",
    "    mean_val = np.mean(data)\n",
    "    sem = np.std(data, ddof=1) / np.sqrt(n)\n",
    "    margin = sem * t_dist.ppf((1 + confidence) / 2.0, n - 1)\n",
    "    return mean_val, 2 * margin  # Return mean and total width of CI\n",
    "\n",
    "# Create a compact summary table for time only (across all models)\n",
    "summary_data = []\n",
    "for opt in ['time_PSO', 'time_GA']:\n",
    "    if opt in results_df.columns:\n",
    "        values = results_df[opt].dropna()\n",
    "        mean, ci_width = mean_confidence_interval(values)\n",
    "        summary_data.append({\n",
    "            \"Dataset\":\"California\",\n",
    "            \"Optimizer\": opt.replace(\"time_\", \"\"),\n",
    "            \"Mean Time (s)\": round(mean, 4),\n",
    "            \"95% CI Width\": round(ci_width, 4)\n",
    "        })\n",
    "\n",
    "summary_df = pd.DataFrame(summary_data)\n",
    "\n",
    "# Display result\n",
    "print(\"\\n📊 Average Optimization Time and 95% CI Width (All Models Combined):\")\n",
    "print(summary_df.to_string(index=False))"
   ]
  },
  {
   "cell_type": "code",
   "execution_count": null,
   "metadata": {},
   "outputs": [
    {
     "data": {
      "image/png": "[encoded data removed]",
      "text/plain": [
       "<Figure size 900x1500 with 8 Axes>"
      ]
     },
     "metadata": {},
     "output_type": "display_data"
    }
   ],
   "source": [
    "import matplotlib.pyplot as plt\n",
    "fig,ax=plt.subplots(4,2,figsize=(9,15))\n",
    "names=[\"LinearRegression\",\"SVR\",\"RandomForestRegressor\",\"GradientBoostingRegressor\"]\n",
    "for i in range(4):\n",
    "    y=np.maximum.accumulate(GA_instances[i].solutions_fitness)[::16]\n",
    "    x=range(len(y))\n",
    "    ax[i,0].plot(x,y)\n",
    "    x=range(len(PSO_fitnesses[i]))\n",
    "    y=PSO_fitnesses[i]\n",
    "    ax[i,1].plot(x,y)\n",
    "    ax[i,0].set_title(\"GA_UQ on \"+names[i],y=-.22)\n",
    "    ax[i,1].set_title(\"PSO_UQ on \"+names[i],y=-.22)\n",
    "plt.subplots_adjust(hspace=0.35)"
   ]
  },
  {
   "cell_type": "code",
   "execution_count": null,
   "metadata": {},
   "outputs": [
    {
     "data": {
      "image/png": "[encoded data removed]",
      "text/plain": [
       "<Figure size 800x350 with 2 Axes>"
      ]
     },
     "metadata": {},
     "output_type": "display_data"
    }
   ],
   "source": [
    "import matplotlib.pyplot as plt\n",
    "import numpy as np\n",
    "\n",
    "fig, ax = plt.subplots(1, 2, figsize=(8, 3.5))\n",
    "\n",
    "names = [\"LinearRegression\", \"SVR\", \"RandomForestRegressor\", \"GradientBoostingRegressor\"]\n",
    "i = 1\n",
    "\n",
    "# First plot (GA)\n",
    "y1 = np.maximum.accumulate(GA_instances[i].solutions_fitness)[::16]\n",
    "x1 = range(len(y1))\n",
    "ax[0].plot(x1, y1)\n",
    "\n",
    "# Second plot (PSO)\n",
    "x2 = range(len(PSO_fitnesses[i]))\n",
    "y2 = PSO_fitnesses[i]\n",
    "ax[1].plot(x2, y2)\n",
    "\n",
    "# Balance y-axis\n",
    "ymin = min(min(y1), min(y2))\n",
    "ymax = max(max(y1), max(y2))\n",
    "ax[0].set_ylim(ymin, ymax)\n",
    "ax[1].set_ylim(ymin, ymax)\n",
    "\n",
    "# Optional: share y-ticks\n",
    "yticks = np.linspace(ymin, ymax, num=5)\n",
    "ax[0].set_yticks(yticks)\n",
    "ax[1].set_yticks(yticks)\n",
    "\n",
    "# Aesthetics\n",
    "ax[0].set_title(\"(a)\", y=-0.2)\n",
    "ax[1].set_title(\"(b)\", y=-0.2)\n",
    "ax[1].set_yticklabels([])  # Keep the right plot clean, optional\n",
    "\n",
    "plt.tight_layout()\n",
    "plt.savefig('SVR.pdf', dpi=300)\n",
    "\n"
   ]
  },
  {
   "cell_type": "code",
   "execution_count": null,
   "metadata": {},
   "outputs": [],
   "source": []
  }
 ],
 "metadata": {
  "kernelspec": {
   "display_name": "Python 3",
   "language": "python",
   "name": "python3"
  },
  "language_info": {
   "codemirror_mode": {
    "name": "ipython",
    "version": 3
   },
   "file_extension": ".py",
   "mimetype": "text/x-python",
   "name": "python",
   "nbconvert_exporter": "python",
   "pygments_lexer": "ipython3",
   "version": "3.13.3"
  }
 },
 "nbformat": 4,
 "nbformat_minor": 2
}
