{
 "cells": [
  {
   "cell_type": "code",
   "execution_count": 14,
   "metadata": {},
   "outputs": [],
   "source": [
    "import GA_UQ\n",
    "import PSO_UQ "
   ]
  },
  {
   "cell_type": "code",
   "execution_count": 15,
   "metadata": {},
   "outputs": [],
   "source": [
    "from sklearn.datasets import fetch_california_housing\n",
    "from sklearn.preprocessing import MinMaxScaler\n",
    "housing = fetch_california_housing(as_frame=True)\n"
   ]
  },
  {
   "cell_type": "code",
   "execution_count": 16,
   "metadata": {},
   "outputs": [],
   "source": [
    "from sklearn.datasets import fetch_california_housing\n",
    "from sklearn.model_selection import train_test_split\n",
    "from sklearn.preprocessing import MinMaxScaler\n",
    "import numpy as np\n",
    "\n",
    "# Fetch the California housing dataset\n",
    "data = fetch_california_housing()\n",
    "\n",
    "xdata=data.data\n",
    "X_train, X_test, y_train, y_test = train_test_split(xdata, data.target, test_size=0.2, random_state=42)\n",
    "scaler_X = MinMaxScaler()\n",
    "X_train_scaled = scaler_X.fit_transform(X_train)\n",
    "X_test_scaled = scaler_X.transform(X_test)\n"
   ]
  },
  {
   "cell_type": "code",
   "execution_count": 17,
   "metadata": {},
   "outputs": [],
   "source": [
    "import time as t\n",
    "from sklearn.metrics import r2_score, mean_squared_error\n",
    "import pandas as pd\n",
    "def trainAndreport(name,model):\n",
    "    model.fit(X_train_scaled, y_train)\n",
    "    \n",
    "    ## Predict on training set\n",
    "    #y_train_pred_scaled = model.predict(X_train_scaled)\n",
    "    #y_train_pred = scaler_y.inverse_transform(y_train_pred_scaled.reshape(-1,1))\n",
    "        \n",
    "    ## Calculate R2 and RMSE for training set\n",
    "    #train_r2 = r2_score(y_train, y_train_pred)\n",
    "    #train_rmse = mean_squared_error(y_train, y_train_pred, squared=False)\n",
    "        \n",
    "    # Predict on test set\n",
    "    y_test_pred = model.predict(X_test_scaled)\n",
    "        \n",
    "    # Calculate R2 and RMSE for test set\n",
    "    test_r2 = r2_score(y_test, y_test_pred)\n",
    "    test_rmse = mean_squared_error(y_test, y_test_pred, squared=False)\n",
    "    \n",
    "    y_test_pred=np.reshape(y_test_pred,(y_test_pred.shape[0],))\n",
    "    start_time=t.time()\n",
    "    solution,solution_fitness, ga_instance=GA_UQ.GA_UQ(y_test_pred,y_test)\n",
    "    ga_duration=t.time()-start_time\n",
    "    \n",
    "    start_time=t.time()\n",
    "    pos,cost,optimizer=PSO_UQ.PSO_UQ(y_test_pred,y_test)\n",
    "    pso_duration=t.time()-start_time\n",
    "    \n",
    "        \n",
    "    # Store results in a dictionary\n",
    "    result = {\n",
    "            \"Model\": name,\n",
    "            #\"Train R2\": train_r2,\n",
    "            #\"Train RMSE\": train_rmse,\n",
    "            \"R2\": test_r2,\n",
    "            \"RMSE\": test_rmse,\n",
    "            \"a_PSO\":pos[0],\n",
    "            \"b_PSO\":pos[1],\n",
    "            \"cost_PSO\":cost,\n",
    "            \"time_PSO\":pso_duration,\n",
    "            \"a_GA\":solution[0],\n",
    "            \"b_GA\":solution[1],\n",
    "            \"cost_GA\":solution_fitness,\n",
    "            \"time_GA\":ga_duration\n",
    "    }\n",
    "    results.append(result)\n",
    "    print(result)\n",
    "    "
   ]
  },
  {
   "cell_type": "code",
   "execution_count": 18,
   "metadata": {},
   "outputs": [],
   "source": [
    "results = []"
   ]
  },
  {
   "cell_type": "code",
   "execution_count": 19,
   "metadata": {},
   "outputs": [
    {
     "data": {
      "text/html": [
       "<style>#sk-container-id-2 {color: black;}#sk-container-id-2 pre{padding: 0;}#sk-container-id-2 div.sk-toggleable {background-color: white;}#sk-container-id-2 label.sk-toggleable__label {cursor: pointer;display: block;width: 100%;margin-bottom: 0;padding: 0.3em;box-sizing: border-box;text-align: center;}#sk-container-id-2 label.sk-toggleable__label-arrow:before {content: \"▸\";float: left;margin-right: 0.25em;color: #696969;}#sk-container-id-2 label.sk-toggleable__label-arrow:hover:before {color: black;}#sk-container-id-2 div.sk-estimator:hover label.sk-toggleable__label-arrow:before {color: black;}#sk-container-id-2 div.sk-toggleable__content {max-height: 0;max-width: 0;overflow: hidden;text-align: left;background-color: #f0f8ff;}#sk-container-id-2 div.sk-toggleable__content pre {margin: 0.2em;color: black;border-radius: 0.25em;background-color: #f0f8ff;}#sk-container-id-2 input.sk-toggleable__control:checked~div.sk-toggleable__content {max-height: 200px;max-width: 100%;overflow: auto;}#sk-container-id-2 input.sk-toggleable__control:checked~label.sk-toggleable__label-arrow:before {content: \"▾\";}#sk-container-id-2 div.sk-estimator input.sk-toggleable__control:checked~label.sk-toggleable__label {background-color: #d4ebff;}#sk-container-id-2 div.sk-label input.sk-toggleable__control:checked~label.sk-toggleable__label {background-color: #d4ebff;}#sk-container-id-2 input.sk-hidden--visually {border: 0;clip: rect(1px 1px 1px 1px);clip: rect(1px, 1px, 1px, 1px);height: 1px;margin: -1px;overflow: hidden;padding: 0;position: absolute;width: 1px;}#sk-container-id-2 div.sk-estimator {font-family: monospace;background-color: #f0f8ff;border: 1px dotted black;border-radius: 0.25em;box-sizing: border-box;margin-bottom: 0.5em;}#sk-container-id-2 div.sk-estimator:hover {background-color: #d4ebff;}#sk-container-id-2 div.sk-parallel-item::after {content: \"\";width: 100%;border-bottom: 1px solid gray;flex-grow: 1;}#sk-container-id-2 div.sk-label:hover label.sk-toggleable__label {background-color: #d4ebff;}#sk-container-id-2 div.sk-serial::before {content: \"\";position: absolute;border-left: 1px solid gray;box-sizing: border-box;top: 0;bottom: 0;left: 50%;z-index: 0;}#sk-container-id-2 div.sk-serial {display: flex;flex-direction: column;align-items: center;background-color: white;padding-right: 0.2em;padding-left: 0.2em;position: relative;}#sk-container-id-2 div.sk-item {position: relative;z-index: 1;}#sk-container-id-2 div.sk-parallel {display: flex;align-items: stretch;justify-content: center;background-color: white;position: relative;}#sk-container-id-2 div.sk-item::before, #sk-container-id-2 div.sk-parallel-item::before {content: \"\";position: absolute;border-left: 1px solid gray;box-sizing: border-box;top: 0;bottom: 0;left: 50%;z-index: -1;}#sk-container-id-2 div.sk-parallel-item {display: flex;flex-direction: column;z-index: 1;position: relative;background-color: white;}#sk-container-id-2 div.sk-parallel-item:first-child::after {align-self: flex-end;width: 50%;}#sk-container-id-2 div.sk-parallel-item:last-child::after {align-self: flex-start;width: 50%;}#sk-container-id-2 div.sk-parallel-item:only-child::after {width: 0;}#sk-container-id-2 div.sk-dashed-wrapped {border: 1px dashed gray;margin: 0 0.4em 0.5em 0.4em;box-sizing: border-box;padding-bottom: 0.4em;background-color: white;}#sk-container-id-2 div.sk-label label {font-family: monospace;font-weight: bold;display: inline-block;line-height: 1.2em;}#sk-container-id-2 div.sk-label-container {text-align: center;}#sk-container-id-2 div.sk-container {/* jupyter's `normalize.less` sets `[hidden] { display: none; }` but bootstrap.min.css set `[hidden] { display: none !important; }` so we also need the `!important` here to be able to override the default hidden behavior on the sphinx rendered scikit-learn.org. See: https://github.com/scikit-learn/scikit-learn/issues/21755 */display: inline-block !important;position: relative;}#sk-container-id-2 div.sk-text-repr-fallback {display: none;}</style><div id=\"sk-container-id-2\" class=\"sk-top-container\"><div class=\"sk-text-repr-fallback\"><pre>LinearRegression()</pre><b>In a Jupyter environment, please rerun this cell to show the HTML representation or trust the notebook. <br />On GitHub, the HTML representation is unable to render, please try loading this page with nbviewer.org.</b></div><div class=\"sk-container\" hidden><div class=\"sk-item\"><div class=\"sk-estimator sk-toggleable\"><input class=\"sk-toggleable__control sk-hidden--visually\" id=\"sk-estimator-id-2\" type=\"checkbox\" checked><label for=\"sk-estimator-id-2\" class=\"sk-toggleable__label sk-toggleable__label-arrow\">LinearRegression</label><div class=\"sk-toggleable__content\"><pre>LinearRegression()</pre></div></div></div></div></div>"
      ],
      "text/plain": [
       "LinearRegression()"
      ]
     },
     "execution_count": 19,
     "metadata": {},
     "output_type": "execute_result"
    }
   ],
   "source": [
    "from sklearn.linear_model import LinearRegression\n",
    "model=LinearRegression()\n",
    "model.fit(X_train_scaled, y_train_scaled)\n",
    "    \n"
   ]
  },
  {
   "cell_type": "code",
   "execution_count": 20,
   "metadata": {},
   "outputs": [],
   "source": [
    "\n",
    "y_test_pred_scaled = model.predict(X_test_scaled)\n",
    "y_test_pred = scaler_y.inverse_transform(y_test_pred_scaled.reshape(-1,1))\n",
    "        \n"
   ]
  },
  {
   "cell_type": "code",
   "execution_count": 21,
   "metadata": {},
   "outputs": [
    {
     "data": {
      "text/plain": [
       "(4128, 1)"
      ]
     },
     "execution_count": 21,
     "metadata": {},
     "output_type": "execute_result"
    }
   ],
   "source": [
    "y_test_pred.shape"
   ]
  },
  {
   "cell_type": "code",
   "execution_count": 22,
   "metadata": {},
   "outputs": [],
   "source": [
    "y_test_pred=np.reshape(y_test_pred,(y_test_pred.shape[0],))"
   ]
  },
  {
   "cell_type": "code",
   "execution_count": 23,
   "metadata": {},
   "outputs": [
    {
     "name": "stderr",
     "output_type": "stream",
     "text": [
      "c:\\Users\\naima\\AppData\\Local\\Programs\\Python\\Python311\\Lib\\site-packages\\pygad\\pygad.py:748: UserWarning: The percentage of genes to mutate (mutation_percent_genes=10) resutled in selecting (0) genes. The number of genes to mutate is set to 1 (mutation_num_genes=1).\n",
      "If you do not want to mutate any gene, please set mutation_type=None.\n",
      "  warnings.warn(f\"The percentage of genes to mutate (mutation_percent_genes={mutation_percent_genes}) resutled in selecting ({mutation_num_genes}) genes. The number of genes to mutate is set to 1 (mutation_num_genes=1).\\nIf you do not want to mutate any gene, please set mutation_type=None.\")\n"
     ]
    }
   ],
   "source": [
    "    # Calculate R2 and RMSE for test set\n",
    "test_r2 = r2_score(y_test, y_test_pred)\n",
    "test_rmse = mean_squared_error(y_test, y_test_pred, squared=False)\n",
    "    \n",
    "y_test_pred=np.reshape(y_test_pred,(y_test_pred.shape[0],))\n",
    "start_time=t.time()\n",
    "solution,solution_fitness, ga_instance=GA_UQ.GA_UQ(y_test_pred,y_test)\n",
    "ga_duration=t.time()-start_time\n",
    "    \n",
    "start_time=t.time()\n",
    "pos,cost,optimizer=PSO_UQ.PSO_UQ(y_test_pred,y_test)\n",
    "pso_duration=t.time()-start_time\n",
    "    \n",
    "        \n",
    "# Store results in a dictionary\n",
    "result = {\n",
    "            \"Model\": name,\n",
    "            #\"Train R2\": train_r2,\n",
    "            #\"Train RMSE\": train_rmse,\n",
    "            \"R2\": test_r2,\n",
    "            \"RMSE\": test_rmse,\n",
    "            \"a_PSO\":pos[0],\n",
    "            \"b_PSO\":pos[1],\n",
    "            \"cost_PSO\":cost,\n",
    "            \"time_PSO\":pso_duration,\n",
    "            \"a_GA\":solution[0],\n",
    "            \"b_GA\":solution[1],\n",
    "            \"cost_GA\":solution_fitness,\n",
    "            \"time_GA\":ga_duration\n",
    "}\n",
    "results.append(result)\n",
    "print(result)"
   ]
  },
  {
   "cell_type": "code",
   "execution_count": null,
   "metadata": {},
   "outputs": [
    {
     "name": "stderr",
     "output_type": "stream",
     "text": [
      "c:\\Users\\naima\\AppData\\Local\\Programs\\Python\\Python311\\Lib\\site-packages\\pygad\\pygad.py:748: UserWarning: The percentage of genes to mutate (mutation_percent_genes=10) resutled in selecting (0) genes. The number of genes to mutate is set to 1 (mutation_num_genes=1).\n",
      "If you do not want to mutate any gene, please set mutation_type=None.\n",
      "  warnings.warn(f\"The percentage of genes to mutate (mutation_percent_genes={mutation_percent_genes}) resutled in selecting ({mutation_num_genes}) genes. The number of genes to mutate is set to 1 (mutation_num_genes=1).\\nIf you do not want to mutate any gene, please set mutation_type=None.\")\n",
      "2024-03-12 14:14:11,130 - pyswarms.single.global_best - INFO - Optimize for 1000 iters with {'c1': 0.5, 'c2': 0.3, 'w': 0.9}\n",
      "pyswarms.single.global_best: 100%|██████████|1000/1000, best_cost=-.241\n",
      "2024-03-12 14:14:45,899 - pyswarms.single.global_best - INFO - Optimization finished | best cost: -0.241043467440001, best pos: [1.16525362 0.53841399]\n"
     ]
    },
    {
     "name": "stdout",
     "output_type": "stream",
     "text": [
      "{'Model': 'Linear Regression', 'R2': 0.5757877060324512, 'RMSE': 0.745581383012776, 'a_PSO': 1.165253615890741, 'b_PSO': 0.5384139930726435, 'cost_PSO': -0.241043467440001, 'time_PSO': 34.770705699920654, 'a_GA': 1.1694159105185764, 'b_GA': 0.5673534839085925, 'cost_GA': 0.2410463570003849, 'time_GA': 7.5092363357543945}\n"
     ]
    }
   ],
   "source": [
    "from sklearn.linear_model import LinearRegression\n",
    "trainAndreport(\"Linear Regression\",LinearRegression())\n"
   ]
  },
  {
   "cell_type": "code",
   "execution_count": null,
   "metadata": {},
   "outputs": [
    {
     "name": "stderr",
     "output_type": "stream",
     "text": [
      "c:\\Users\\naima\\AppData\\Local\\Programs\\Python\\Python311\\Lib\\site-packages\\sklearn\\utils\\validation.py:1183: DataConversionWarning: A column-vector y was passed when a 1d array was expected. Please change the shape of y to (n_samples, ), for example using ravel().\n",
      "  y = column_or_1d(y, warn=True)\n",
      "c:\\Users\\naima\\AppData\\Local\\Programs\\Python\\Python311\\Lib\\site-packages\\pygad\\pygad.py:748: UserWarning: The percentage of genes to mutate (mutation_percent_genes=10) resutled in selecting (0) genes. The number of genes to mutate is set to 1 (mutation_num_genes=1).\n",
      "If you do not want to mutate any gene, please set mutation_type=None.\n",
      "  warnings.warn(f\"The percentage of genes to mutate (mutation_percent_genes={mutation_percent_genes}) resutled in selecting ({mutation_num_genes}) genes. The number of genes to mutate is set to 1 (mutation_num_genes=1).\\nIf you do not want to mutate any gene, please set mutation_type=None.\")\n",
      "2024-03-12 14:14:58,609 - pyswarms.single.global_best - INFO - Optimize for 1000 iters with {'c1': 0.5, 'c2': 0.3, 'w': 0.9}\n",
      "pyswarms.single.global_best: 100%|██████████|1000/1000, best_cost=-.267\n",
      "2024-03-12 14:15:33,907 - pyswarms.single.global_best - INFO - Optimization finished | best cost: -0.2669407044187988, best pos: [0.95549427 0.66894662]\n"
     ]
    },
    {
     "name": "stdout",
     "output_type": "stream",
     "text": [
      "{'Model': 'SVR', 'R2': 0.6617164675496388, 'RMSE': 0.6658001037203284, 'a_PSO': 0.9554942650901808, 'b_PSO': 0.6689466227397625, 'cost_PSO': -0.2669407044187988, 'time_PSO': 35.29808163642883, 'a_GA': 0.9430928424443663, 'b_GA': 0.5701370776831882, 'cost_GA': 0.2676715585637451, 'time_GA': 7.762918472290039}\n"
     ]
    }
   ],
   "source": [
    "from sklearn.svm import SVR\n",
    "trainAndreport(\"SVR\",SVR())\n"
   ]
  },
  {
   "cell_type": "code",
   "execution_count": null,
   "metadata": {},
   "outputs": [
    {
     "name": "stderr",
     "output_type": "stream",
     "text": [
      "c:\\Users\\naima\\AppData\\Local\\Programs\\Python\\Python311\\Lib\\site-packages\\sklearn\\base.py:1152: DataConversionWarning: A column-vector y was passed when a 1d array was expected. Please change the shape of y to (n_samples,), for example using ravel().\n",
      "  return fit_method(estimator, *args, **kwargs)\n",
      "c:\\Users\\naima\\AppData\\Local\\Programs\\Python\\Python311\\Lib\\site-packages\\pygad\\pygad.py:748: UserWarning: The percentage of genes to mutate (mutation_percent_genes=10) resutled in selecting (0) genes. The number of genes to mutate is set to 1 (mutation_num_genes=1).\n",
      "If you do not want to mutate any gene, please set mutation_type=None.\n",
      "  warnings.warn(f\"The percentage of genes to mutate (mutation_percent_genes={mutation_percent_genes}) resutled in selecting ({mutation_num_genes}) genes. The number of genes to mutate is set to 1 (mutation_num_genes=1).\\nIf you do not want to mutate any gene, please set mutation_type=None.\")\n",
      "2024-03-12 14:16:11,396 - pyswarms.single.global_best - INFO - Optimize for 1000 iters with {'c1': 0.5, 'c2': 0.3, 'w': 0.9}\n",
      "pyswarms.single.global_best: 100%|██████████|1000/1000, best_cost=-.337\n",
      "2024-03-12 14:16:47,364 - pyswarms.single.global_best - INFO - Optimization finished | best cost: -0.33677251918036977, best pos: [0.67616485 0.47479567]\n"
     ]
    },
    {
     "name": "stdout",
     "output_type": "stream",
     "text": [
      "{'Model': 'Random Forest', 'R2': 0.8050674236194929, 'RMSE': 0.5054121073348425, 'a_PSO': 0.6761648482068381, 'b_PSO': 0.47479567425101726, 'cost_PSO': -0.33677251918036977, 'time_PSO': 35.967894315719604, 'a_GA': 0.606250736198326, 'b_GA': 0.46537792738492456, 'cost_GA': 0.3354202295390996, 'time_GA': 7.713451147079468}\n"
     ]
    }
   ],
   "source": [
    "from sklearn.ensemble import RandomForestRegressor\n",
    "trainAndreport(\"Random Forest\", RandomForestRegressor())"
   ]
  },
  {
   "cell_type": "code",
   "execution_count": null,
   "metadata": {},
   "outputs": [
    {
     "name": "stderr",
     "output_type": "stream",
     "text": [
      "c:\\Users\\naima\\AppData\\Local\\Programs\\Python\\Python311\\Lib\\site-packages\\sklearn\\ensemble\\_gb.py:424: DataConversionWarning: A column-vector y was passed when a 1d array was expected. Please change the shape of y to (n_samples, ), for example using ravel().\n",
      "  y = column_or_1d(y, warn=True)\n",
      "c:\\Users\\naima\\AppData\\Local\\Programs\\Python\\Python311\\Lib\\site-packages\\pygad\\pygad.py:748: UserWarning: The percentage of genes to mutate (mutation_percent_genes=10) resutled in selecting (0) genes. The number of genes to mutate is set to 1 (mutation_num_genes=1).\n",
      "If you do not want to mutate any gene, please set mutation_type=None.\n",
      "  warnings.warn(f\"The percentage of genes to mutate (mutation_percent_genes={mutation_percent_genes}) resutled in selecting ({mutation_num_genes}) genes. The number of genes to mutate is set to 1 (mutation_num_genes=1).\\nIf you do not want to mutate any gene, please set mutation_type=None.\")\n",
      "2024-03-12 14:17:01,147 - pyswarms.single.global_best - INFO - Optimize for 1000 iters with {'c1': 0.5, 'c2': 0.3, 'w': 0.9}\n",
      "pyswarms.single.global_best: 100%|██████████|1000/1000, best_cost=-.301\n",
      "2024-03-12 14:17:36,417 - pyswarms.single.global_best - INFO - Optimization finished | best cost: -0.3005859394388513, best pos: [0.80286292 0.41159118]\n"
     ]
    },
    {
     "name": "stdout",
     "output_type": "stream",
     "text": [
      "{'Model': 'GradientBoostingRegressor', 'R2': 0.7752317337823644, 'RMSE': 0.5427138786462258, 'a_PSO': 0.8028629171545824, 'b_PSO': 0.41159117777634435, 'cost_PSO': -0.3005859394388513, 'time_PSO': 35.27264666557312, 'a_GA': 0.803526781046493, 'b_GA': 0.5474904577748196, 'cost_GA': 0.30322670136972807, 'time_GA': 7.915332078933716}\n"
     ]
    }
   ],
   "source": [
    "from sklearn.ensemble import GradientBoostingRegressor\n",
    "trainAndreport(\"GradientBoostingRegressor\", GradientBoostingRegressor())"
   ]
  },
  {
   "cell_type": "code",
   "execution_count": null,
   "metadata": {},
   "outputs": [
    {
     "ename": "NameError",
     "evalue": "name 'results' is not defined",
     "output_type": "error",
     "traceback": [
      "\u001b[1;31m---------------------------------------------------------------------------\u001b[0m",
      "\u001b[1;31mNameError\u001b[0m                                 Traceback (most recent call last)",
      "Cell \u001b[1;32mIn[13], line 3\u001b[0m\n\u001b[0;32m      1\u001b[0m \u001b[38;5;66;03m# Create a DataFrame to display results\u001b[39;00m\n\u001b[0;32m      2\u001b[0m \u001b[38;5;28;01mimport\u001b[39;00m \u001b[38;5;21;01mpandas\u001b[39;00m \u001b[38;5;28;01mas\u001b[39;00m \u001b[38;5;21;01mpd\u001b[39;00m\n\u001b[1;32m----> 3\u001b[0m results_df \u001b[38;5;241m=\u001b[39m pd\u001b[38;5;241m.\u001b[39mDataFrame(\u001b[43mresults\u001b[49m)\n\u001b[0;32m      4\u001b[0m results_df\u001b[38;5;241m.\u001b[39mround(\u001b[38;5;241m3\u001b[39m)\n\u001b[0;32m      5\u001b[0m \u001b[38;5;28mprint\u001b[39m(results_df)\n",
      "\u001b[1;31mNameError\u001b[0m: name 'results' is not defined"
     ]
    }
   ],
   "source": [
    "print(results_df.to_latex(index=False,float_format=\"{:.3f}\".format))"
   ]
  }
 ],
 "metadata": {
  "kernelspec": {
   "display_name": "Python 3",
   "language": "python",
   "name": "python3"
  },
  "language_info": {
   "codemirror_mode": {
    "name": "ipython",
    "version": 3
   },
   "file_extension": ".py",
   "mimetype": "text/x-python",
   "name": "python",
   "nbconvert_exporter": "python",
   "pygments_lexer": "ipython3",
   "version": "3.11.3"
  }
 },
 "nbformat": 4,
 "nbformat_minor": 2
}
